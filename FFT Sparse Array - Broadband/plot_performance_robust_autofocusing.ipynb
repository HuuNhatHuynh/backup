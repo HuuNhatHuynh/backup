{
 "cells": [
  {
   "cell_type": "code",
   "execution_count": 1,
   "id": "4901a41a",
   "metadata": {},
   "outputs": [],
   "source": [
    "import json\n",
    "import matplotlib.pyplot as plt\n",
    "plt.rcParams['figure.dpi'] = 200"
   ]
  },
  {
   "cell_type": "code",
   "execution_count": 2,
   "id": "e9a08a95",
   "metadata": {},
   "outputs": [
    {
     "ename": "FileNotFoundError",
     "evalue": "[Errno 2] No such file or directory: 'results_robust_autofocusing/results_0.0_db.json'",
     "output_type": "error",
     "traceback": [
      "\u001b[0;31m---------------------------------------------------------------------------\u001b[0m",
      "\u001b[0;31mFileNotFoundError\u001b[0m                         Traceback (most recent call last)",
      "Cell \u001b[0;32mIn[2], line 11\u001b[0m\n\u001b[1;32m      8\u001b[0m SNRs \u001b[38;5;241m=\u001b[39m [\u001b[38;5;241m0.0\u001b[39m, \u001b[38;5;241m5.0\u001b[39m, \u001b[38;5;241m10.0\u001b[39m, \u001b[38;5;241m15.0\u001b[39m, \u001b[38;5;241m20.0\u001b[39m, \u001b[38;5;241m25.0\u001b[39m]\n\u001b[1;32m     10\u001b[0m \u001b[38;5;28;01mfor\u001b[39;00m snr \u001b[38;5;129;01min\u001b[39;00m SNRs:\n\u001b[0;32m---> 11\u001b[0m     \u001b[38;5;28;01mwith\u001b[39;00m \u001b[38;5;28mopen\u001b[39m(\u001b[38;5;124m\"\u001b[39m\u001b[38;5;124mresults_robust_autofocusing/results_\u001b[39m\u001b[38;5;132;01m{}\u001b[39;00m\u001b[38;5;124m_db.json\u001b[39m\u001b[38;5;124m\"\u001b[39m\u001b[38;5;241m.\u001b[39mformat(snr), \u001b[38;5;124m\"\u001b[39m\u001b[38;5;124mr\u001b[39m\u001b[38;5;124m\"\u001b[39m) \u001b[38;5;28;01mas\u001b[39;00m f:\n\u001b[1;32m     12\u001b[0m         result \u001b[38;5;241m=\u001b[39m json\u001b[38;5;241m.\u001b[39mload(f)\n\u001b[1;32m     13\u001b[0m         \u001b[38;5;28;01mfor\u001b[39;00m key \u001b[38;5;129;01min\u001b[39;00m data\u001b[38;5;241m.\u001b[39mkeys():\n",
      "File \u001b[0;32m~/anaconda3/lib/python3.12/site-packages/IPython/core/interactiveshell.py:324\u001b[0m, in \u001b[0;36m_modified_open\u001b[0;34m(file, *args, **kwargs)\u001b[0m\n\u001b[1;32m    317\u001b[0m \u001b[38;5;28;01mif\u001b[39;00m file \u001b[38;5;129;01min\u001b[39;00m {\u001b[38;5;241m0\u001b[39m, \u001b[38;5;241m1\u001b[39m, \u001b[38;5;241m2\u001b[39m}:\n\u001b[1;32m    318\u001b[0m     \u001b[38;5;28;01mraise\u001b[39;00m \u001b[38;5;167;01mValueError\u001b[39;00m(\n\u001b[1;32m    319\u001b[0m         \u001b[38;5;124mf\u001b[39m\u001b[38;5;124m\"\u001b[39m\u001b[38;5;124mIPython won\u001b[39m\u001b[38;5;124m'\u001b[39m\u001b[38;5;124mt let you open fd=\u001b[39m\u001b[38;5;132;01m{\u001b[39;00mfile\u001b[38;5;132;01m}\u001b[39;00m\u001b[38;5;124m by default \u001b[39m\u001b[38;5;124m\"\u001b[39m\n\u001b[1;32m    320\u001b[0m         \u001b[38;5;124m\"\u001b[39m\u001b[38;5;124mas it is likely to crash IPython. If you know what you are doing, \u001b[39m\u001b[38;5;124m\"\u001b[39m\n\u001b[1;32m    321\u001b[0m         \u001b[38;5;124m\"\u001b[39m\u001b[38;5;124myou can use builtins\u001b[39m\u001b[38;5;124m'\u001b[39m\u001b[38;5;124m open.\u001b[39m\u001b[38;5;124m\"\u001b[39m\n\u001b[1;32m    322\u001b[0m     )\n\u001b[0;32m--> 324\u001b[0m \u001b[38;5;28;01mreturn\u001b[39;00m io_open(file, \u001b[38;5;241m*\u001b[39margs, \u001b[38;5;241m*\u001b[39m\u001b[38;5;241m*\u001b[39mkwargs)\n",
      "\u001b[0;31mFileNotFoundError\u001b[0m: [Errno 2] No such file or directory: 'results_robust_autofocusing/results_0.0_db.json'"
     ]
    }
   ],
   "source": [
    "data = {'Hexagonal Array - FFT': [], \n",
    "        'Hexagonal Array - MUSIC': [], \n",
    "        'Nested Array - FFT': [], \n",
    "        'Nested Array - MUSIC': [], \n",
    "        'Open Box Array - FFT': [], \n",
    "        'Open Box Array - MUSIC': []}\n",
    "\n",
    "SNRs = [0.0, 5.0, 10.0, 15.0, 20.0, 25.0]\n",
    "\n",
    "for snr in SNRs:\n",
    "    with open(\"results_robust_autofocusing/results_{}_db.json\".format(snr), \"r\") as f:\n",
    "        result = json.load(f)\n",
    "        for key in data.keys():\n",
    "            data[key].append(result[key])\n",
    "\n",
    "plt.plot(SNRs, data['Hexagonal Array - FFT'], label='Hexagonal array - FFT', color='tab:blue', marker='o')\n",
    "plt.plot(SNRs, data['Hexagonal Array - MUSIC'], label='Hexagonal array - MUSIC', color='tab:blue', marker='s')\n",
    "\n",
    "plt.plot(SNRs, data['Nested Array - FFT'], label='Nested array - FFT', color='tab:orange', marker='o')\n",
    "plt.plot(SNRs, data['Nested Array - MUSIC'], label='Nested array - MUSIC', color='tab:orange', marker='s')\n",
    "\n",
    "plt.plot(SNRs, data['Open Box Array - FFT'], label='Open box array - FFT', color='tab:green', marker='o')\n",
    "plt.plot(SNRs, data['Open Box Array - MUSIC'], label='Open box array - MUSIC', color='tab:green', marker='s')\n",
    "\n",
    "plt.xlabel('SNR (dB)')\n",
    "plt.ylabel('RMSPE (rad)')\n",
    "plt.title('Comparison of FFT and MUSIC Methods')\n",
    "plt.grid(True)\n",
    "plt.yscale('log')\n",
    "plt.legend()\n",
    "plt.xticks(SNRs)\n",
    "plt.tight_layout()\n",
    "plt.show()"
   ]
  }
 ],
 "metadata": {
  "kernelspec": {
   "display_name": "base",
   "language": "python",
   "name": "python3"
  },
  "language_info": {
   "codemirror_mode": {
    "name": "ipython",
    "version": 3
   },
   "file_extension": ".py",
   "mimetype": "text/x-python",
   "name": "python",
   "nbconvert_exporter": "python",
   "pygments_lexer": "ipython3",
   "version": "3.12.7"
  }
 },
 "nbformat": 4,
 "nbformat_minor": 5
}
