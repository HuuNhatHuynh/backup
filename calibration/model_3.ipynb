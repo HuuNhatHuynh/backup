{
 "cells": [
  {
   "cell_type": "code",
   "execution_count": 1,
   "metadata": {},
   "outputs": [],
   "source": [
    "import torch \n",
    "import torch.nn as nn\n",
    "import torch.optim as optim\n",
    "\n",
    "from torch.utils.data import DataLoader\n",
    "from sklearn.model_selection import train_test_split\n",
    "\n",
    "from utils import *\n",
    "from tqdm import tqdm\n",
    "\n",
    "dev = torch.device(\"cuda\" if torch.cuda.is_available() else \"cpu\")"
   ]
  },
  {
   "cell_type": "code",
   "execution_count": 2,
   "metadata": {},
   "outputs": [],
   "source": [
    "d = 3\n",
    "m = 8\n",
    "t = 200\n",
    "n = 50000\n",
    "snr = 25\n",
    "lamda = 0.1\n",
    "\n",
    "array = ArrayModel(m, lamda)\n",
    "\n",
    "observations, angles, perturbations_x, perturbations_y = generate_data(n, t, d, snr, array)"
   ]
  },
  {
   "cell_type": "code",
   "execution_count": 3,
   "metadata": {},
   "outputs": [],
   "source": [
    "class my_model(nn.Module): \n",
    "    \n",
    "    def __init__(self, m: int, d: int, device=dev):\n",
    "        \n",
    "        super().__init__()\n",
    "\n",
    "        self.m = m\n",
    "        self.d = d\n",
    "        self.device = device\n",
    "\n",
    "        self.bn = nn.BatchNorm1d(2*m, device=device)\n",
    "        self.rnn = nn.GRU(input_size=2*m, hidden_size=2*m, num_layers=1, batch_first=True, device=device)\n",
    "\n",
    "        self.mlp = nn.Sequential(nn.Linear(in_features=2*m, out_features=2*m*m, device=device), nn.ReLU(),\n",
    "                                 nn.Linear(in_features=2*m*m, out_features=2*m*m, device=device), nn.ReLU(),\n",
    "                                 nn.Linear(in_features=2*m*m, out_features=d, device=device))\n",
    "\n",
    "    def forward(self, x):\n",
    "        \n",
    "        x = torch.cat((torch.real(x), torch.imag(x)), dim=-1)\n",
    "        x = self.bn(x.transpose(1, 2)).transpose(1, 2)\n",
    "        _, x = self.rnn(x)\n",
    "        y = self.mlp(x[-1])\n",
    "\n",
    "        return y\n"
   ]
  },
  {
   "cell_type": "code",
   "execution_count": 4,
   "metadata": {},
   "outputs": [],
   "source": [
    "nbEpoches = 200\n",
    "lr = 5e-3\n",
    "wd = 1e-9\n",
    "batchSize = 256\n",
    "\n",
    "x_train, x_valid, theta_train, theta_valid, del_x_train, del_x_valid, del_y_train, del_y_valid = train_test_split(observations, angles, perturbations_x, perturbations_y, test_size=0.2)\n",
    "x_train, x_test, theta_train, theta_test, del_x_train, del_x_test, del_y_train, del_y_test = train_test_split(x_train, theta_train, del_x_train, del_y_train, test_size=0.2)\n",
    "\n",
    "train_set = DATASET(x_train, theta_train, del_x_train, del_y_train)\n",
    "valid_set = DATASET(x_valid, theta_valid, del_x_valid, del_y_valid)\n",
    "test_set = DATASET(x_test, theta_test, del_x_test, del_y_test)\n",
    "\n",
    "train_loader = DataLoader(train_set, batch_size=batchSize, shuffle=True)\n",
    "valid_loader = DataLoader(valid_set, batch_size=batchSize, shuffle=False)\n",
    "test_loader = DataLoader(test_set, batch_size=batchSize, shuffle=False)"
   ]
  },
  {
   "cell_type": "code",
   "execution_count": null,
   "metadata": {},
   "outputs": [],
   "source": [
    "model = my_model(m, d)\n",
    "optimizer = optim.Adam(model.parameters(), lr=lr, weight_decay=wd)\n",
    "Loss, Val = [], []\n",
    "bestVal = 1000\n",
    "\n",
    "for i in tqdm(range(nbEpoches)):\n",
    "    # Train\n",
    "    running_loss = 0.0\n",
    "    for data in train_loader:\n",
    "        X, theta_true, del_x_true, del_y_true = data[0].to(dev), data[1].to(dev), data[2].to(dev), data[3].to(dev)\n",
    "        optimizer.zero_grad()\n",
    "        theta_pred = model(X)\n",
    "        loss = RMSPE(theta_pred, theta_true) \n",
    "        loss.backward()\n",
    "        optimizer.step()\n",
    "        running_loss += loss.item()\n",
    "    \n",
    "    Loss.append(running_loss/len(train_loader))\n",
    "\n",
    "    # Validation \n",
    "    with torch.no_grad():\n",
    "        running_loss = 0.0\n",
    "        for data in valid_loader:\n",
    "            X, theta_true, del_x_true, del_y_true = data[0].to(dev), data[1].to(dev), data[2].to(dev), data[3].to(dev)\n",
    "            theta_pred = model(X)\n",
    "            loss = RMSPE(theta_pred, theta_true)\n",
    "            running_loss += loss.item()\n",
    "        \n",
    "        Val.append(running_loss/len(test_loader))\n",
    "\n",
    "        if Val[i] < bestVal:\n",
    "            bestVal = Val[i]\n",
    "            torch.save(model.state_dict(), 'model_3.pt')\n",
    "\n",
    "    print(\"Iteration {}: Loss = {}\".format(i, Loss[-1]))"
   ]
  },
  {
   "cell_type": "code",
   "execution_count": null,
   "metadata": {},
   "outputs": [],
   "source": [
    "model_test = my_model(m, d)\n",
    "model_test.load_state_dict(torch.load('model_3.pt', weights_only=True))\n",
    "with torch.no_grad():\n",
    "    running_loss = 0.0\n",
    "    for data in test_loader:\n",
    "        X, theta_true, del_x_true, del_y_true = data[0].to(dev), data[1].to(dev), data[2].to(dev), data[3].to(dev)\n",
    "        theta_pred = model_test(X)\n",
    "        loss = RMSPE(theta_pred, theta_true)\n",
    "        running_loss += loss.item()\n",
    "\n",
    "Acc = running_loss/len(test_loader)\n",
    "\n",
    "print(\"RMSE DoA = \", Acc)"
   ]
  }
 ],
 "metadata": {
  "kernelspec": {
   "display_name": "base",
   "language": "python",
   "name": "python3"
  },
  "language_info": {
   "codemirror_mode": {
    "name": "ipython",
    "version": 3
   },
   "file_extension": ".py",
   "mimetype": "text/x-python",
   "name": "python",
   "nbconvert_exporter": "python",
   "pygments_lexer": "ipython3",
   "version": "3.11.5"
  }
 },
 "nbformat": 4,
 "nbformat_minor": 2
}
