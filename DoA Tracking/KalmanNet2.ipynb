{
 "cells": [
  {
   "cell_type": "code",
   "execution_count": 5,
   "metadata": {},
   "outputs": [],
   "source": [
    "import torch \n",
    "from torch.utils.data import DataLoader\n",
    "import torch.optim as optim\n",
    "\n",
    "from utils import * \n",
    "from Kalman2 import *\n",
    "from KalmanNet2 import *\n",
    "from SubspaceTracker import *\n",
    "\n",
    "from sklearn.model_selection import train_test_split\n",
    "\n",
    "import matplotlib.pyplot as plt\n",
    "plt.rcParams['figure.dpi'] = 150\n",
    "\n",
    "dev = torch.device('cuda' if torch.cuda.is_available() else 'cpu')"
   ]
  },
  {
   "cell_type": "code",
   "execution_count": 6,
   "metadata": {},
   "outputs": [],
   "source": [
    "N = 1000\n",
    "D = 3\n",
    "M = 8\n",
    "SNR = 20\n",
    "\n",
    "array = ArrayModel(M, perturbation=0.0)\n",
    "\n",
    "T = 40\n",
    "Ts = 1\n",
    "Ns = 200\n",
    "\n",
    "batchSize = 256\n",
    "lr = 1e-3\n",
    "wd = 1e-9\n",
    "nbEpoches = 80"
   ]
  },
  {
   "cell_type": "code",
   "execution_count": 7,
   "metadata": {},
   "outputs": [],
   "source": [
    "X, y = generate_dataset(N=N, D=D, T=T, Ts=Ts, Ns=Ns, array=array, SNR=SNR)\n",
    "X_train, X_test, y_train, y_test = train_test_split(X, y, test_size=0.2)"
   ]
  },
  {
   "cell_type": "code",
   "execution_count": null,
   "metadata": {},
   "outputs": [],
   "source": [
    "net = KalmanNet(array=array, d=D, Ts=Ts, Ns=Ns, device=dev)\n",
    "train_loader = DataLoader(DATA(X_train, y_train, Ns=net.Ns), batch_size=batchSize, shuffle=True)\n",
    "opt = optim.Adam(params=net.parameters(), lr=lr, weight_decay=wd)\n",
    "\n",
    "Loss = []\n",
    "\n",
    "for i in range(nbEpoches):\n",
    "\n",
    "    running_loss = 0.0\n",
    "    for data in train_loader:\n",
    "        input, target = data[0].to(net.device), data[1].to(net.device)\n",
    "        opt.zero_grad()\n",
    "        pred = net(input)\n",
    "        loss = nn.MSELoss()(pred, target[:, 2:])\n",
    "        loss.backward()\n",
    "        # torch.nn.utils.clip_grad_norm_(net.parameters(), 1.0)\n",
    "        opt.step()\n",
    "        running_loss += loss.item()\n",
    "    Loss.append(running_loss/len(train_loader))\n",
    "    print(\"Loss {} is {}\".format(i, Loss[-1]))"
   ]
  },
  {
   "cell_type": "code",
   "execution_count": 5,
   "metadata": {},
   "outputs": [],
   "source": [
    "torch.save(net.state_dict(), 'model_state.pth')"
   ]
  }
 ],
 "metadata": {
  "kernelspec": {
   "display_name": "base",
   "language": "python",
   "name": "python3"
  },
  "language_info": {
   "codemirror_mode": {
    "name": "ipython",
    "version": 3
   },
   "file_extension": ".py",
   "mimetype": "text/x-python",
   "name": "python",
   "nbconvert_exporter": "python",
   "pygments_lexer": "ipython3",
   "version": "3.11.5"
  }
 },
 "nbformat": 4,
 "nbformat_minor": 2
}
