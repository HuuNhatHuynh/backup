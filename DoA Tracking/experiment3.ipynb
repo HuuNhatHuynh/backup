{
 "cells": [
  {
   "cell_type": "code",
   "execution_count": 9,
   "metadata": {},
   "outputs": [],
   "source": [
    "import torch \n",
    "from utils import *\n",
    "from Kalman3 import *\n",
    "import matplotlib.pyplot as plt\n",
    "\n",
    "plt.rcParams['figure.dpi'] = 150"
   ]
  },
  {
   "cell_type": "code",
   "execution_count": 10,
   "metadata": {},
   "outputs": [],
   "source": [
    "class ArrayModel:\n",
    "    \"\"\"\n",
    "    A class representing an antenna array model.\n",
    "\n",
    "    Args:\n",
    "        M (int): Number of sensors in the array.\n",
    "        perturbation (float, optional): Percent perturbation added to sensor positions.\n",
    "\n",
    "    Methods:\n",
    "        get_steering_vector(theta): Computes the steering vector for given angles.\n",
    "        get_steering_vector_derivative(theta): Computes the derivative of the steering vector.\n",
    "    \"\"\"\n",
    "\n",
    "    def __init__(self, m: int, perturbation: float = 0):\n",
    "        self.m = m\n",
    "        self.array = torch.arange(0, m, 1)\n",
    "        self.array = torch.arange(0, m, 1) + (torch.rand(m) * 2 - 1) * perturbation\n",
    "    \n",
    "    def get_steering_vector(self, theta: torch.Tensor) -> torch.Tensor:\n",
    "        \"\"\"\n",
    "        Compute the steering vector for the given incident angles.\n",
    "\n",
    "        Args:\n",
    "            theta (torch.Tensor): Incident angles of size (D) or (B, D).\n",
    "\n",
    "        Returns:\n",
    "            torch.Tensor: Steering vector of size (M, D) or (B, M, D).\n",
    "        \"\"\"\n",
    "        if len(theta.shape) == 1:\n",
    "            return torch.exp(-1j * torch.pi * self.array.reshape(-1, 1) * torch.sin(theta).reshape(1, -1))\n",
    "        elif len(theta.shape) == 2:\n",
    "            return torch.exp(-1j * torch.pi * self.array.reshape(1, -1, 1) * torch.sin(theta).unsqueeze(1))"
   ]
  },
  {
   "cell_type": "code",
   "execution_count": 11,
   "metadata": {},
   "outputs": [],
   "source": [
    "d = 2 # 2 sources\n",
    "m = 8 # 8 sensors\n",
    "SNR = 5 \n",
    "array = ArrayModel(m)\n",
    "\n",
    "T = 40.0 # Observation duration\n",
    "Ts = 1.0 # Sampling time \n",
    "time = torch.arange(0, T, Ts)\n",
    "t = time.shape[0]\n",
    "\n",
    "v1 = 1500 # speed of airplane 1\n",
    "x1 = -27000 + time * v1 # x coordinate of airplane 1\n",
    "y1 = torch.Tensor([27000]) # y coordinate of airplane 1\n",
    "theta1 = torch.atan2(x1, y1) # DoA of plane 1\n",
    "\n",
    "v2 = -1500 # speed of airplane 2\n",
    "x2 = 32000 + time * v2 # x coordinate of airplane 2\n",
    "y2 = torch.Tensor([30000]) # y coordinate of airplane 2\n",
    "theta2 = torch.atan2(x2, y2) # DoA of plane 2\n",
    "\n",
    "thetas = torch.stack((theta1, theta2), dim=1) # Matrix of DoA of shape (nbSamples x nbSources)"
   ]
  },
  {
   "cell_type": "code",
   "execution_count": 12,
   "metadata": {},
   "outputs": [],
   "source": [
    "alpha_abs = 0.99\n",
    "alpha_angle = torch.rand(d) * 2 * torch.pi\n",
    "alpha = alpha_abs * torch.exp(1j * alpha_angle)\n",
    "\n",
    "sigma = 0.01\n",
    "sigma_x = sigma / sqrt(1 - alpha_abs ** 2)\n",
    "sigma_noise = sigma_x / 10 ** (SNR / 20)\n",
    "\n",
    "x = torch.zeros(t, d, dtype=torch.complex64) # AR(1) model for sources, matrix of shape (nbSamples x nbSources)\n",
    "x[0] = (torch.randn(d) + 1j * torch.randn(d)) / sqrt(2) * sigma_x\n",
    "for i in range(1, t):\n",
    "    x[i] = alpha * x[i - 1] + (torch.randn(d) + 1j * torch.randn(d)) / sqrt(2) * sigma\n",
    "\n",
    "n = (torch.randn(t, m) + 1j * torch.randn(t, m)) / sqrt(2) * sigma_noise # noise in antenna array\n",
    "y = torch.einsum('tmd,td->tm', array.get_steering_vector(thetas), x) + n # observation used for tracking, matrix of shape (nbSamples x nbSensors)"
   ]
  },
  {
   "cell_type": "markdown",
   "metadata": {},
   "source": [
    "State vector\n",
    "\n",
    "$$\n",
    "\\mathbf{x}(k) = \\begin{bmatrix} \n",
    "\\theta_1(k) \\\\\n",
    "\\theta_2(k) \\\\\n",
    "\\dot{\\theta}_1(k) \\\\\n",
    "\\dot{\\theta}_2(k) \\\\\n",
    "\\Re\\{x_1(k)\\} \\\\\n",
    "\\Re\\{x_2(k)\\} \\\\\n",
    "\\Im\\{x_1(k)\\} \\\\\n",
    "\\Im\\{x_2(k)\\} \\\\\n",
    "\\end{bmatrix}\n",
    "$$\n",
    "\n",
    "Observation vector \n",
    "\n",
    "$$\n",
    "\\mathbf{y}(k) = \\begin{bmatrix} \n",
    "\\Re\\{y(k)\\} \\\\\n",
    "\\Im\\{y(k)\\} \\\\\n",
    "\\end{bmatrix}\n",
    "$$"
   ]
  },
  {
   "cell_type": "code",
   "execution_count": 13,
   "metadata": {},
   "outputs": [],
   "source": [
    "x_init = torch.cat((thetas[1], \n",
    "                   (thetas[1] - thetas[0]) / Ts, \n",
    "                    torch.real(x[1]), \n",
    "                    torch.imag(x[1])), dim=0) # defined exactly like the above equation\n",
    "\n",
    "P_init = torch.eye(4 * d) * 1\n",
    "\n",
    "Q = torch.cat((torch.cat((torch.kron(torch.Tensor([[Ts ** 3 / 3, Ts ** 2 / 2],\n",
    "                                                   [Ts ** 2 / 2, Ts]]), torch.eye(d)), \n",
    "                                                   torch.zeros(2 * d, 2 * d)), dim=1), \n",
    "               torch.cat((torch.zeros(2 * d, 2 * d), sigma * torch.eye(2*d)), dim=1)), dim=0) # noise matrix of dynamic equation\n",
    "\n",
    "R = torch.eye(2 * m) * sigma_noise # noise matrix of observation equation\n",
    "\n",
    "Filter = ExtendedKalmanFilter(array, d, Ts, alpha, x_init, P_init, Q, R)"
   ]
  },
  {
   "cell_type": "code",
   "execution_count": 14,
   "metadata": {},
   "outputs": [],
   "source": [
    "# results = [x_init[:d]]\n",
    "\n",
    "# for i in range(2, t):\n",
    "#     yi = torch.cat((torch.real(y[i]), torch.imag(y[i])), dim=0)\n",
    "#     results.append(Filter.step(yi))\n",
    "\n",
    "# results = torch.stack(results, dim=0)"
   ]
  },
  {
   "cell_type": "code",
   "execution_count": 15,
   "metadata": {},
   "outputs": [],
   "source": [
    "# plt.plot(time[1:], thetas[1:, 0], color='red', linewidth=0.5)\n",
    "# plt.plot(time[1:], thetas[1:, 1], color='green', linewidth=0.5)\n",
    "# plt.plot(time[1:], results[:, 0], color='red', marker='.', linewidth=0.5, markersize=1.0)\n",
    "# plt.plot(time[1:], results[:, 1], color='green', marker='.', linewidth=0.5, markersize=1.0)\n",
    "# plt.xlabel('time')\n",
    "# plt.ylabel('theta')\n",
    "# plt.ylim(-torch.pi/2, torch.pi/2)\n",
    "# plt.show()"
   ]
  }
 ],
 "metadata": {
  "kernelspec": {
   "display_name": "base",
   "language": "python",
   "name": "python3"
  },
  "language_info": {
   "codemirror_mode": {
    "name": "ipython",
    "version": 3
   },
   "file_extension": ".py",
   "mimetype": "text/x-python",
   "name": "python",
   "nbconvert_exporter": "python",
   "pygments_lexer": "ipython3",
   "version": "3.11.5"
  }
 },
 "nbformat": 4,
 "nbformat_minor": 2
}
