{
 "cells": [
  {
   "cell_type": "code",
   "execution_count": null,
   "metadata": {},
   "outputs": [],
   "source": [
    "import numpy as np \n",
    "import torch, matplotlib\n",
    "import matplotlib.pyplot as plt \n",
    "from scipy.ndimage import maximum_filter, label, generate_binary_structure\n",
    "\n",
    "from utils import *"
   ]
  },
  {
   "cell_type": "markdown",
   "metadata": {},
   "source": [
    "## 0. Experiment Settings\n",
    "\n",
    "- **Number of sources:** 7 \n",
    "- **Number of sensors:** 36\n",
    "- **Number of snapshots:** 1000  \n",
    "- **SNR:** 20 dB  \n",
    "- **Azimuth range:** $0$ to $\\pi$  \n",
    "- **Elevation range:** $0$ to $\\pi/2$  \n"
   ]
  },
  {
   "cell_type": "code",
   "execution_count": null,
   "metadata": {},
   "outputs": [],
   "source": [
    "d = 7\n",
    "t = 200\n",
    "snr = 10\n",
    "\n",
    "phi = torch.rand(d) * torch.pi # random azimuth angles\n",
    "theta = torch.rand(d) * torch.pi / 2 # random elevation angles\n",
    "\n",
    "source_std = torch.eye(d, dtype=torch.complex64)\n",
    "noise_std = torch.sqrt(torch.sum(torch.diag(source_std) ** 2)) * 10 ** (-snr/20)\n",
    "\n",
    "S = source_std @ torch.randn(d, t, dtype=torch.complex64) / sqrt(2) # sources signal"
   ]
  },
  {
   "cell_type": "markdown",
   "metadata": {},
   "source": [
    "## 1. Uniform Rectangular Array"
   ]
  },
  {
   "cell_type": "markdown",
   "metadata": {},
   "source": [
    "#### 1.1. Define Uniform Rectangular Array"
   ]
  },
  {
   "cell_type": "code",
   "execution_count": null,
   "metadata": {},
   "outputs": [],
   "source": [
    "lamda = 0.2\n",
    "min_distance = 0.1\n",
    "\n",
    "size_horizontal = 6\n",
    "size_vertical = 6\n",
    "\n",
    "ura = URA(lamda, min_distance, size_horizontal, size_vertical)\n",
    "ura.build_array_manifold()\n",
    "ura.plot()"
   ]
  },
  {
   "cell_type": "markdown",
   "metadata": {},
   "source": [
    "#### 1.2. Apply MUSIC for Uniform Rectangular Array"
   ]
  },
  {
   "cell_type": "code",
   "execution_count": null,
   "metadata": {},
   "outputs": [],
   "source": [
    "N1 = noise_std * torch.randn(ura.nbSensors, t) / sqrt(2)\n",
    "X1 = ura.get_steering_vector(phi, theta) @ S + N1\n",
    "\n",
    "cov = X1 @ X1.T.conj() / t\n",
    "vals, vecs = torch.linalg.eigh(cov)\n",
    "En = vecs[:, :-d]\n",
    "\n",
    "spectrum_ura = 1 / torch.norm(torch.einsum('mi,mjk->ijk', En.conj(), ura.array_manifold), dim=0) ** 2"
   ]
  },
  {
   "cell_type": "markdown",
   "metadata": {},
   "source": [
    "## 2. 2D Nested Array"
   ]
  },
  {
   "cell_type": "markdown",
   "metadata": {},
   "source": [
    "#### 2.1. Define 2D Nested Array"
   ]
  },
  {
   "cell_type": "code",
   "execution_count": null,
   "metadata": {},
   "outputs": [],
   "source": [
    "levels_horizontal = [3, 3]\n",
    "levels_vertical = [3, 3]\n",
    "\n",
    "na = NestedArray2D(lamda, min_distance, levels_horizontal, levels_vertical)\n",
    "na.build_array_manifold()\n",
    "na.plot()"
   ]
  },
  {
   "cell_type": "markdown",
   "metadata": {},
   "source": [
    "#### 2.2. Apply MUSIC for 2D Nested Array"
   ]
  },
  {
   "cell_type": "code",
   "execution_count": null,
   "metadata": {},
   "outputs": [],
   "source": [
    "N2 = noise_std * torch.randn(na.nbSensors, t) / sqrt(2)\n",
    "X2 = na.get_steering_vector(phi, theta) @ S + N2\n",
    "\n",
    "cov = X2 @ X2.T.conj() / t\n",
    "vals, vecs = torch.linalg.eigh(cov)\n",
    "En = vecs[:, :-d]\n",
    "\n",
    "spectrum_na = 1 / torch.norm(torch.einsum('mi,mjk->ijk', En.conj(), na.array_manifold), dim=0) ** 2"
   ]
  },
  {
   "cell_type": "markdown",
   "metadata": {},
   "source": [
    "## 3. Open Box Array"
   ]
  },
  {
   "cell_type": "markdown",
   "metadata": {},
   "source": [
    "#### 3.1 Define Open Box Array"
   ]
  },
  {
   "cell_type": "code",
   "execution_count": null,
   "metadata": {},
   "outputs": [],
   "source": [
    "size_horizontal_oba = 16\n",
    "size_vertical_oba = 11\n",
    "\n",
    "oba = OpenBoxArray(lamda, min_distance, size_horizontal_oba, size_vertical_oba)\n",
    "oba.build_array_manifold()\n",
    "oba.plot()"
   ]
  },
  {
   "cell_type": "markdown",
   "metadata": {},
   "source": [
    "#### 3.2 Apply MUSIC for Open Box Array"
   ]
  },
  {
   "cell_type": "code",
   "execution_count": null,
   "metadata": {},
   "outputs": [],
   "source": [
    "N3 = noise_std * torch.randn(oba.nbSensors, t) / sqrt(2)\n",
    "X3 = oba.get_steering_vector(phi, theta) @ S + N3\n",
    "\n",
    "cov = X3 @ X3.T.conj() / t\n",
    "vals, vecs = torch.linalg.eigh(cov)\n",
    "En = vecs[:, :-d]\n",
    "\n",
    "spectrum_oba = 1 / torch.norm(torch.einsum('mi,mjk->ijk', En.conj(), oba.array_manifold), dim=0) ** 2"
   ]
  },
  {
   "cell_type": "markdown",
   "metadata": {},
   "source": [
    "## 4. Half Open Box Array"
   ]
  },
  {
   "cell_type": "markdown",
   "metadata": {},
   "source": [
    "#### 4.1. Define Half Open Box Array"
   ]
  },
  {
   "cell_type": "code",
   "execution_count": null,
   "metadata": {},
   "outputs": [],
   "source": [
    "size_horizontal_hoba = 16\n",
    "size_vertical_hoba = 11\n",
    "\n",
    "hoba = HalfOpenBoxArray(lamda, min_distance, size_horizontal_hoba, size_vertical_hoba)\n",
    "hoba.build_array_manifold()\n",
    "hoba.plot()"
   ]
  },
  {
   "cell_type": "markdown",
   "metadata": {},
   "source": [
    "#### 4.2 Apply MUSIC for Half Open Box Array"
   ]
  },
  {
   "cell_type": "code",
   "execution_count": null,
   "metadata": {},
   "outputs": [],
   "source": [
    "N4 = noise_std * torch.randn(oba.nbSensors, t) / sqrt(2)\n",
    "X4 = hoba.get_steering_vector(phi, theta) @ S + N4\n",
    "\n",
    "cov = X4 @ X4.T.conj() / t\n",
    "vals, vecs = torch.linalg.eigh(cov)\n",
    "En = vecs[:, :-d]\n",
    "\n",
    "spectrum_hoba = 1 / torch.norm(torch.einsum('mi,mjk->ijk', En.conj(), hoba.array_manifold), dim=0) ** 2"
   ]
  },
  {
   "cell_type": "markdown",
   "metadata": {},
   "source": [
    "## 5. Hexagonal Lattice Array "
   ]
  },
  {
   "cell_type": "markdown",
   "metadata": {},
   "source": [
    "#### 5.1. Define Hexagonal Lattice Array "
   ]
  },
  {
   "cell_type": "code",
   "execution_count": null,
   "metadata": {},
   "outputs": [],
   "source": [
    "size_radius = 4\n",
    "\n",
    "hla = HexagonalLatticeArray(lamda, min_distance*sqrt(2), size_radius)\n",
    "hla.build_array_manifold()\n",
    "hla.plot()"
   ]
  },
  {
   "cell_type": "markdown",
   "metadata": {},
   "source": [
    "#### 5.2. Apply MUSIC for Hexagonal Lattice Array"
   ]
  },
  {
   "cell_type": "code",
   "execution_count": null,
   "metadata": {},
   "outputs": [],
   "source": [
    "N5 = noise_std * torch.randn(hla.nbSensors, t) / sqrt(2)\n",
    "X5 = hla.get_steering_vector(phi, theta) @ S + N5\n",
    "\n",
    "cov = X5 @ X5.T.conj() / t\n",
    "vals, vecs = torch.linalg.eigh(cov)\n",
    "En = vecs[:, :-d]\n",
    "\n",
    "spectrum_hla = 1 / torch.norm(torch.einsum('mi,mjk->ijk', En.conj(), hla.array_manifold), dim=0) ** 2"
   ]
  },
  {
   "cell_type": "code",
   "execution_count": null,
   "metadata": {},
   "outputs": [],
   "source": [
    "size_radius = 6\n",
    "\n",
    "ohla = OpenHexagonalLatticeArray(lamda, min_distance*sqrt(2), size_radius)\n",
    "ohla.build_array_manifold()\n",
    "ohla.plot()"
   ]
  },
  {
   "cell_type": "code",
   "execution_count": null,
   "metadata": {},
   "outputs": [],
   "source": [
    "N6 = noise_std * torch.randn(ohla.nbSensors, t) / sqrt(2)\n",
    "X6 = ohla.get_steering_vector(phi, theta) @ S + N6\n",
    "\n",
    "cov = X6 @ X6.T.conj() / t\n",
    "vals, vecs = torch.linalg.eigh(cov)\n",
    "En = vecs[:, :-d]\n",
    "\n",
    "spectrum_ohla = 1 / torch.norm(torch.einsum('mi,mjk->ijk', En.conj(), ohla.array_manifold), dim=0) ** 2"
   ]
  },
  {
   "cell_type": "markdown",
   "metadata": {},
   "source": [
    "## 6. Plot Results"
   ]
  },
  {
   "cell_type": "code",
   "execution_count": null,
   "metadata": {},
   "outputs": [],
   "source": [
    "fig, axes = plt.subplots(3, 2, figsize=(15, 12))\n",
    "\n",
    "plot_MUSIC_spectrum(fig, axes[0, 0], \"Uniform Rectangular Array\", spectrum_ura, ura.phi_space, ura.theta_space, phi, theta)\n",
    "plot_MUSIC_spectrum(fig, axes[0, 1], \"2D Nested Array\", spectrum_na, na.phi_space, na.theta_space, phi, theta)\n",
    "plot_MUSIC_spectrum(fig, axes[1, 0], \"Open Box Array\", spectrum_oba, oba.phi_space, oba.theta_space, phi, theta)\n",
    "plot_MUSIC_spectrum(fig, axes[1, 1], \"Half Open Box Array\", spectrum_hoba, hoba.phi_space, hoba.theta_space, phi, theta)\n",
    "plot_MUSIC_spectrum(fig, axes[2, 0], \"Hexagonal Lattice Array\", spectrum_hla, hla.phi_space, hla.theta_space, phi, theta)\n",
    "plot_MUSIC_spectrum(fig, axes[2, 1], \"Open Hexagonal Lattice Array\", spectrum_ohla, ohla.phi_space, ohla.theta_space, phi, theta)\n",
    "\n",
    "plt.tight_layout()\n",
    "plt.show()"
   ]
  },
  {
   "cell_type": "markdown",
   "metadata": {},
   "source": [
    "## 7. Monte Carlo simulation"
   ]
  },
  {
   "cell_type": "code",
   "execution_count": null,
   "metadata": {},
   "outputs": [],
   "source": [
    "d = 7\n",
    "t = 200\n",
    "mc = 1000\n",
    "SNRs = [0, 5, 10, 15, 20]\n",
    "\n",
    "methods = [\"URA\", \"2D Nested Array\", \"Open Box Array\", \"Half Open Box Array\", \"Hexagonal Lattice Array\"]\n",
    "values = {\n",
    "    \"URA\": [],\n",
    "    \"2D Nested Array\": [],\n",
    "    \"Open Box Array\": [],\n",
    "    \"Half Open Box Array\": [],\n",
    "    \"Hexagonal Lattice Array\": []\n",
    "}\n",
    "\n",
    "rmspe = RMSPE(d)\n",
    "\n",
    "for snr in SNRs:\n",
    "\n",
    "    rmspe_ura, rmspe_na, rmspe_oba, rmspe_hoba, rmspe_hla = [], [], [], [], []\n",
    "\n",
    "    for _ in range(mc):\n",
    "\n",
    "        phi_true = generate_angles(d, 0, torch.pi)\n",
    "        theta_true = generate_angles(d, 0, torch.pi/2)\n",
    "\n",
    "        source_std = torch.eye(d, dtype=torch.complex64)\n",
    "        noise_std = torch.sqrt(torch.sum(torch.diag(source_std) ** 2)) * 10 ** (-snr/20)\n",
    "\n",
    "        S = source_std @ torch.randn(d, t, dtype=torch.complex64) / sqrt(2) \n",
    "\n",
    "        N1 = noise_std * torch.randn(ura.nbSensors, t) / sqrt(2)\n",
    "        X1 = ura.get_steering_vector(phi_true, theta_true) @ S + N1\n",
    "        phi_ura, theta_ura = MUSIC(X1, d, ura)\n",
    "        rmspe_ura.append(rmspe.calculate(phi_ura, theta_ura, phi_true, theta_true))\n",
    "\n",
    "        N2 = noise_std * torch.randn(na.nbSensors, t) / sqrt(2)\n",
    "        X2 = na.get_steering_vector(phi_true, theta_true) @ S + N2\n",
    "        phi_na, theta_na = MUSIC(X2, d, na)\n",
    "        rmspe_na.append(rmspe.calculate(phi_na, theta_na, phi_true, theta_true))\n",
    "\n",
    "        N3 = noise_std * torch.randn(oba.nbSensors, t) / sqrt(2)\n",
    "        X3 = oba.get_steering_vector(phi_true, theta_true) @ S + N3\n",
    "        phi_oba, theta_oba = MUSIC(X3, d, oba)\n",
    "        rmspe_oba.append(rmspe.calculate(phi_oba, theta_oba, phi_true, theta_true))\n",
    "\n",
    "        N4 = noise_std * torch.randn(hoba.nbSensors, t) / sqrt(2)\n",
    "        X4 = hoba.get_steering_vector(phi_true, theta_true) @ S + N4\n",
    "        phi_hoba, theta_hoba = MUSIC(X4, d, hoba)\n",
    "        rmspe_hoba.append(rmspe.calculate(phi_hoba, theta_hoba, phi_true, theta_true))\n",
    "\n",
    "        N5 = noise_std * torch.randn(hla.nbSensors, t) / sqrt(2)\n",
    "        X5 = hla.get_steering_vector(phi_true, theta_true) @ S + N5\n",
    "        phi_hla, theta_hla = MUSIC(X5, d, hla)\n",
    "        rmspe_hla.append(rmspe.calculate(phi_hla, theta_hla, phi_true, theta_true))\n",
    "\n",
    "    values['URA'].append(sum(rmspe_ura) / mc)\n",
    "    values['2D Nested Array'].append(sum(rmspe_na) / mc)\n",
    "    values['Open Box Array'].append(sum(rmspe_oba) / mc)\n",
    "    values['Half Open Box Array'].append(sum(rmspe_hoba) / mc)\n",
    "    values['Hexagonal Lattice Array'].append(sum(rmspe_hla) / mc)\n",
    "\n",
    "for method in methods:\n",
    "    plt.plot(SNRs, values[method], marker='o', label=method)\n",
    "\n",
    "plt.title(\"Performance Comparison Across SNR Levels\", fontsize=14)\n",
    "plt.xlabel(\"SNR (dB)\", fontsize=12)\n",
    "plt.ylabel(\"RMSPE (rad)\", fontsize=12)\n",
    "plt.xticks(SNRs)\n",
    "plt.grid(True, which=\"both\", linestyle=\"--\", linewidth=0.5)\n",
    "plt.legend(title=\"Methods\")\n",
    "plt.tight_layout()\n",
    "\n",
    "plt.show()"
   ]
  }
 ],
 "metadata": {
  "kernelspec": {
   "display_name": "torch-env",
   "language": "python",
   "name": "python3"
  },
  "language_info": {
   "codemirror_mode": {
    "name": "ipython",
    "version": 3
   },
   "file_extension": ".py",
   "mimetype": "text/x-python",
   "name": "python",
   "nbconvert_exporter": "python",
   "pygments_lexer": "ipython3",
   "version": "3.12.9"
  }
 },
 "nbformat": 4,
 "nbformat_minor": 2
}
