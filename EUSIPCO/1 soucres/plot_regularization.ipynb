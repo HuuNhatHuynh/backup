{
 "cells": [
  {
   "cell_type": "code",
   "execution_count": null,
   "metadata": {},
   "outputs": [],
   "source": [
    "import numpy as np\n",
    "import matplotlib.pyplot as plt\n",
    "from mpl_toolkits.mplot3d import Axes3D\n",
    "plt.rcParams['figure.dpi'] = 100"
   ]
  },
  {
   "cell_type": "markdown",
   "metadata": {},
   "source": [
    "Regularization term based on Thierry's idea:\n",
    "$$f(x, v_{\\min}, v_{\\max}, \\alpha, k) = \\mathbb{1}_{\\{x < v_{\\min}\\}} \\left( \\alpha (v_{\\min}-x) \\right)^{k}  + \\mathbb{1}_{\\{x > v_{\\max}\\}} \\left( \\alpha (x - v_{\\max}) \\right)^{k}$$\n",
    "\n",
    "Regularization term based on sigmoid activation:\n",
    "$$g(x, v_{\\min}, v_{\\max}, \\alpha) = \\frac{1}{1 + e^{\\alpha (x - v_{\\min})}} + \\frac{1}{1 + e^{-\\alpha (x - v_{\\max})}}$$"
   ]
  },
  {
   "cell_type": "code",
   "execution_count": null,
   "metadata": {},
   "outputs": [],
   "source": [
    "# Define the function\n",
    "def f(x, v_min: float, v_max: float, alpha: float = 20.0):\n",
    "    return 1 / (1 + np.exp(alpha*(x - v_min))) + 1 / (1 + np.exp(-alpha*(x-v_max)))\n",
    "\n",
    "def g(x, v_min: float, v_max: float, alpha: float = 2.0, k: int = 1):\n",
    "    return np.where(x < v_min, (alpha*(x - v_min)) ** (2*k), 0) + np.where(x > v_max, (alpha*(x - v_max)) ** (2*k), 0)\n",
    "\n",
    "x = np.linspace(-3, 3, 1000)\n",
    "y = f(x, -np.pi/2-0.3, np.pi/2+0.3)\n",
    "z = g(x, -np.pi/2, np.pi/2)\n",
    "\n",
    "# Plot the function\n",
    "plt.figure(figsize=(10, 5))\n",
    "plt.plot(x, y, color='b', label='sigmoid inspired indicator function')\n",
    "plt.plot(x, z, color='g', label='Thierry inspired indicator function')\n",
    "plt.vlines(np.array([-1, 1]) * np.pi/2, 0, 1.25, color='r', label='limit angle')\n",
    "plt.xlim(-3, 3)\n",
    "plt.xticks(ticks=[-np.pi/2, 0, np.pi/2], labels=[r\"$-\\frac{\\pi}{2}$\", r\"$0$\", r\"$\\frac{\\pi}{2}$\"])\n",
    "plt.ylim(0, 1.25)\n",
    "plt.legend()\n",
    "plt.grid()\n",
    "plt.show()"
   ]
  },
  {
   "cell_type": "markdown",
   "metadata": {},
   "source": [
    "Instead of:\n",
    "\n",
    "$$h(x) = \\text{mod}_{\\pi}(x)^2$$\n",
    "\n",
    "I propose to use the following loss function that takes into account the periodicity: \n",
    "$$h(x, \\alpha) = 1 - \\exp\\left(-\\alpha \\sin^2\\left(x\\right)\\right)$$"
   ]
  },
  {
   "cell_type": "code",
   "execution_count": null,
   "metadata": {},
   "outputs": [],
   "source": [
    "def loss_mod(x):\n",
    "    return np.abs((x + np.pi/2) % np.pi - np.pi/2)\n",
    "\n",
    "def loss_fourier(x):\n",
    "    nbCoefs = 20\n",
    "    sum = np.zeros_like(x)\n",
    "    for i in range(nbCoefs):\n",
    "        sum += np.cos(2*(2*i+1)*x)/(2*i+1)**2\n",
    "    y = 1/2 - sum*4/np.pi**2\n",
    "    return y\n",
    "\n",
    "def loss_func_periodic(x, alpha):\n",
    "    return 1 - np.exp(-alpha*np.sin(x)**2)\n",
    "\n",
    "alpha1 = 5.0\n",
    "alpha2 = 10.0\n",
    "\n",
    "x = np.linspace(-2*np.pi-0.5, 2*np.pi+0.5, 1000)\n",
    "\n",
    "l0 = loss_mod(x)\n",
    "l1 = loss_func_periodic(x, alpha=alpha1)\n",
    "l2 = loss_func_periodic(x, alpha=alpha2)\n",
    "plt.plot(x, l0, color='black', label='mod')\n",
    "plt.plot(x, l1, color='red', label=r\"$\\alpha={}$\".format(alpha1))\n",
    "plt.plot(x, l2, color='green', label=r\"$\\alpha={}$\".format(alpha2))\n",
    "plt.xticks(ticks=[-2*np.pi, -np.pi, 0, np.pi, 2*np.pi], labels=[r\"$-2\\pi$\", r\"$-\\pi$\", r\"$0$\", r\"$\\pi$\", r\"$2\\pi$\"])\n",
    "plt.legend()\n",
    "plt.show()"
   ]
  }
 ],
 "metadata": {
  "kernelspec": {
   "display_name": "base",
   "language": "python",
   "name": "python3"
  },
  "language_info": {
   "codemirror_mode": {
    "name": "ipython",
    "version": 3
   },
   "file_extension": ".py",
   "mimetype": "text/x-python",
   "name": "python",
   "nbconvert_exporter": "python",
   "pygments_lexer": "ipython3",
   "version": "3.11.5"
  }
 },
 "nbformat": 4,
 "nbformat_minor": 2
}
