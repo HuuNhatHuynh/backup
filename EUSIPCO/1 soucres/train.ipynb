{
 "cells": [
  {
   "cell_type": "code",
   "execution_count": 1,
   "metadata": {},
   "outputs": [],
   "source": [
    "%load_ext autoreload\n",
    "%autoreload 2"
   ]
  },
  {
   "cell_type": "code",
   "execution_count": 2,
   "metadata": {},
   "outputs": [],
   "source": [
    "import torch \n",
    "import torch.nn as nn\n",
    "import torch.optim as optim\n",
    "\n",
    "from torch.utils.data import DataLoader\n",
    "from sklearn.model_selection import train_test_split\n",
    "\n",
    "from utils import *\n",
    "from models import *\n",
    "from tqdm import tqdm\n",
    "\n",
    "dev = torch.device(\"cuda\" if torch.cuda.is_available() else \"cpu\")"
   ]
  },
  {
   "cell_type": "code",
   "execution_count": 3,
   "metadata": {},
   "outputs": [],
   "source": [
    "d = 1\n",
    "m = 8\n",
    "t = 200\n",
    "n = 20000\n",
    "snr = 20\n",
    "lamda = 0.2\n",
    "distance = 0.1\n",
    "qpsk = False\n",
    "coherent = False\n",
    "\n",
    "array = ULA(m, lamda)\n",
    "array.build_sensor_positions(distance)\n",
    "array.build_array_manifold()\n",
    "\n",
    "observations, angles = generate_data(n, t, d, snr, snr, array, qpsk, coherent)\n",
    "\n",
    "path = 'saved_models_rmspe/'"
   ]
  },
  {
   "cell_type": "code",
   "execution_count": 4,
   "metadata": {},
   "outputs": [],
   "source": [
    "nbEpoches = 300\n",
    "lr = 1e-2\n",
    "wd = 1e-8\n",
    "\n",
    "batchSize = 256\n",
    "\n",
    "x_train, x_valid, theta_train, theta_valid = train_test_split(observations, angles, test_size=0.3)\n",
    "\n",
    "train_set = DATASET(x_train, theta_train)\n",
    "valid_set = DATASET(x_valid, theta_valid)\n",
    "\n",
    "train_loader = DataLoader(train_set, batch_size=batchSize, shuffle=True)\n",
    "valid_loader = DataLoader(valid_set, batch_size=batchSize, shuffle=False)\n",
    "\n",
    "loss_func = RMSPE(d, device=dev)\n",
    "valid_func = RMSPE(d, device=dev)"
   ]
  },
  {
   "cell_type": "code",
   "execution_count": null,
   "metadata": {},
   "outputs": [
    {
     "name": "stderr",
     "output_type": "stream",
     "text": [
      "  0%|          | 1/300 [00:00<04:54,  1.02it/s]"
     ]
    },
    {
     "name": "stdout",
     "output_type": "stream",
     "text": [
      "Iteration 0: loss training = 0.3698294815692035, best validation = 0.14587475607792535\n"
     ]
    },
    {
     "name": "stderr",
     "output_type": "stream",
     "text": [
      "  1%|          | 2/300 [00:01<03:53,  1.28it/s]"
     ]
    },
    {
     "name": "stdout",
     "output_type": "stream",
     "text": [
      "Iteration 1: loss training = 0.09898306388746608, best validation = 0.07502245468397935\n"
     ]
    },
    {
     "name": "stderr",
     "output_type": "stream",
     "text": [
      "  1%|          | 3/300 [00:02<03:37,  1.37it/s]"
     ]
    },
    {
     "name": "stdout",
     "output_type": "stream",
     "text": [
      "Iteration 2: loss training = 0.06197048466313969, best validation = 0.0558865594988068\n"
     ]
    },
    {
     "name": "stderr",
     "output_type": "stream",
     "text": [
      "  1%|▏         | 4/300 [00:02<03:29,  1.42it/s]"
     ]
    },
    {
     "name": "stdout",
     "output_type": "stream",
     "text": [
      "Iteration 3: loss training = 0.049657447771592575, best validation = 0.04910156891370813\n"
     ]
    },
    {
     "name": "stderr",
     "output_type": "stream",
     "text": [
      "  2%|▏         | 5/300 [00:03<03:24,  1.44it/s]"
     ]
    },
    {
     "name": "stdout",
     "output_type": "stream",
     "text": [
      "Iteration 4: loss training = 0.04702989181334322, best validation = 0.04910156891370813\n"
     ]
    },
    {
     "name": "stderr",
     "output_type": "stream",
     "text": [
      "  2%|▏         | 6/300 [00:04<03:22,  1.45it/s]"
     ]
    },
    {
     "name": "stdout",
     "output_type": "stream",
     "text": [
      "Iteration 5: loss training = 0.046338633210821586, best validation = 0.03740186554690202\n"
     ]
    },
    {
     "name": "stderr",
     "output_type": "stream",
     "text": [
      "  2%|▏         | 7/300 [00:05<03:26,  1.42it/s]"
     ]
    },
    {
     "name": "stdout",
     "output_type": "stream",
     "text": [
      "Iteration 6: loss training = 0.044930400800975885, best validation = 0.03373897525792321\n"
     ]
    },
    {
     "name": "stderr",
     "output_type": "stream",
     "text": [
      "  3%|▎         | 8/300 [00:05<03:28,  1.40it/s]"
     ]
    },
    {
     "name": "stdout",
     "output_type": "stream",
     "text": [
      "Iteration 7: loss training = 0.048866064033725044, best validation = 0.03373897525792321\n"
     ]
    },
    {
     "name": "stderr",
     "output_type": "stream",
     "text": [
      "  3%|▎         | 9/300 [00:06<03:31,  1.38it/s]"
     ]
    },
    {
     "name": "stdout",
     "output_type": "stream",
     "text": [
      "Iteration 8: loss training = 0.03929733454503796, best validation = 0.02367080670470993\n"
     ]
    },
    {
     "name": "stderr",
     "output_type": "stream",
     "text": [
      "  3%|▎         | 10/300 [00:07<03:23,  1.43it/s]"
     ]
    },
    {
     "name": "stdout",
     "output_type": "stream",
     "text": [
      "Iteration 9: loss training = 0.04649439213628119, best validation = 0.02367080670470993\n"
     ]
    },
    {
     "name": "stderr",
     "output_type": "stream",
     "text": [
      "  4%|▎         | 11/300 [00:07<03:15,  1.48it/s]"
     ]
    },
    {
     "name": "stdout",
     "output_type": "stream",
     "text": [
      "Iteration 10: loss training = 0.044547797908837145, best validation = 0.02367080670470993\n"
     ]
    },
    {
     "name": "stderr",
     "output_type": "stream",
     "text": [
      "  4%|▍         | 12/300 [00:08<03:14,  1.48it/s]"
     ]
    },
    {
     "name": "stdout",
     "output_type": "stream",
     "text": [
      "Iteration 11: loss training = 0.04249945103444836, best validation = 0.02367080670470993\n"
     ]
    },
    {
     "name": "stderr",
     "output_type": "stream",
     "text": [
      "  4%|▍         | 13/300 [00:09<03:09,  1.51it/s]"
     ]
    },
    {
     "name": "stdout",
     "output_type": "stream",
     "text": [
      "Iteration 12: loss training = 0.04012210853397846, best validation = 0.021079281345009804\n"
     ]
    },
    {
     "name": "stderr",
     "output_type": "stream",
     "text": [
      "  5%|▍         | 14/300 [00:09<03:06,  1.53it/s]"
     ]
    },
    {
     "name": "stdout",
     "output_type": "stream",
     "text": [
      "Iteration 13: loss training = 0.020805951936001127, best validation = 0.01825864325898389\n"
     ]
    },
    {
     "name": "stderr",
     "output_type": "stream",
     "text": [
      "  5%|▌         | 15/300 [00:10<03:06,  1.53it/s]"
     ]
    },
    {
     "name": "stdout",
     "output_type": "stream",
     "text": [
      "Iteration 14: loss training = 0.021706127493896266, best validation = 0.01825864325898389\n"
     ]
    },
    {
     "name": "stderr",
     "output_type": "stream",
     "text": [
      "  5%|▌         | 16/300 [00:11<03:02,  1.56it/s]"
     ]
    },
    {
     "name": "stdout",
     "output_type": "stream",
     "text": [
      "Iteration 15: loss training = 0.022158213332295416, best validation = 0.01825864325898389\n"
     ]
    },
    {
     "name": "stderr",
     "output_type": "stream",
     "text": [
      "  6%|▌         | 17/300 [00:11<02:58,  1.59it/s]"
     ]
    },
    {
     "name": "stdout",
     "output_type": "stream",
     "text": [
      "Iteration 16: loss training = 0.023282989876514133, best validation = 0.01825864325898389\n"
     ]
    },
    {
     "name": "stderr",
     "output_type": "stream",
     "text": [
      "  6%|▌         | 18/300 [00:12<02:56,  1.60it/s]"
     ]
    },
    {
     "name": "stdout",
     "output_type": "stream",
     "text": [
      "Iteration 17: loss training = 0.01759787994352254, best validation = 0.01825864325898389\n"
     ]
    },
    {
     "name": "stderr",
     "output_type": "stream",
     "text": [
      "  6%|▋         | 19/300 [00:12<02:55,  1.60it/s]"
     ]
    },
    {
     "name": "stdout",
     "output_type": "stream",
     "text": [
      "Iteration 18: loss training = 0.02057157609273087, best validation = 0.017354198188210528\n"
     ]
    },
    {
     "name": "stderr",
     "output_type": "stream",
     "text": [
      "  7%|▋         | 20/300 [00:13<02:54,  1.61it/s]"
     ]
    },
    {
     "name": "stdout",
     "output_type": "stream",
     "text": [
      "Iteration 19: loss training = 0.02609350955621763, best validation = 0.016923628475827474\n"
     ]
    },
    {
     "name": "stderr",
     "output_type": "stream",
     "text": [
      "  7%|▋         | 21/300 [00:14<02:53,  1.60it/s]"
     ]
    },
    {
     "name": "stdout",
     "output_type": "stream",
     "text": [
      "Iteration 20: loss training = 0.024515284462408585, best validation = 0.015791315119713545\n"
     ]
    },
    {
     "name": "stderr",
     "output_type": "stream",
     "text": [
      "  7%|▋         | 22/300 [00:14<02:56,  1.57it/s]"
     ]
    },
    {
     "name": "stdout",
     "output_type": "stream",
     "text": [
      "Iteration 21: loss training = 0.02693446898324923, best validation = 0.015235422179102898\n"
     ]
    },
    {
     "name": "stderr",
     "output_type": "stream",
     "text": [
      "  8%|▊         | 23/300 [00:15<03:05,  1.49it/s]"
     ]
    },
    {
     "name": "stdout",
     "output_type": "stream",
     "text": [
      "Iteration 22: loss training = 0.029749461771412328, best validation = 0.015235422179102898\n"
     ]
    },
    {
     "name": "stderr",
     "output_type": "stream",
     "text": [
      "  8%|▊         | 24/300 [00:16<03:08,  1.46it/s]"
     ]
    },
    {
     "name": "stdout",
     "output_type": "stream",
     "text": [
      "Iteration 23: loss training = 0.02227344677190889, best validation = 0.015235422179102898\n"
     ]
    },
    {
     "name": "stderr",
     "output_type": "stream",
     "text": [
      "  8%|▊         | 25/300 [00:16<03:11,  1.43it/s]"
     ]
    },
    {
     "name": "stdout",
     "output_type": "stream",
     "text": [
      "Iteration 24: loss training = 0.02351063181730834, best validation = 0.015235422179102898\n"
     ]
    },
    {
     "name": "stderr",
     "output_type": "stream",
     "text": [
      "  9%|▊         | 26/300 [00:17<03:06,  1.47it/s]"
     ]
    },
    {
     "name": "stdout",
     "output_type": "stream",
     "text": [
      "Iteration 25: loss training = 0.020963058569891887, best validation = 0.014211876938740412\n"
     ]
    },
    {
     "name": "stderr",
     "output_type": "stream",
     "text": [
      "  9%|▉         | 27/300 [00:18<03:03,  1.49it/s]"
     ]
    },
    {
     "name": "stdout",
     "output_type": "stream",
     "text": [
      "Iteration 26: loss training = 0.022236301902342926, best validation = 0.014211876938740412\n"
     ]
    },
    {
     "name": "stderr",
     "output_type": "stream",
     "text": [
      "  9%|▉         | 28/300 [00:18<03:02,  1.49it/s]"
     ]
    },
    {
     "name": "stdout",
     "output_type": "stream",
     "text": [
      "Iteration 27: loss training = 0.016499182006174867, best validation = 0.014211876938740412\n"
     ]
    },
    {
     "name": "stderr",
     "output_type": "stream",
     "text": [
      " 10%|▉         | 29/300 [00:19<03:03,  1.47it/s]"
     ]
    },
    {
     "name": "stdout",
     "output_type": "stream",
     "text": [
      "Iteration 28: loss training = 0.025296766903590073, best validation = 0.014211876938740412\n"
     ]
    },
    {
     "name": "stderr",
     "output_type": "stream",
     "text": [
      " 10%|█         | 30/300 [00:20<03:09,  1.43it/s]"
     ]
    },
    {
     "name": "stdout",
     "output_type": "stream",
     "text": [
      "Iteration 29: loss training = 0.01693396026437933, best validation = 0.014211876938740412\n"
     ]
    },
    {
     "name": "stderr",
     "output_type": "stream",
     "text": [
      " 10%|█         | 31/300 [00:20<03:03,  1.47it/s]"
     ]
    },
    {
     "name": "stdout",
     "output_type": "stream",
     "text": [
      "Iteration 30: loss training = 0.010587427951395511, best validation = 0.0063646642956882715\n"
     ]
    },
    {
     "name": "stderr",
     "output_type": "stream",
     "text": [
      " 11%|█         | 32/300 [00:21<02:57,  1.51it/s]"
     ]
    },
    {
     "name": "stdout",
     "output_type": "stream",
     "text": [
      "Iteration 31: loss training = 0.005634440244598822, best validation = 0.005377467682895561\n"
     ]
    },
    {
     "name": "stderr",
     "output_type": "stream",
     "text": [
      " 11%|█         | 33/300 [00:22<02:53,  1.54it/s]"
     ]
    },
    {
     "name": "stdout",
     "output_type": "stream",
     "text": [
      "Iteration 32: loss training = 0.005509035111489621, best validation = 0.005377467682895561\n"
     ]
    },
    {
     "name": "stderr",
     "output_type": "stream",
     "text": [
      " 11%|█▏        | 34/300 [00:22<02:49,  1.57it/s]"
     ]
    },
    {
     "name": "stdout",
     "output_type": "stream",
     "text": [
      "Iteration 33: loss training = 0.005443539072505452, best validation = 0.0053160313206414385\n"
     ]
    },
    {
     "name": "stderr",
     "output_type": "stream",
     "text": [
      " 12%|█▏        | 35/300 [00:23<02:48,  1.57it/s]"
     ]
    },
    {
     "name": "stdout",
     "output_type": "stream",
     "text": [
      "Iteration 34: loss training = 0.005204795554957607, best validation = 0.0053160313206414385\n"
     ]
    },
    {
     "name": "stderr",
     "output_type": "stream",
     "text": [
      " 12%|█▏        | 36/300 [00:24<02:53,  1.53it/s]"
     ]
    },
    {
     "name": "stdout",
     "output_type": "stream",
     "text": [
      "Iteration 35: loss training = 0.005218081489544023, best validation = 0.005134700351239492\n"
     ]
    },
    {
     "name": "stderr",
     "output_type": "stream",
     "text": [
      " 12%|█▏        | 37/300 [00:24<02:55,  1.50it/s]"
     ]
    },
    {
     "name": "stdout",
     "output_type": "stream",
     "text": [
      "Iteration 36: loss training = 0.00516620214859193, best validation = 0.005134700351239492\n"
     ]
    },
    {
     "name": "stderr",
     "output_type": "stream",
     "text": [
      " 13%|█▎        | 38/300 [00:25<02:50,  1.53it/s]"
     ]
    },
    {
     "name": "stdout",
     "output_type": "stream",
     "text": [
      "Iteration 37: loss training = 0.005529780855233019, best validation = 0.005134700351239492\n"
     ]
    },
    {
     "name": "stderr",
     "output_type": "stream",
     "text": [
      " 13%|█▎        | 39/300 [00:26<02:47,  1.56it/s]"
     ]
    },
    {
     "name": "stdout",
     "output_type": "stream",
     "text": [
      "Iteration 38: loss training = 0.005179690874435685, best validation = 0.005134700351239492\n"
     ]
    },
    {
     "name": "stderr",
     "output_type": "stream",
     "text": [
      " 13%|█▎        | 40/300 [00:26<02:49,  1.53it/s]"
     ]
    },
    {
     "name": "stdout",
     "output_type": "stream",
     "text": [
      "Iteration 39: loss training = 0.00554915341463956, best validation = 0.005134700351239492\n"
     ]
    },
    {
     "name": "stderr",
     "output_type": "stream",
     "text": [
      " 14%|█▎        | 41/300 [00:27<02:45,  1.56it/s]"
     ]
    },
    {
     "name": "stdout",
     "output_type": "stream",
     "text": [
      "Iteration 40: loss training = 0.0056391305036165495, best validation = 0.005134700351239492\n"
     ]
    },
    {
     "name": "stderr",
     "output_type": "stream",
     "text": [
      " 14%|█▍        | 42/300 [00:28<02:45,  1.56it/s]"
     ]
    },
    {
     "name": "stdout",
     "output_type": "stream",
     "text": [
      "Iteration 41: loss training = 0.005550125986337662, best validation = 0.005134700351239492\n"
     ]
    },
    {
     "name": "stderr",
     "output_type": "stream",
     "text": [
      " 14%|█▍        | 43/300 [00:28<02:45,  1.55it/s]"
     ]
    },
    {
     "name": "stdout",
     "output_type": "stream",
     "text": [
      "Iteration 42: loss training = 0.005845432516864755, best validation = 0.005066139778743188\n"
     ]
    },
    {
     "name": "stderr",
     "output_type": "stream",
     "text": [
      " 15%|█▍        | 44/300 [00:29<02:46,  1.53it/s]"
     ]
    },
    {
     "name": "stdout",
     "output_type": "stream",
     "text": [
      "Iteration 43: loss training = 0.005569727744229815, best validation = 0.004760498840672274\n"
     ]
    },
    {
     "name": "stderr",
     "output_type": "stream",
     "text": [
      " 15%|█▌        | 45/300 [00:30<02:56,  1.45it/s]"
     ]
    },
    {
     "name": "stdout",
     "output_type": "stream",
     "text": [
      "Iteration 44: loss training = 0.005730290643193505, best validation = 0.004760498840672274\n"
     ]
    },
    {
     "name": "stderr",
     "output_type": "stream",
     "text": [
      " 15%|█▌        | 46/300 [00:30<02:55,  1.44it/s]"
     ]
    },
    {
     "name": "stdout",
     "output_type": "stream",
     "text": [
      "Iteration 45: loss training = 0.007394490526481108, best validation = 0.004760498840672274\n"
     ]
    },
    {
     "name": "stderr",
     "output_type": "stream",
     "text": [
      " 16%|█▌        | 47/300 [00:31<02:57,  1.43it/s]"
     ]
    },
    {
     "name": "stdout",
     "output_type": "stream",
     "text": [
      "Iteration 46: loss training = 0.006437658205289732, best validation = 0.004760498840672274\n"
     ]
    },
    {
     "name": "stderr",
     "output_type": "stream",
     "text": [
      " 16%|█▌        | 48/300 [00:32<02:58,  1.41it/s]"
     ]
    },
    {
     "name": "stdout",
     "output_type": "stream",
     "text": [
      "Iteration 47: loss training = 0.005542481432414868, best validation = 0.004760498840672274\n"
     ]
    },
    {
     "name": "stderr",
     "output_type": "stream",
     "text": [
      " 16%|█▋        | 49/300 [00:32<02:48,  1.49it/s]"
     ]
    },
    {
     "name": "stdout",
     "output_type": "stream",
     "text": [
      "Iteration 48: loss training = 0.005514570181681351, best validation = 0.004760498840672274\n"
     ]
    },
    {
     "name": "stderr",
     "output_type": "stream",
     "text": [
      " 17%|█▋        | 50/300 [00:33<02:42,  1.54it/s]"
     ]
    },
    {
     "name": "stdout",
     "output_type": "stream",
     "text": [
      "Iteration 49: loss training = 0.004829331394284963, best validation = 0.004760498840672274\n"
     ]
    },
    {
     "name": "stderr",
     "output_type": "stream",
     "text": [
      " 17%|█▋        | 51/300 [00:34<02:39,  1.56it/s]"
     ]
    },
    {
     "name": "stdout",
     "output_type": "stream",
     "text": [
      "Iteration 50: loss training = 0.004771194988015023, best validation = 0.004753822286147624\n"
     ]
    },
    {
     "name": "stderr",
     "output_type": "stream",
     "text": [
      " 17%|█▋        | 52/300 [00:34<02:39,  1.55it/s]"
     ]
    },
    {
     "name": "stdout",
     "output_type": "stream",
     "text": [
      "Iteration 51: loss training = 0.005585453117435629, best validation = 0.004753822286147624\n"
     ]
    },
    {
     "name": "stderr",
     "output_type": "stream",
     "text": [
      " 18%|█▊        | 53/300 [00:35<02:40,  1.54it/s]"
     ]
    },
    {
     "name": "stdout",
     "output_type": "stream",
     "text": [
      "Iteration 52: loss training = 0.005655074060301889, best validation = 0.004753822286147624\n"
     ]
    },
    {
     "name": "stderr",
     "output_type": "stream",
     "text": [
      " 18%|█▊        | 54/300 [00:36<02:41,  1.53it/s]"
     ]
    },
    {
     "name": "stdout",
     "output_type": "stream",
     "text": [
      "Iteration 53: loss training = 0.0056639130311933435, best validation = 0.004487589738952617\n"
     ]
    },
    {
     "name": "stderr",
     "output_type": "stream",
     "text": [
      " 18%|█▊        | 55/300 [00:36<02:43,  1.49it/s]"
     ]
    },
    {
     "name": "stdout",
     "output_type": "stream",
     "text": [
      "Iteration 54: loss training = 0.005963913402096792, best validation = 0.004415687658668806\n"
     ]
    },
    {
     "name": "stderr",
     "output_type": "stream",
     "text": [
      " 19%|█▊        | 56/300 [00:37<02:42,  1.50it/s]"
     ]
    },
    {
     "name": "stdout",
     "output_type": "stream",
     "text": [
      "Iteration 55: loss training = 0.004985339499332688, best validation = 0.004415687658668806\n"
     ]
    },
    {
     "name": "stderr",
     "output_type": "stream",
     "text": [
      " 19%|█▉        | 57/300 [00:38<02:41,  1.51it/s]"
     ]
    },
    {
     "name": "stdout",
     "output_type": "stream",
     "text": [
      "Iteration 56: loss training = 0.0047297642227600925, best validation = 0.004415687658668806\n"
     ]
    },
    {
     "name": "stderr",
     "output_type": "stream",
     "text": [
      " 19%|█▉        | 58/300 [00:38<02:39,  1.52it/s]"
     ]
    },
    {
     "name": "stdout",
     "output_type": "stream",
     "text": [
      "Iteration 57: loss training = 0.0050055347806350755, best validation = 0.004415687658668806\n"
     ]
    },
    {
     "name": "stderr",
     "output_type": "stream",
     "text": [
      " 20%|█▉        | 59/300 [00:39<02:37,  1.53it/s]"
     ]
    },
    {
     "name": "stdout",
     "output_type": "stream",
     "text": [
      "Iteration 58: loss training = 0.006098285347053951, best validation = 0.004216865927446634\n"
     ]
    },
    {
     "name": "stderr",
     "output_type": "stream",
     "text": [
      " 20%|██        | 60/300 [00:40<02:40,  1.49it/s]"
     ]
    },
    {
     "name": "stdout",
     "output_type": "stream",
     "text": [
      "Iteration 59: loss training = 0.005868953415615992, best validation = 0.004216865927446634\n"
     ]
    },
    {
     "name": "stderr",
     "output_type": "stream",
     "text": [
      " 20%|██        | 61/300 [00:40<02:43,  1.46it/s]"
     ]
    },
    {
     "name": "stdout",
     "output_type": "stream",
     "text": [
      "Iteration 60: loss training = 0.0036576011937788943, best validation = 0.003624415500477577\n"
     ]
    },
    {
     "name": "stderr",
     "output_type": "stream",
     "text": [
      " 21%|██        | 62/300 [00:41<02:43,  1.45it/s]"
     ]
    },
    {
     "name": "stdout",
     "output_type": "stream",
     "text": [
      "Iteration 61: loss training = 0.0035117526961998507, best validation = 0.003624415500477577\n"
     ]
    },
    {
     "name": "stderr",
     "output_type": "stream",
     "text": [
      " 21%|██        | 63/300 [00:42<02:40,  1.47it/s]"
     ]
    },
    {
     "name": "stdout",
     "output_type": "stream",
     "text": [
      "Iteration 62: loss training = 0.00348250010389496, best validation = 0.003597639336173112\n"
     ]
    },
    {
     "name": "stderr",
     "output_type": "stream",
     "text": [
      " 21%|██▏       | 64/300 [00:42<02:37,  1.50it/s]"
     ]
    },
    {
     "name": "stdout",
     "output_type": "stream",
     "text": [
      "Iteration 63: loss training = 0.003547933862798593, best validation = 0.003597639336173112\n"
     ]
    },
    {
     "name": "stderr",
     "output_type": "stream",
     "text": [
      " 22%|██▏       | 65/300 [00:43<02:40,  1.46it/s]"
     ]
    },
    {
     "name": "stdout",
     "output_type": "stream",
     "text": [
      "Iteration 64: loss training = 0.00355394541031935, best validation = 0.0035972299810964614\n"
     ]
    },
    {
     "name": "stderr",
     "output_type": "stream",
     "text": [
      " 22%|██▏       | 66/300 [00:44<02:42,  1.44it/s]"
     ]
    },
    {
     "name": "stdout",
     "output_type": "stream",
     "text": [
      "Iteration 65: loss training = 0.0034204127351668747, best validation = 0.0035846035849923887\n"
     ]
    },
    {
     "name": "stderr",
     "output_type": "stream",
     "text": [
      " 22%|██▏       | 67/300 [00:44<02:44,  1.41it/s]"
     ]
    },
    {
     "name": "stdout",
     "output_type": "stream",
     "text": [
      "Iteration 66: loss training = 0.0035258270080455326, best validation = 0.0035846035849923887\n"
     ]
    },
    {
     "name": "stderr",
     "output_type": "stream",
     "text": [
      " 23%|██▎       | 68/300 [00:45<02:41,  1.44it/s]"
     ]
    },
    {
     "name": "stdout",
     "output_type": "stream",
     "text": [
      "Iteration 67: loss training = 0.0035318112212487244, best validation = 0.0035846035849923887\n"
     ]
    },
    {
     "name": "stderr",
     "output_type": "stream",
     "text": [
      " 23%|██▎       | 69/300 [00:46<02:33,  1.50it/s]"
     ]
    },
    {
     "name": "stdout",
     "output_type": "stream",
     "text": [
      "Iteration 68: loss training = 0.0034745883323590862, best validation = 0.0035846035849923887\n"
     ]
    },
    {
     "name": "stderr",
     "output_type": "stream",
     "text": [
      " 23%|██▎       | 70/300 [00:46<02:28,  1.55it/s]"
     ]
    },
    {
     "name": "stdout",
     "output_type": "stream",
     "text": [
      "Iteration 69: loss training = 0.003581931408156048, best validation = 0.0035846035849923887\n"
     ]
    },
    {
     "name": "stderr",
     "output_type": "stream",
     "text": [
      " 24%|██▎       | 71/300 [00:47<02:25,  1.58it/s]"
     ]
    },
    {
     "name": "stdout",
     "output_type": "stream",
     "text": [
      "Iteration 70: loss training = 0.0034305935429239814, best validation = 0.0034372544420572617\n"
     ]
    },
    {
     "name": "stderr",
     "output_type": "stream",
     "text": [
      " 24%|██▍       | 72/300 [00:48<02:26,  1.55it/s]"
     ]
    },
    {
     "name": "stdout",
     "output_type": "stream",
     "text": [
      "Iteration 71: loss training = 0.0034143473106351767, best validation = 0.0034372544420572617\n"
     ]
    },
    {
     "name": "stderr",
     "output_type": "stream",
     "text": [
      " 24%|██▍       | 73/300 [00:48<02:25,  1.57it/s]"
     ]
    },
    {
     "name": "stdout",
     "output_type": "stream",
     "text": [
      "Iteration 72: loss training = 0.003384897332977165, best validation = 0.0034372544420572617\n"
     ]
    },
    {
     "name": "stderr",
     "output_type": "stream",
     "text": [
      " 25%|██▍       | 74/300 [00:49<02:22,  1.59it/s]"
     ]
    },
    {
     "name": "stdout",
     "output_type": "stream",
     "text": [
      "Iteration 73: loss training = 0.0033951756205748427, best validation = 0.0034372544420572617\n"
     ]
    },
    {
     "name": "stderr",
     "output_type": "stream",
     "text": [
      " 25%|██▌       | 75/300 [00:49<02:22,  1.58it/s]"
     ]
    },
    {
     "name": "stdout",
     "output_type": "stream",
     "text": [
      "Iteration 74: loss training = 0.0034100936598737133, best validation = 0.0034372544420572617\n"
     ]
    },
    {
     "name": "stderr",
     "output_type": "stream",
     "text": [
      " 25%|██▌       | 76/300 [00:50<02:22,  1.57it/s]"
     ]
    },
    {
     "name": "stdout",
     "output_type": "stream",
     "text": [
      "Iteration 75: loss training = 0.0034088799602944742, best validation = 0.0034372544420572617\n"
     ]
    },
    {
     "name": "stderr",
     "output_type": "stream",
     "text": [
      " 26%|██▌       | 77/300 [00:51<02:23,  1.56it/s]"
     ]
    },
    {
     "name": "stdout",
     "output_type": "stream",
     "text": [
      "Iteration 76: loss training = 0.0033932630480690436, best validation = 0.0034257468165984997\n"
     ]
    },
    {
     "name": "stderr",
     "output_type": "stream",
     "text": [
      " 26%|██▌       | 78/300 [00:51<02:24,  1.54it/s]"
     ]
    },
    {
     "name": "stdout",
     "output_type": "stream",
     "text": [
      "Iteration 77: loss training = 0.0033907954919744623, best validation = 0.0034257468165984997\n"
     ]
    },
    {
     "name": "stderr",
     "output_type": "stream",
     "text": [
      " 26%|██▋       | 79/300 [00:52<02:25,  1.52it/s]"
     ]
    },
    {
     "name": "stdout",
     "output_type": "stream",
     "text": [
      "Iteration 78: loss training = 0.003395320022140037, best validation = 0.0034257468165984997\n"
     ]
    },
    {
     "name": "stderr",
     "output_type": "stream",
     "text": [
      " 27%|██▋       | 80/300 [00:53<02:24,  1.52it/s]"
     ]
    },
    {
     "name": "stdout",
     "output_type": "stream",
     "text": [
      "Iteration 79: loss training = 0.003357425370168957, best validation = 0.0034257468165984997\n"
     ]
    },
    {
     "name": "stderr",
     "output_type": "stream",
     "text": [
      " 27%|██▋       | 81/300 [00:53<02:23,  1.53it/s]"
     ]
    },
    {
     "name": "stdout",
     "output_type": "stream",
     "text": [
      "Iteration 80: loss training = 0.00339224996807223, best validation = 0.0034257468165984997\n"
     ]
    },
    {
     "name": "stderr",
     "output_type": "stream",
     "text": [
      " 27%|██▋       | 82/300 [00:54<02:23,  1.52it/s]"
     ]
    },
    {
     "name": "stdout",
     "output_type": "stream",
     "text": [
      "Iteration 81: loss training = 0.003473922267386859, best validation = 0.0034257468165984997\n"
     ]
    },
    {
     "name": "stderr",
     "output_type": "stream",
     "text": [
      " 28%|██▊       | 83/300 [00:55<02:24,  1.50it/s]"
     ]
    },
    {
     "name": "stdout",
     "output_type": "stream",
     "text": [
      "Iteration 82: loss training = 0.0034030011177740315, best validation = 0.0034257468165984997\n"
     ]
    },
    {
     "name": "stderr",
     "output_type": "stream",
     "text": [
      " 28%|██▊       | 84/300 [00:56<02:26,  1.47it/s]"
     ]
    },
    {
     "name": "stdout",
     "output_type": "stream",
     "text": [
      "Iteration 83: loss training = 0.00350504263558171, best validation = 0.0034257468165984997\n"
     ]
    },
    {
     "name": "stderr",
     "output_type": "stream",
     "text": [
      " 28%|██▊       | 85/300 [00:56<02:24,  1.49it/s]"
     ]
    },
    {
     "name": "stdout",
     "output_type": "stream",
     "text": [
      "Iteration 84: loss training = 0.0033588421531021593, best validation = 0.0034257468165984997\n"
     ]
    },
    {
     "name": "stderr",
     "output_type": "stream",
     "text": [
      " 29%|██▊       | 86/300 [00:57<02:26,  1.46it/s]"
     ]
    },
    {
     "name": "stdout",
     "output_type": "stream",
     "text": [
      "Iteration 85: loss training = 0.0033810867758637124, best validation = 0.0034257468165984997\n"
     ]
    },
    {
     "name": "stderr",
     "output_type": "stream",
     "text": [
      " 29%|██▉       | 87/300 [00:58<02:25,  1.47it/s]"
     ]
    },
    {
     "name": "stdout",
     "output_type": "stream",
     "text": [
      "Iteration 86: loss training = 0.0034006197767501526, best validation = 0.0034257468165984997\n"
     ]
    },
    {
     "name": "stderr",
     "output_type": "stream",
     "text": [
      " 29%|██▉       | 88/300 [00:58<02:24,  1.47it/s]"
     ]
    },
    {
     "name": "stdout",
     "output_type": "stream",
     "text": [
      "Iteration 87: loss training = 0.003342156433923678, best validation = 0.0034257468165984997\n"
     ]
    },
    {
     "name": "stderr",
     "output_type": "stream",
     "text": [
      " 30%|██▉       | 89/300 [00:59<02:22,  1.49it/s]"
     ]
    },
    {
     "name": "stdout",
     "output_type": "stream",
     "text": [
      "Iteration 88: loss training = 0.0033136619297279555, best validation = 0.0034257468165984997\n"
     ]
    },
    {
     "name": "stderr",
     "output_type": "stream",
     "text": [
      " 30%|███       | 90/300 [01:00<02:22,  1.47it/s]"
     ]
    },
    {
     "name": "stdout",
     "output_type": "stream",
     "text": [
      "Iteration 89: loss training = 0.003378929900513454, best validation = 0.0034257468165984997\n"
     ]
    },
    {
     "name": "stderr",
     "output_type": "stream",
     "text": [
      " 30%|███       | 91/300 [01:00<02:23,  1.46it/s]"
     ]
    },
    {
     "name": "stdout",
     "output_type": "stream",
     "text": [
      "Iteration 90: loss training = 0.0031534926415505734, best validation = 0.0032265418073317655\n"
     ]
    },
    {
     "name": "stderr",
     "output_type": "stream",
     "text": [
      " 31%|███       | 92/300 [01:01<02:23,  1.45it/s]"
     ]
    },
    {
     "name": "stdout",
     "output_type": "stream",
     "text": [
      "Iteration 91: loss training = 0.0031300035813315347, best validation = 0.0032265418073317655\n"
     ]
    },
    {
     "name": "stderr",
     "output_type": "stream",
     "text": [
      " 31%|███       | 93/300 [01:02<02:21,  1.46it/s]"
     ]
    },
    {
     "name": "stdout",
     "output_type": "stream",
     "text": [
      "Iteration 92: loss training = 0.0030945876105265184, best validation = 0.0032265418073317655\n"
     ]
    },
    {
     "name": "stderr",
     "output_type": "stream",
     "text": [
      " 31%|███▏      | 94/300 [01:02<02:19,  1.48it/s]"
     ]
    },
    {
     "name": "stdout",
     "output_type": "stream",
     "text": [
      "Iteration 93: loss training = 0.0030746464702216063, best validation = 0.003222453834799429\n"
     ]
    },
    {
     "name": "stderr",
     "output_type": "stream",
     "text": [
      " 32%|███▏      | 95/300 [01:03<02:21,  1.45it/s]"
     ]
    },
    {
     "name": "stdout",
     "output_type": "stream",
     "text": [
      "Iteration 94: loss training = 0.00308562392284247, best validation = 0.003222453834799429\n"
     ]
    },
    {
     "name": "stderr",
     "output_type": "stream",
     "text": [
      " 32%|███▏      | 96/300 [01:04<02:19,  1.46it/s]"
     ]
    },
    {
     "name": "stdout",
     "output_type": "stream",
     "text": [
      "Iteration 95: loss training = 0.0030706612139262935, best validation = 0.003222453834799429\n"
     ]
    },
    {
     "name": "stderr",
     "output_type": "stream",
     "text": [
      " 32%|███▏      | 97/300 [01:04<02:19,  1.45it/s]"
     ]
    },
    {
     "name": "stdout",
     "output_type": "stream",
     "text": [
      "Iteration 96: loss training = 0.003087305912578648, best validation = 0.0032044353429228067\n"
     ]
    },
    {
     "name": "stderr",
     "output_type": "stream",
     "text": [
      " 33%|███▎      | 98/300 [01:05<02:21,  1.43it/s]"
     ]
    },
    {
     "name": "stdout",
     "output_type": "stream",
     "text": [
      "Iteration 97: loss training = 0.003086420703171329, best validation = 0.0032044353429228067\n"
     ]
    },
    {
     "name": "stderr",
     "output_type": "stream",
     "text": [
      " 33%|███▎      | 99/300 [01:06<02:22,  1.41it/s]"
     ]
    },
    {
     "name": "stdout",
     "output_type": "stream",
     "text": [
      "Iteration 98: loss training = 0.0030748407991433684, best validation = 0.0032044353429228067\n"
     ]
    },
    {
     "name": "stderr",
     "output_type": "stream",
     "text": [
      " 33%|███▎      | 100/300 [01:07<02:28,  1.35it/s]"
     ]
    },
    {
     "name": "stdout",
     "output_type": "stream",
     "text": [
      "Iteration 99: loss training = 0.003082528629932891, best validation = 0.0032044353429228067\n"
     ]
    },
    {
     "name": "stderr",
     "output_type": "stream",
     "text": [
      " 34%|███▎      | 101/300 [01:07<02:30,  1.32it/s]"
     ]
    },
    {
     "name": "stdout",
     "output_type": "stream",
     "text": [
      "Iteration 100: loss training = 0.003063236227767034, best validation = 0.0032044353429228067\n"
     ]
    },
    {
     "name": "stderr",
     "output_type": "stream",
     "text": [
      " 34%|███▍      | 102/300 [01:08<02:30,  1.32it/s]"
     ]
    },
    {
     "name": "stdout",
     "output_type": "stream",
     "text": [
      "Iteration 101: loss training = 0.0030687785284085707, best validation = 0.0032044353429228067\n"
     ]
    },
    {
     "name": "stderr",
     "output_type": "stream",
     "text": [
      " 34%|███▍      | 103/300 [01:09<02:28,  1.32it/s]"
     ]
    },
    {
     "name": "stdout",
     "output_type": "stream",
     "text": [
      "Iteration 102: loss training = 0.0030763774390586396, best validation = 0.0032044353429228067\n"
     ]
    },
    {
     "name": "stderr",
     "output_type": "stream",
     "text": [
      " 35%|███▍      | 104/300 [01:10<02:27,  1.33it/s]"
     ]
    },
    {
     "name": "stdout",
     "output_type": "stream",
     "text": [
      "Iteration 103: loss training = 0.003082098921930248, best validation = 0.0032044353429228067\n"
     ]
    },
    {
     "name": "stderr",
     "output_type": "stream",
     "text": [
      " 35%|███▌      | 105/300 [01:10<02:25,  1.34it/s]"
     ]
    },
    {
     "name": "stdout",
     "output_type": "stream",
     "text": [
      "Iteration 104: loss training = 0.0030586513690650462, best validation = 0.0032044353429228067\n"
     ]
    },
    {
     "name": "stderr",
     "output_type": "stream",
     "text": [
      " 35%|███▌      | 106/300 [01:11<02:24,  1.34it/s]"
     ]
    },
    {
     "name": "stdout",
     "output_type": "stream",
     "text": [
      "Iteration 105: loss training = 0.0030695719983090054, best validation = 0.0032044353429228067\n"
     ]
    },
    {
     "name": "stderr",
     "output_type": "stream",
     "text": [
      " 36%|███▌      | 107/300 [01:12<02:28,  1.30it/s]"
     ]
    },
    {
     "name": "stdout",
     "output_type": "stream",
     "text": [
      "Iteration 106: loss training = 0.003036427828059955, best validation = 0.0032044353429228067\n"
     ]
    },
    {
     "name": "stderr",
     "output_type": "stream",
     "text": [
      " 36%|███▌      | 108/300 [01:13<02:24,  1.33it/s]"
     ]
    },
    {
     "name": "stdout",
     "output_type": "stream",
     "text": [
      "Iteration 107: loss training = 0.003067508191716942, best validation = 0.0032044353429228067\n"
     ]
    },
    {
     "name": "stderr",
     "output_type": "stream",
     "text": [
      " 36%|███▋      | 109/300 [01:13<02:23,  1.33it/s]"
     ]
    },
    {
     "name": "stdout",
     "output_type": "stream",
     "text": [
      "Iteration 108: loss training = 0.003038899177177386, best validation = 0.0032044353429228067\n"
     ]
    },
    {
     "name": "stderr",
     "output_type": "stream",
     "text": [
      " 37%|███▋      | 110/300 [01:14<02:21,  1.34it/s]"
     ]
    },
    {
     "name": "stdout",
     "output_type": "stream",
     "text": [
      "Iteration 109: loss training = 0.0030729161025109617, best validation = 0.0032044353429228067\n"
     ]
    },
    {
     "name": "stderr",
     "output_type": "stream",
     "text": [
      " 37%|███▋      | 111/300 [01:15<02:20,  1.35it/s]"
     ]
    },
    {
     "name": "stdout",
     "output_type": "stream",
     "text": [
      "Iteration 110: loss training = 0.0030649365010586654, best validation = 0.0032032864110078663\n"
     ]
    },
    {
     "name": "stderr",
     "output_type": "stream",
     "text": [
      " 37%|███▋      | 112/300 [01:16<02:16,  1.38it/s]"
     ]
    },
    {
     "name": "stdout",
     "output_type": "stream",
     "text": [
      "Iteration 111: loss training = 0.003079305496066809, best validation = 0.0032032864110078663\n"
     ]
    },
    {
     "name": "stderr",
     "output_type": "stream",
     "text": [
      " 38%|███▊      | 113/300 [01:16<02:15,  1.38it/s]"
     ]
    },
    {
     "name": "stdout",
     "output_type": "stream",
     "text": [
      "Iteration 112: loss training = 0.003061149049211632, best validation = 0.0032032864110078663\n"
     ]
    },
    {
     "name": "stderr",
     "output_type": "stream",
     "text": [
      " 38%|███▊      | 114/300 [01:17<02:12,  1.40it/s]"
     ]
    },
    {
     "name": "stdout",
     "output_type": "stream",
     "text": [
      "Iteration 113: loss training = 0.003061251079832966, best validation = 0.0032032864110078663\n"
     ]
    },
    {
     "name": "stderr",
     "output_type": "stream",
     "text": [
      " 38%|███▊      | 115/300 [01:18<02:10,  1.41it/s]"
     ]
    },
    {
     "name": "stdout",
     "output_type": "stream",
     "text": [
      "Iteration 114: loss training = 0.003046534417874434, best validation = 0.0032032864110078663\n"
     ]
    },
    {
     "name": "stderr",
     "output_type": "stream",
     "text": [
      " 39%|███▊      | 116/300 [01:18<02:11,  1.40it/s]"
     ]
    },
    {
     "name": "stdout",
     "output_type": "stream",
     "text": [
      "Iteration 115: loss training = 0.0030898763332515957, best validation = 0.0032032864110078663\n"
     ]
    },
    {
     "name": "stderr",
     "output_type": "stream",
     "text": [
      " 39%|███▉      | 117/300 [01:19<02:11,  1.39it/s]"
     ]
    },
    {
     "name": "stdout",
     "output_type": "stream",
     "text": [
      "Iteration 116: loss training = 0.0030430322893979875, best validation = 0.003160655362686763\n"
     ]
    },
    {
     "name": "stderr",
     "output_type": "stream",
     "text": [
      " 39%|███▉      | 118/300 [01:20<02:09,  1.41it/s]"
     ]
    },
    {
     "name": "stdout",
     "output_type": "stream",
     "text": [
      "Iteration 117: loss training = 0.003024570749733936, best validation = 0.003160655362686763\n"
     ]
    },
    {
     "name": "stderr",
     "output_type": "stream",
     "text": [
      " 40%|███▉      | 119/300 [01:21<02:12,  1.37it/s]"
     ]
    },
    {
     "name": "stdout",
     "output_type": "stream",
     "text": [
      "Iteration 118: loss training = 0.003037130663340742, best validation = 0.003160655362686763\n"
     ]
    },
    {
     "name": "stderr",
     "output_type": "stream",
     "text": [
      " 40%|████      | 120/300 [01:21<02:13,  1.35it/s]"
     ]
    },
    {
     "name": "stdout",
     "output_type": "stream",
     "text": [
      "Iteration 119: loss training = 0.003018545596437021, best validation = 0.003160655362686763\n"
     ]
    },
    {
     "name": "stderr",
     "output_type": "stream",
     "text": [
      " 40%|████      | 121/300 [01:22<02:10,  1.38it/s]"
     ]
    },
    {
     "name": "stdout",
     "output_type": "stream",
     "text": [
      "Iteration 120: loss training = 0.0029847271190109577, best validation = 0.0031370842383087925\n"
     ]
    },
    {
     "name": "stderr",
     "output_type": "stream",
     "text": [
      " 41%|████      | 122/300 [01:23<02:07,  1.40it/s]"
     ]
    },
    {
     "name": "stdout",
     "output_type": "stream",
     "text": [
      "Iteration 121: loss training = 0.0029708919242363084, best validation = 0.0031365667625019946\n"
     ]
    },
    {
     "name": "stderr",
     "output_type": "stream",
     "text": [
      " 41%|████      | 123/300 [01:24<02:07,  1.39it/s]"
     ]
    },
    {
     "name": "stdout",
     "output_type": "stream",
     "text": [
      "Iteration 122: loss training = 0.0029791848607022653, best validation = 0.0031365667625019946\n"
     ]
    },
    {
     "name": "stderr",
     "output_type": "stream",
     "text": [
      " 41%|████▏     | 124/300 [01:24<02:11,  1.34it/s]"
     ]
    },
    {
     "name": "stdout",
     "output_type": "stream",
     "text": [
      "Iteration 123: loss training = 0.0029795180540531873, best validation = 0.0031365667625019946\n"
     ]
    },
    {
     "name": "stderr",
     "output_type": "stream",
     "text": [
      " 42%|████▏     | 125/300 [01:25<02:09,  1.36it/s]"
     ]
    },
    {
     "name": "stdout",
     "output_type": "stream",
     "text": [
      "Iteration 124: loss training = 0.002984202212908051, best validation = 0.0031365667625019946\n"
     ]
    },
    {
     "name": "stderr",
     "output_type": "stream",
     "text": [
      " 42%|████▏     | 126/300 [01:26<02:07,  1.36it/s]"
     ]
    },
    {
     "name": "stdout",
     "output_type": "stream",
     "text": [
      "Iteration 125: loss training = 0.0029736378611150112, best validation = 0.0031355725756535926\n"
     ]
    },
    {
     "name": "stderr",
     "output_type": "stream",
     "text": [
      " 42%|████▏     | 127/300 [01:27<02:06,  1.37it/s]"
     ]
    },
    {
     "name": "stdout",
     "output_type": "stream",
     "text": [
      "Iteration 126: loss training = 0.002962063570422205, best validation = 0.0031287132296711206\n"
     ]
    },
    {
     "name": "stderr",
     "output_type": "stream",
     "text": [
      " 43%|████▎     | 128/300 [01:27<02:07,  1.35it/s]"
     ]
    },
    {
     "name": "stdout",
     "output_type": "stream",
     "text": [
      "Iteration 127: loss training = 0.0029762966685335747, best validation = 0.0031287132296711206\n"
     ]
    },
    {
     "name": "stderr",
     "output_type": "stream",
     "text": [
      " 43%|████▎     | 129/300 [01:28<02:06,  1.36it/s]"
     ]
    },
    {
     "name": "stdout",
     "output_type": "stream",
     "text": [
      "Iteration 128: loss training = 0.0029774684882299465, best validation = 0.0031287132296711206\n"
     ]
    },
    {
     "name": "stderr",
     "output_type": "stream",
     "text": [
      " 43%|████▎     | 130/300 [01:29<02:01,  1.39it/s]"
     ]
    },
    {
     "name": "stdout",
     "output_type": "stream",
     "text": [
      "Iteration 129: loss training = 0.002968804119154811, best validation = 0.0031287132296711206\n"
     ]
    },
    {
     "name": "stderr",
     "output_type": "stream",
     "text": [
      " 44%|████▎     | 131/300 [01:29<02:01,  1.39it/s]"
     ]
    },
    {
     "name": "stdout",
     "output_type": "stream",
     "text": [
      "Iteration 130: loss training = 0.002967932659455321, best validation = 0.0031287132296711206\n"
     ]
    },
    {
     "name": "stderr",
     "output_type": "stream",
     "text": [
      " 44%|████▍     | 132/300 [01:30<02:01,  1.38it/s]"
     ]
    },
    {
     "name": "stdout",
     "output_type": "stream",
     "text": [
      "Iteration 131: loss training = 0.002958688321946697, best validation = 0.0031287132296711206\n"
     ]
    },
    {
     "name": "stderr",
     "output_type": "stream",
     "text": [
      " 44%|████▍     | 133/300 [01:31<02:00,  1.39it/s]"
     ]
    },
    {
     "name": "stdout",
     "output_type": "stream",
     "text": [
      "Iteration 132: loss training = 0.002975062403658574, best validation = 0.0031287132296711206\n"
     ]
    },
    {
     "name": "stderr",
     "output_type": "stream",
     "text": [
      " 45%|████▍     | 134/300 [01:32<01:58,  1.40it/s]"
     ]
    },
    {
     "name": "stdout",
     "output_type": "stream",
     "text": [
      "Iteration 133: loss training = 0.002968271550807086, best validation = 0.003126532683381811\n"
     ]
    },
    {
     "name": "stderr",
     "output_type": "stream",
     "text": [
      " 45%|████▌     | 135/300 [01:32<01:57,  1.40it/s]"
     ]
    },
    {
     "name": "stdout",
     "output_type": "stream",
     "text": [
      "Iteration 134: loss training = 0.0029626442373476246, best validation = 0.003126532683381811\n"
     ]
    },
    {
     "name": "stderr",
     "output_type": "stream",
     "text": [
      " 45%|████▌     | 136/300 [01:33<01:55,  1.42it/s]"
     ]
    },
    {
     "name": "stdout",
     "output_type": "stream",
     "text": [
      "Iteration 135: loss training = 0.0029776652555235407, best validation = 0.003126532683381811\n"
     ]
    },
    {
     "name": "stderr",
     "output_type": "stream",
     "text": [
      " 46%|████▌     | 137/300 [01:34<01:54,  1.43it/s]"
     ]
    },
    {
     "name": "stdout",
     "output_type": "stream",
     "text": [
      "Iteration 136: loss training = 0.002971307954496958, best validation = 0.0031214162784939012\n"
     ]
    },
    {
     "name": "stderr",
     "output_type": "stream",
     "text": [
      " 46%|████▌     | 138/300 [01:34<01:54,  1.42it/s]"
     ]
    },
    {
     "name": "stdout",
     "output_type": "stream",
     "text": [
      "Iteration 137: loss training = 0.002970946745269678, best validation = 0.0031214162784939012\n"
     ]
    },
    {
     "name": "stderr",
     "output_type": "stream",
     "text": [
      " 46%|████▋     | 139/300 [01:35<01:55,  1.39it/s]"
     ]
    },
    {
     "name": "stdout",
     "output_type": "stream",
     "text": [
      "Iteration 138: loss training = 0.0029510903849520468, best validation = 0.0031209812538387873\n"
     ]
    },
    {
     "name": "stderr",
     "output_type": "stream",
     "text": [
      " 47%|████▋     | 140/300 [01:36<01:52,  1.42it/s]"
     ]
    },
    {
     "name": "stdout",
     "output_type": "stream",
     "text": [
      "Iteration 139: loss training = 0.00295521906492385, best validation = 0.0031209812538387873\n"
     ]
    },
    {
     "name": "stderr",
     "output_type": "stream",
     "text": [
      " 47%|████▋     | 141/300 [01:37<01:54,  1.38it/s]"
     ]
    },
    {
     "name": "stdout",
     "output_type": "stream",
     "text": [
      "Iteration 140: loss training = 0.0029682385142553937, best validation = 0.0031209812538387873\n"
     ]
    },
    {
     "name": "stderr",
     "output_type": "stream",
     "text": [
      " 47%|████▋     | 142/300 [01:37<01:54,  1.38it/s]"
     ]
    },
    {
     "name": "stdout",
     "output_type": "stream",
     "text": [
      "Iteration 141: loss training = 0.0029739985792812977, best validation = 0.0031209812538387873\n"
     ]
    },
    {
     "name": "stderr",
     "output_type": "stream",
     "text": [
      " 48%|████▊     | 143/300 [01:38<01:55,  1.36it/s]"
     ]
    },
    {
     "name": "stdout",
     "output_type": "stream",
     "text": [
      "Iteration 142: loss training = 0.0029678716493601147, best validation = 0.0031209812538387873\n"
     ]
    },
    {
     "name": "stderr",
     "output_type": "stream",
     "text": [
      " 48%|████▊     | 144/300 [01:39<01:52,  1.39it/s]"
     ]
    },
    {
     "name": "stdout",
     "output_type": "stream",
     "text": [
      "Iteration 143: loss training = 0.0029683798001232473, best validation = 0.0031209812538387873\n"
     ]
    },
    {
     "name": "stderr",
     "output_type": "stream",
     "text": [
      " 48%|████▊     | 145/300 [01:39<01:52,  1.38it/s]"
     ]
    },
    {
     "name": "stdout",
     "output_type": "stream",
     "text": [
      "Iteration 144: loss training = 0.0029657030435787006, best validation = 0.0031189991956731924\n"
     ]
    },
    {
     "name": "stderr",
     "output_type": "stream",
     "text": [
      " 49%|████▊     | 146/300 [01:40<01:53,  1.36it/s]"
     ]
    },
    {
     "name": "stdout",
     "output_type": "stream",
     "text": [
      "Iteration 145: loss training = 0.0029653521042994476, best validation = 0.0031189991956731924\n"
     ]
    },
    {
     "name": "stderr",
     "output_type": "stream",
     "text": [
      " 49%|████▉     | 147/300 [01:41<01:55,  1.32it/s]"
     ]
    },
    {
     "name": "stdout",
     "output_type": "stream",
     "text": [
      "Iteration 146: loss training = 0.002978766324337233, best validation = 0.0031189991956731924\n"
     ]
    },
    {
     "name": "stderr",
     "output_type": "stream",
     "text": [
      " 49%|████▉     | 148/300 [01:42<01:56,  1.31it/s]"
     ]
    },
    {
     "name": "stdout",
     "output_type": "stream",
     "text": [
      "Iteration 147: loss training = 0.0029688625427132303, best validation = 0.0031189991956731924\n"
     ]
    },
    {
     "name": "stderr",
     "output_type": "stream",
     "text": [
      " 50%|████▉     | 149/300 [01:43<01:54,  1.32it/s]"
     ]
    },
    {
     "name": "stdout",
     "output_type": "stream",
     "text": [
      "Iteration 148: loss training = 0.002958884242583405, best validation = 0.0031109061771227666\n"
     ]
    },
    {
     "name": "stderr",
     "output_type": "stream",
     "text": [
      " 50%|█████     | 150/300 [01:43<01:55,  1.30it/s]"
     ]
    },
    {
     "name": "stdout",
     "output_type": "stream",
     "text": [
      "Iteration 149: loss training = 0.0029679752589965407, best validation = 0.0031109061771227666\n"
     ]
    },
    {
     "name": "stderr",
     "output_type": "stream",
     "text": [
      " 50%|█████     | 151/300 [01:44<01:54,  1.30it/s]"
     ]
    },
    {
     "name": "stdout",
     "output_type": "stream",
     "text": [
      "Iteration 150: loss training = 0.0029496986080299725, best validation = 0.0031107174775873623\n"
     ]
    },
    {
     "name": "stderr",
     "output_type": "stream",
     "text": [
      " 51%|█████     | 152/300 [01:45<01:56,  1.27it/s]"
     ]
    },
    {
     "name": "stdout",
     "output_type": "stream",
     "text": [
      "Iteration 151: loss training = 0.0029346537987955594, best validation = 0.0031107174775873623\n"
     ]
    },
    {
     "name": "stderr",
     "output_type": "stream",
     "text": [
      " 51%|█████     | 153/300 [01:46<01:55,  1.27it/s]"
     ]
    },
    {
     "name": "stdout",
     "output_type": "stream",
     "text": [
      "Iteration 152: loss training = 0.0029436916028234093, best validation = 0.0031107174775873623\n"
     ]
    },
    {
     "name": "stderr",
     "output_type": "stream",
     "text": [
      " 51%|█████▏    | 154/300 [01:47<01:55,  1.26it/s]"
     ]
    },
    {
     "name": "stdout",
     "output_type": "stream",
     "text": [
      "Iteration 153: loss training = 0.0029526826840910046, best validation = 0.0031107174775873623\n"
     ]
    },
    {
     "name": "stderr",
     "output_type": "stream",
     "text": [
      " 52%|█████▏    | 155/300 [01:47<01:55,  1.26it/s]"
     ]
    },
    {
     "name": "stdout",
     "output_type": "stream",
     "text": [
      "Iteration 154: loss training = 0.002943892785432664, best validation = 0.0031107174775873623\n"
     ]
    },
    {
     "name": "stderr",
     "output_type": "stream",
     "text": [
      " 52%|█████▏    | 156/300 [01:48<01:52,  1.28it/s]"
     ]
    },
    {
     "name": "stdout",
     "output_type": "stream",
     "text": [
      "Iteration 155: loss training = 0.002933514126661149, best validation = 0.0031107174775873623\n"
     ]
    },
    {
     "name": "stderr",
     "output_type": "stream",
     "text": [
      " 52%|█████▏    | 157/300 [01:49<01:49,  1.31it/s]"
     ]
    },
    {
     "name": "stdout",
     "output_type": "stream",
     "text": [
      "Iteration 156: loss training = 0.0029399682259695094, best validation = 0.0031107174775873623\n"
     ]
    },
    {
     "name": "stderr",
     "output_type": "stream",
     "text": [
      " 53%|█████▎    | 158/300 [01:50<01:48,  1.31it/s]"
     ]
    },
    {
     "name": "stdout",
     "output_type": "stream",
     "text": [
      "Iteration 157: loss training = 0.0029525272209535948, best validation = 0.0031107174775873623\n"
     ]
    },
    {
     "name": "stderr",
     "output_type": "stream",
     "text": [
      " 53%|█████▎    | 159/300 [01:50<01:46,  1.32it/s]"
     ]
    },
    {
     "name": "stdout",
     "output_type": "stream",
     "text": [
      "Iteration 158: loss training = 0.0029398147694089196, best validation = 0.0031107174775873623\n"
     ]
    },
    {
     "name": "stderr",
     "output_type": "stream",
     "text": [
      " 53%|█████▎    | 160/300 [01:51<01:45,  1.33it/s]"
     ]
    },
    {
     "name": "stdout",
     "output_type": "stream",
     "text": [
      "Iteration 159: loss training = 0.00292481899430806, best validation = 0.0031107174775873623\n"
     ]
    },
    {
     "name": "stderr",
     "output_type": "stream",
     "text": [
      " 54%|█████▎    | 161/300 [01:52<01:43,  1.35it/s]"
     ]
    },
    {
     "name": "stdout",
     "output_type": "stream",
     "text": [
      "Iteration 160: loss training = 0.002938357651741667, best validation = 0.0031107174775873623\n"
     ]
    },
    {
     "name": "stderr",
     "output_type": "stream",
     "text": [
      " 54%|█████▍    | 162/300 [01:52<01:40,  1.37it/s]"
     ]
    },
    {
     "name": "stdout",
     "output_type": "stream",
     "text": [
      "Iteration 161: loss training = 0.0029416984751481903, best validation = 0.0031107174775873623\n"
     ]
    },
    {
     "name": "stderr",
     "output_type": "stream",
     "text": [
      " 54%|█████▍    | 163/300 [01:53<01:38,  1.39it/s]"
     ]
    },
    {
     "name": "stdout",
     "output_type": "stream",
     "text": [
      "Iteration 162: loss training = 0.002937312237918377, best validation = 0.0031107174775873623\n"
     ]
    },
    {
     "name": "stderr",
     "output_type": "stream",
     "text": [
      " 55%|█████▍    | 164/300 [01:54<01:35,  1.42it/s]"
     ]
    },
    {
     "name": "stdout",
     "output_type": "stream",
     "text": [
      "Iteration 163: loss training = 0.002954111345620318, best validation = 0.0031107174775873623\n"
     ]
    },
    {
     "name": "stderr",
     "output_type": "stream",
     "text": [
      " 55%|█████▌    | 165/300 [01:55<01:35,  1.42it/s]"
     ]
    },
    {
     "name": "stdout",
     "output_type": "stream",
     "text": [
      "Iteration 164: loss training = 0.0029350266241553154, best validation = 0.0031107174775873623\n"
     ]
    },
    {
     "name": "stderr",
     "output_type": "stream",
     "text": [
      " 55%|█████▌    | 166/300 [01:55<01:34,  1.41it/s]"
     ]
    },
    {
     "name": "stdout",
     "output_type": "stream",
     "text": [
      "Iteration 165: loss training = 0.0029458970805122096, best validation = 0.0031107174775873623\n"
     ]
    },
    {
     "name": "stderr",
     "output_type": "stream",
     "text": [
      " 56%|█████▌    | 167/300 [01:56<01:36,  1.38it/s]"
     ]
    },
    {
     "name": "stdout",
     "output_type": "stream",
     "text": [
      "Iteration 166: loss training = 0.002939562321725217, best validation = 0.0031107174775873623\n"
     ]
    },
    {
     "name": "stderr",
     "output_type": "stream",
     "text": [
      " 56%|█████▌    | 168/300 [01:57<01:37,  1.36it/s]"
     ]
    },
    {
     "name": "stdout",
     "output_type": "stream",
     "text": [
      "Iteration 167: loss training = 0.002945129543712193, best validation = 0.0031107174775873623\n"
     ]
    },
    {
     "name": "stderr",
     "output_type": "stream",
     "text": [
      " 56%|█████▋    | 169/300 [01:58<01:38,  1.34it/s]"
     ]
    },
    {
     "name": "stdout",
     "output_type": "stream",
     "text": [
      "Iteration 168: loss training = 0.0029260323975573888, best validation = 0.0031107174775873623\n"
     ]
    },
    {
     "name": "stderr",
     "output_type": "stream",
     "text": [
      " 57%|█████▋    | 170/300 [01:58<01:36,  1.34it/s]"
     ]
    },
    {
     "name": "stdout",
     "output_type": "stream",
     "text": [
      "Iteration 169: loss training = 0.0029453795318576423, best validation = 0.0031107174775873623\n"
     ]
    },
    {
     "name": "stderr",
     "output_type": "stream",
     "text": [
      " 57%|█████▋    | 171/300 [01:59<01:35,  1.34it/s]"
     ]
    },
    {
     "name": "stdout",
     "output_type": "stream",
     "text": [
      "Iteration 170: loss training = 0.0029358660167252476, best validation = 0.0031107174775873623\n"
     ]
    },
    {
     "name": "stderr",
     "output_type": "stream",
     "text": [
      " 57%|█████▋    | 172/300 [02:00<01:34,  1.35it/s]"
     ]
    },
    {
     "name": "stdout",
     "output_type": "stream",
     "text": [
      "Iteration 171: loss training = 0.0029406826392832128, best validation = 0.0031107174775873623\n"
     ]
    },
    {
     "name": "stderr",
     "output_type": "stream",
     "text": [
      " 58%|█████▊    | 173/300 [02:00<01:33,  1.37it/s]"
     ]
    },
    {
     "name": "stdout",
     "output_type": "stream",
     "text": [
      "Iteration 172: loss training = 0.0029475284697995942, best validation = 0.0031107174775873623\n"
     ]
    },
    {
     "name": "stderr",
     "output_type": "stream",
     "text": [
      " 58%|█████▊    | 174/300 [02:01<01:29,  1.40it/s]"
     ]
    },
    {
     "name": "stdout",
     "output_type": "stream",
     "text": [
      "Iteration 173: loss training = 0.002928473186594519, best validation = 0.0031107174775873623\n"
     ]
    },
    {
     "name": "stderr",
     "output_type": "stream",
     "text": [
      " 58%|█████▊    | 175/300 [02:02<01:27,  1.43it/s]"
     ]
    },
    {
     "name": "stdout",
     "output_type": "stream",
     "text": [
      "Iteration 174: loss training = 0.0029437705408781765, best validation = 0.0031107174775873623\n"
     ]
    },
    {
     "name": "stderr",
     "output_type": "stream",
     "text": [
      " 59%|█████▊    | 176/300 [02:03<01:27,  1.41it/s]"
     ]
    },
    {
     "name": "stdout",
     "output_type": "stream",
     "text": [
      "Iteration 175: loss training = 0.0029508500529283827, best validation = 0.0031107174775873623\n"
     ]
    },
    {
     "name": "stderr",
     "output_type": "stream",
     "text": [
      " 59%|█████▉    | 177/300 [02:03<01:28,  1.39it/s]"
     ]
    },
    {
     "name": "stdout",
     "output_type": "stream",
     "text": [
      "Iteration 176: loss training = 0.002940912540494041, best validation = 0.0031107174775873623\n"
     ]
    },
    {
     "name": "stderr",
     "output_type": "stream",
     "text": [
      " 59%|█████▉    | 178/300 [02:04<01:29,  1.36it/s]"
     ]
    },
    {
     "name": "stdout",
     "output_type": "stream",
     "text": [
      "Iteration 177: loss training = 0.0029392080127515576, best validation = 0.003110516748468702\n"
     ]
    },
    {
     "name": "stderr",
     "output_type": "stream",
     "text": [
      " 60%|█████▉    | 179/300 [02:05<01:28,  1.36it/s]"
     ]
    },
    {
     "name": "stdout",
     "output_type": "stream",
     "text": [
      "Iteration 178: loss training = 0.002939091783694246, best validation = 0.003110516748468702\n"
     ]
    },
    {
     "name": "stderr",
     "output_type": "stream",
     "text": [
      " 60%|██████    | 180/300 [02:06<01:28,  1.36it/s]"
     ]
    },
    {
     "name": "stdout",
     "output_type": "stream",
     "text": [
      "Iteration 179: loss training = 0.00294620848514817, best validation = 0.003109026962192729\n"
     ]
    },
    {
     "name": "stderr",
     "output_type": "stream",
     "text": [
      " 60%|██████    | 181/300 [02:06<01:25,  1.39it/s]"
     ]
    },
    {
     "name": "stdout",
     "output_type": "stream",
     "text": [
      "Iteration 180: loss training = 0.002925347570668567, best validation = 0.003108087160702174\n"
     ]
    },
    {
     "name": "stderr",
     "output_type": "stream",
     "text": [
      " 61%|██████    | 182/300 [02:07<01:23,  1.41it/s]"
     ]
    },
    {
     "name": "stdout",
     "output_type": "stream",
     "text": [
      "Iteration 181: loss training = 0.0029400835067711095, best validation = 0.003108087160702174\n"
     ]
    },
    {
     "name": "stderr",
     "output_type": "stream",
     "text": [
      " 61%|██████    | 183/300 [02:08<01:21,  1.44it/s]"
     ]
    },
    {
     "name": "stdout",
     "output_type": "stream",
     "text": [
      "Iteration 182: loss training = 0.002931851504201239, best validation = 0.003108087160702174\n"
     ]
    },
    {
     "name": "stderr",
     "output_type": "stream",
     "text": [
      " 61%|██████▏   | 184/300 [02:08<01:23,  1.39it/s]"
     ]
    },
    {
     "name": "stdout",
     "output_type": "stream",
     "text": [
      "Iteration 183: loss training = 0.0029255648312920875, best validation = 0.0031056148388112583\n"
     ]
    },
    {
     "name": "stderr",
     "output_type": "stream",
     "text": [
      " 62%|██████▏   | 185/300 [02:09<01:26,  1.33it/s]"
     ]
    },
    {
     "name": "stdout",
     "output_type": "stream",
     "text": [
      "Iteration 184: loss training = 0.0029408345972611145, best validation = 0.0031056148388112583\n"
     ]
    },
    {
     "name": "stderr",
     "output_type": "stream",
     "text": [
      " 62%|██████▏   | 186/300 [02:10<01:24,  1.34it/s]"
     ]
    },
    {
     "name": "stdout",
     "output_type": "stream",
     "text": [
      "Iteration 185: loss training = 0.0029503949579190126, best validation = 0.0031056148388112583\n"
     ]
    },
    {
     "name": "stderr",
     "output_type": "stream",
     "text": [
      " 62%|██████▏   | 187/300 [02:11<01:24,  1.34it/s]"
     ]
    },
    {
     "name": "stdout",
     "output_type": "stream",
     "text": [
      "Iteration 186: loss training = 0.002945481219582937, best validation = 0.0031056148388112583\n"
     ]
    },
    {
     "name": "stderr",
     "output_type": "stream",
     "text": [
      " 63%|██████▎   | 188/300 [02:11<01:22,  1.36it/s]"
     ]
    },
    {
     "name": "stdout",
     "output_type": "stream",
     "text": [
      "Iteration 187: loss training = 0.0029311132786626164, best validation = 0.0031056148388112583\n"
     ]
    },
    {
     "name": "stderr",
     "output_type": "stream",
     "text": [
      " 63%|██████▎   | 189/300 [02:12<01:20,  1.37it/s]"
     ]
    },
    {
     "name": "stdout",
     "output_type": "stream",
     "text": [
      "Iteration 188: loss training = 0.002929214032536203, best validation = 0.0031056148388112583\n"
     ]
    },
    {
     "name": "stderr",
     "output_type": "stream",
     "text": [
      " 63%|██████▎   | 190/300 [02:13<01:20,  1.37it/s]"
     ]
    },
    {
     "name": "stdout",
     "output_type": "stream",
     "text": [
      "Iteration 189: loss training = 0.002929615978659554, best validation = 0.0031056148388112583\n"
     ]
    },
    {
     "name": "stderr",
     "output_type": "stream",
     "text": [
      " 64%|██████▎   | 191/300 [02:13<01:17,  1.41it/s]"
     ]
    },
    {
     "name": "stdout",
     "output_type": "stream",
     "text": [
      "Iteration 190: loss training = 0.002956822332502766, best validation = 0.0031056148388112583\n"
     ]
    },
    {
     "name": "stderr",
     "output_type": "stream",
     "text": [
      " 64%|██████▍   | 192/300 [02:14<01:14,  1.44it/s]"
     ]
    },
    {
     "name": "stdout",
     "output_type": "stream",
     "text": [
      "Iteration 191: loss training = 0.002935520652681589, best validation = 0.0031056148388112583\n"
     ]
    },
    {
     "name": "stderr",
     "output_type": "stream",
     "text": [
      " 64%|██████▍   | 193/300 [02:15<01:14,  1.44it/s]"
     ]
    },
    {
     "name": "stdout",
     "output_type": "stream",
     "text": [
      "Iteration 192: loss training = 0.002937781632962552, best validation = 0.0031056148388112583\n"
     ]
    },
    {
     "name": "stderr",
     "output_type": "stream",
     "text": [
      " 65%|██████▍   | 194/300 [02:15<01:13,  1.45it/s]"
     ]
    },
    {
     "name": "stdout",
     "output_type": "stream",
     "text": [
      "Iteration 193: loss training = 0.0029323381117799066, best validation = 0.0031056148388112583\n"
     ]
    },
    {
     "name": "stderr",
     "output_type": "stream",
     "text": [
      " 65%|██████▌   | 195/300 [02:16<01:11,  1.47it/s]"
     ]
    },
    {
     "name": "stdout",
     "output_type": "stream",
     "text": [
      "Iteration 194: loss training = 0.0029400553765960716, best validation = 0.003104211064055562\n"
     ]
    },
    {
     "name": "stderr",
     "output_type": "stream",
     "text": [
      " 65%|██████▌   | 196/300 [02:17<01:11,  1.46it/s]"
     ]
    },
    {
     "name": "stdout",
     "output_type": "stream",
     "text": [
      "Iteration 195: loss training = 0.0029355013277381657, best validation = 0.003104211064055562\n"
     ]
    },
    {
     "name": "stderr",
     "output_type": "stream",
     "text": [
      " 66%|██████▌   | 197/300 [02:18<01:10,  1.47it/s]"
     ]
    },
    {
     "name": "stdout",
     "output_type": "stream",
     "text": [
      "Iteration 196: loss training = 0.002936824419620362, best validation = 0.003104211064055562\n"
     ]
    },
    {
     "name": "stderr",
     "output_type": "stream",
     "text": [
      " 66%|██████▌   | 198/300 [02:18<01:10,  1.46it/s]"
     ]
    },
    {
     "name": "stdout",
     "output_type": "stream",
     "text": [
      "Iteration 197: loss training = 0.0029335737694054843, best validation = 0.003104211064055562\n"
     ]
    },
    {
     "name": "stderr",
     "output_type": "stream",
     "text": [
      " 66%|██████▋   | 199/300 [02:19<01:09,  1.45it/s]"
     ]
    },
    {
     "name": "stdout",
     "output_type": "stream",
     "text": [
      "Iteration 198: loss training = 0.00293291080319746, best validation = 0.003104211064055562\n"
     ]
    },
    {
     "name": "stderr",
     "output_type": "stream",
     "text": [
      " 67%|██████▋   | 200/300 [02:20<01:08,  1.45it/s]"
     ]
    },
    {
     "name": "stdout",
     "output_type": "stream",
     "text": [
      "Iteration 199: loss training = 0.002941121647811749, best validation = 0.003104211064055562\n"
     ]
    },
    {
     "name": "stderr",
     "output_type": "stream",
     "text": [
      " 67%|██████▋   | 201/300 [02:20<01:08,  1.45it/s]"
     ]
    },
    {
     "name": "stdout",
     "output_type": "stream",
     "text": [
      "Iteration 200: loss training = 0.0029285364233973352, best validation = 0.003104211064055562\n"
     ]
    },
    {
     "name": "stderr",
     "output_type": "stream",
     "text": [
      " 67%|██████▋   | 202/300 [02:21<01:09,  1.41it/s]"
     ]
    },
    {
     "name": "stdout",
     "output_type": "stream",
     "text": [
      "Iteration 201: loss training = 0.002937110894444314, best validation = 0.003104211064055562\n"
     ]
    },
    {
     "name": "stderr",
     "output_type": "stream",
     "text": [
      " 68%|██████▊   | 203/300 [02:22<01:07,  1.43it/s]"
     ]
    },
    {
     "name": "stdout",
     "output_type": "stream",
     "text": [
      "Iteration 202: loss training = 0.0029291813981465317, best validation = 0.003104211064055562\n"
     ]
    },
    {
     "name": "stderr",
     "output_type": "stream",
     "text": [
      " 68%|██████▊   | 204/300 [02:22<01:05,  1.46it/s]"
     ]
    },
    {
     "name": "stdout",
     "output_type": "stream",
     "text": [
      "Iteration 203: loss training = 0.0029314752541143786, best validation = 0.003104211064055562\n"
     ]
    },
    {
     "name": "stderr",
     "output_type": "stream",
     "text": [
      " 68%|██████▊   | 205/300 [02:23<01:04,  1.47it/s]"
     ]
    },
    {
     "name": "stdout",
     "output_type": "stream",
     "text": [
      "Iteration 204: loss training = 0.0029392464975403114, best validation = 0.003104211064055562\n"
     ]
    },
    {
     "name": "stderr",
     "output_type": "stream",
     "text": [
      " 69%|██████▊   | 206/300 [02:24<01:05,  1.44it/s]"
     ]
    },
    {
     "name": "stdout",
     "output_type": "stream",
     "text": [
      "Iteration 205: loss training = 0.002940652049569921, best validation = 0.003104211064055562\n"
     ]
    },
    {
     "name": "stderr",
     "output_type": "stream",
     "text": [
      " 69%|██████▉   | 207/300 [02:24<01:04,  1.44it/s]"
     ]
    },
    {
     "name": "stdout",
     "output_type": "stream",
     "text": [
      "Iteration 206: loss training = 0.0029360231901095673, best validation = 0.003104211064055562\n"
     ]
    },
    {
     "name": "stderr",
     "output_type": "stream",
     "text": [
      " 69%|██████▉   | 208/300 [02:25<01:04,  1.42it/s]"
     ]
    },
    {
     "name": "stdout",
     "output_type": "stream",
     "text": [
      "Iteration 207: loss training = 0.0029398398304527457, best validation = 0.003104211064055562\n"
     ]
    },
    {
     "name": "stderr",
     "output_type": "stream",
     "text": [
      " 70%|██████▉   | 209/300 [02:26<01:04,  1.42it/s]"
     ]
    },
    {
     "name": "stdout",
     "output_type": "stream",
     "text": [
      "Iteration 208: loss training = 0.002932324235073545, best validation = 0.003104211064055562\n"
     ]
    },
    {
     "name": "stderr",
     "output_type": "stream",
     "text": [
      " 70%|███████   | 210/300 [02:27<01:03,  1.43it/s]"
     ]
    },
    {
     "name": "stdout",
     "output_type": "stream",
     "text": [
      "Iteration 209: loss training = 0.002940322970971465, best validation = 0.003104211064055562\n"
     ]
    },
    {
     "name": "stderr",
     "output_type": "stream",
     "text": [
      " 70%|███████   | 211/300 [02:27<01:02,  1.42it/s]"
     ]
    },
    {
     "name": "stdout",
     "output_type": "stream",
     "text": [
      "Iteration 210: loss training = 0.0029273722278462216, best validation = 0.003104211064055562\n"
     ]
    },
    {
     "name": "stderr",
     "output_type": "stream",
     "text": [
      " 71%|███████   | 212/300 [02:28<01:01,  1.42it/s]"
     ]
    },
    {
     "name": "stdout",
     "output_type": "stream",
     "text": [
      "Iteration 211: loss training = 0.0029366702476347033, best validation = 0.003104211064055562\n"
     ]
    },
    {
     "name": "stderr",
     "output_type": "stream",
     "text": [
      " 71%|███████   | 213/300 [02:29<01:01,  1.40it/s]"
     ]
    },
    {
     "name": "stdout",
     "output_type": "stream",
     "text": [
      "Iteration 212: loss training = 0.0029304749078371307, best validation = 0.003104211064055562\n"
     ]
    },
    {
     "name": "stderr",
     "output_type": "stream",
     "text": [
      " 71%|███████▏  | 214/300 [02:30<01:06,  1.30it/s]"
     ]
    },
    {
     "name": "stdout",
     "output_type": "stream",
     "text": [
      "Iteration 213: loss training = 0.0029230965682390062, best validation = 0.003104211064055562\n"
     ]
    },
    {
     "name": "stderr",
     "output_type": "stream",
     "text": [
      " 72%|███████▏  | 215/300 [02:30<01:05,  1.30it/s]"
     ]
    },
    {
     "name": "stdout",
     "output_type": "stream",
     "text": [
      "Iteration 214: loss training = 0.0029480110430582, best validation = 0.003104211064055562\n"
     ]
    },
    {
     "name": "stderr",
     "output_type": "stream",
     "text": [
      " 72%|███████▏  | 216/300 [02:31<01:03,  1.32it/s]"
     ]
    },
    {
     "name": "stdout",
     "output_type": "stream",
     "text": [
      "Iteration 215: loss training = 0.002929267134856094, best validation = 0.003104211064055562\n"
     ]
    },
    {
     "name": "stderr",
     "output_type": "stream",
     "text": [
      " 72%|███████▏  | 217/300 [02:32<01:00,  1.36it/s]"
     ]
    },
    {
     "name": "stdout",
     "output_type": "stream",
     "text": [
      "Iteration 216: loss training = 0.002938046788966114, best validation = 0.003104211064055562\n"
     ]
    },
    {
     "name": "stderr",
     "output_type": "stream",
     "text": [
      " 73%|███████▎  | 218/300 [02:32<00:56,  1.44it/s]"
     ]
    },
    {
     "name": "stdout",
     "output_type": "stream",
     "text": [
      "Iteration 217: loss training = 0.0029292951253327456, best validation = 0.003104211064055562\n"
     ]
    },
    {
     "name": "stderr",
     "output_type": "stream",
     "text": [
      " 73%|███████▎  | 219/300 [02:33<00:54,  1.50it/s]"
     ]
    },
    {
     "name": "stdout",
     "output_type": "stream",
     "text": [
      "Iteration 218: loss training = 0.0029367051129652695, best validation = 0.003104211064055562\n"
     ]
    },
    {
     "name": "stderr",
     "output_type": "stream",
     "text": [
      " 73%|███████▎  | 220/300 [02:34<00:52,  1.53it/s]"
     ]
    },
    {
     "name": "stdout",
     "output_type": "stream",
     "text": [
      "Iteration 219: loss training = 0.0029445140072229233, best validation = 0.003104211064055562\n"
     ]
    },
    {
     "name": "stderr",
     "output_type": "stream",
     "text": [
      " 74%|███████▎  | 221/300 [02:34<00:51,  1.52it/s]"
     ]
    },
    {
     "name": "stdout",
     "output_type": "stream",
     "text": [
      "Iteration 220: loss training = 0.0029375066388059746, best validation = 0.003104211064055562\n"
     ]
    },
    {
     "name": "stderr",
     "output_type": "stream",
     "text": [
      " 74%|███████▍  | 222/300 [02:35<00:51,  1.52it/s]"
     ]
    },
    {
     "name": "stdout",
     "output_type": "stream",
     "text": [
      "Iteration 221: loss training = 0.002931688709015196, best validation = 0.003104211064055562\n"
     ]
    },
    {
     "name": "stderr",
     "output_type": "stream",
     "text": [
      " 74%|███████▍  | 223/300 [02:36<00:50,  1.54it/s]"
     ]
    },
    {
     "name": "stdout",
     "output_type": "stream",
     "text": [
      "Iteration 222: loss training = 0.0029242254031652754, best validation = 0.003104211064055562\n"
     ]
    },
    {
     "name": "stderr",
     "output_type": "stream",
     "text": [
      " 75%|███████▍  | 224/300 [02:36<00:49,  1.53it/s]"
     ]
    },
    {
     "name": "stdout",
     "output_type": "stream",
     "text": [
      "Iteration 223: loss training = 0.0029400491071018306, best validation = 0.003104211064055562\n"
     ]
    },
    {
     "name": "stderr",
     "output_type": "stream",
     "text": [
      " 75%|███████▌  | 225/300 [02:37<00:49,  1.52it/s]"
     ]
    },
    {
     "name": "stdout",
     "output_type": "stream",
     "text": [
      "Iteration 224: loss training = 0.0029421919787471947, best validation = 0.003104211064055562\n"
     ]
    },
    {
     "name": "stderr",
     "output_type": "stream",
     "text": [
      " 75%|███████▌  | 226/300 [02:38<00:49,  1.48it/s]"
     ]
    },
    {
     "name": "stdout",
     "output_type": "stream",
     "text": [
      "Iteration 225: loss training = 0.002953121087259867, best validation = 0.003104211064055562\n"
     ]
    },
    {
     "name": "stderr",
     "output_type": "stream",
     "text": [
      " 76%|███████▌  | 227/300 [02:38<00:49,  1.48it/s]"
     ]
    },
    {
     "name": "stdout",
     "output_type": "stream",
     "text": [
      "Iteration 226: loss training = 0.002941660417921164, best validation = 0.003104211064055562\n"
     ]
    },
    {
     "name": "stderr",
     "output_type": "stream",
     "text": [
      " 76%|███████▌  | 228/300 [02:39<00:48,  1.49it/s]"
     ]
    },
    {
     "name": "stdout",
     "output_type": "stream",
     "text": [
      "Iteration 227: loss training = 0.0029379724905910817, best validation = 0.003104211064055562\n"
     ]
    },
    {
     "name": "stderr",
     "output_type": "stream",
     "text": [
      " 76%|███████▋  | 229/300 [02:40<00:47,  1.48it/s]"
     ]
    },
    {
     "name": "stdout",
     "output_type": "stream",
     "text": [
      "Iteration 228: loss training = 0.002933729054744948, best validation = 0.003104211064055562\n"
     ]
    },
    {
     "name": "stderr",
     "output_type": "stream",
     "text": [
      " 77%|███████▋  | 230/300 [02:40<00:47,  1.48it/s]"
     ]
    },
    {
     "name": "stdout",
     "output_type": "stream",
     "text": [
      "Iteration 229: loss training = 0.0029351291627707807, best validation = 0.003104211064055562\n"
     ]
    },
    {
     "name": "stderr",
     "output_type": "stream",
     "text": [
      " 77%|███████▋  | 231/300 [02:41<00:46,  1.48it/s]"
     ]
    },
    {
     "name": "stdout",
     "output_type": "stream",
     "text": [
      "Iteration 230: loss training = 0.0029482739257880235, best validation = 0.003104211064055562\n"
     ]
    },
    {
     "name": "stderr",
     "output_type": "stream",
     "text": [
      " 77%|███████▋  | 232/300 [02:42<00:45,  1.49it/s]"
     ]
    },
    {
     "name": "stdout",
     "output_type": "stream",
     "text": [
      "Iteration 231: loss training = 0.00293762867169624, best validation = 0.003104211064055562\n"
     ]
    },
    {
     "name": "stderr",
     "output_type": "stream",
     "text": [
      " 78%|███████▊  | 233/300 [02:42<00:43,  1.53it/s]"
     ]
    },
    {
     "name": "stdout",
     "output_type": "stream",
     "text": [
      "Iteration 232: loss training = 0.0029281210789287634, best validation = 0.003104211064055562\n"
     ]
    },
    {
     "name": "stderr",
     "output_type": "stream",
     "text": [
      " 78%|███████▊  | 234/300 [02:43<00:42,  1.55it/s]"
     ]
    },
    {
     "name": "stdout",
     "output_type": "stream",
     "text": [
      "Iteration 233: loss training = 0.0029387171507220377, best validation = 0.003104211064055562\n"
     ]
    },
    {
     "name": "stderr",
     "output_type": "stream",
     "text": [
      " 78%|███████▊  | 235/300 [02:44<00:41,  1.56it/s]"
     ]
    },
    {
     "name": "stdout",
     "output_type": "stream",
     "text": [
      "Iteration 234: loss training = 0.002932784575122324, best validation = 0.003104211064055562\n"
     ]
    },
    {
     "name": "stderr",
     "output_type": "stream",
     "text": [
      " 79%|███████▊  | 236/300 [02:44<00:40,  1.58it/s]"
     ]
    },
    {
     "name": "stdout",
     "output_type": "stream",
     "text": [
      "Iteration 235: loss training = 0.0029217766513201324, best validation = 0.003104211064055562\n"
     ]
    },
    {
     "name": "stderr",
     "output_type": "stream",
     "text": [
      " 79%|███████▉  | 237/300 [02:45<00:39,  1.60it/s]"
     ]
    },
    {
     "name": "stdout",
     "output_type": "stream",
     "text": [
      "Iteration 236: loss training = 0.0029298899779942903, best validation = 0.003104211064055562\n"
     ]
    },
    {
     "name": "stderr",
     "output_type": "stream",
     "text": [
      " 79%|███████▉  | 238/300 [02:45<00:39,  1.56it/s]"
     ]
    },
    {
     "name": "stdout",
     "output_type": "stream",
     "text": [
      "Iteration 237: loss training = 0.0029396985107186164, best validation = 0.003104211064055562\n"
     ]
    },
    {
     "name": "stderr",
     "output_type": "stream",
     "text": [
      " 80%|███████▉  | 239/300 [02:46<00:39,  1.56it/s]"
     ]
    },
    {
     "name": "stdout",
     "output_type": "stream",
     "text": [
      "Iteration 238: loss training = 0.002927105560560118, best validation = 0.003104211064055562\n"
     ]
    },
    {
     "name": "stderr",
     "output_type": "stream",
     "text": [
      " 80%|████████  | 240/300 [02:47<00:38,  1.56it/s]"
     ]
    },
    {
     "name": "stdout",
     "output_type": "stream",
     "text": [
      "Iteration 239: loss training = 0.002927307251163504, best validation = 0.003104211064055562\n"
     ]
    },
    {
     "name": "stderr",
     "output_type": "stream",
     "text": [
      " 80%|████████  | 241/300 [02:47<00:37,  1.57it/s]"
     ]
    },
    {
     "name": "stdout",
     "output_type": "stream",
     "text": [
      "Iteration 240: loss training = 0.0029379669365219093, best validation = 0.003104211064055562\n"
     ]
    },
    {
     "name": "stderr",
     "output_type": "stream",
     "text": [
      " 81%|████████  | 242/300 [02:48<00:36,  1.58it/s]"
     ]
    },
    {
     "name": "stdout",
     "output_type": "stream",
     "text": [
      "Iteration 241: loss training = 0.0029255394654517826, best validation = 0.003104211064055562\n"
     ]
    },
    {
     "name": "stderr",
     "output_type": "stream",
     "text": [
      " 81%|████████  | 243/300 [02:49<00:35,  1.60it/s]"
     ]
    },
    {
     "name": "stdout",
     "output_type": "stream",
     "text": [
      "Iteration 242: loss training = 0.002932776472615925, best validation = 0.003104211064055562\n"
     ]
    },
    {
     "name": "stderr",
     "output_type": "stream",
     "text": [
      " 81%|████████▏ | 244/300 [02:49<00:35,  1.59it/s]"
     ]
    },
    {
     "name": "stdout",
     "output_type": "stream",
     "text": [
      "Iteration 243: loss training = 0.002920919229191813, best validation = 0.003104211064055562\n"
     ]
    },
    {
     "name": "stderr",
     "output_type": "stream",
     "text": [
      " 82%|████████▏ | 245/300 [02:50<00:35,  1.55it/s]"
     ]
    },
    {
     "name": "stdout",
     "output_type": "stream",
     "text": [
      "Iteration 244: loss training = 0.0029377678536217323, best validation = 0.003104211064055562\n"
     ]
    },
    {
     "name": "stderr",
     "output_type": "stream",
     "text": [
      " 82%|████████▏ | 246/300 [02:51<00:35,  1.53it/s]"
     ]
    },
    {
     "name": "stdout",
     "output_type": "stream",
     "text": [
      "Iteration 245: loss training = 0.0029443499335849825, best validation = 0.003104211064055562\n"
     ]
    },
    {
     "name": "stderr",
     "output_type": "stream",
     "text": [
      " 82%|████████▏ | 247/300 [02:51<00:34,  1.55it/s]"
     ]
    },
    {
     "name": "stdout",
     "output_type": "stream",
     "text": [
      "Iteration 246: loss training = 0.002926825943656943, best validation = 0.003104211064055562\n"
     ]
    },
    {
     "name": "stderr",
     "output_type": "stream",
     "text": [
      " 83%|████████▎ | 248/300 [02:52<00:33,  1.55it/s]"
     ]
    },
    {
     "name": "stdout",
     "output_type": "stream",
     "text": [
      "Iteration 247: loss training = 0.002936910990286957, best validation = 0.003104211064055562\n"
     ]
    },
    {
     "name": "stderr",
     "output_type": "stream",
     "text": [
      " 83%|████████▎ | 249/300 [02:53<00:33,  1.54it/s]"
     ]
    },
    {
     "name": "stdout",
     "output_type": "stream",
     "text": [
      "Iteration 248: loss training = 0.0029335011093115267, best validation = 0.003104211064055562\n"
     ]
    },
    {
     "name": "stderr",
     "output_type": "stream",
     "text": [
      " 83%|████████▎ | 250/300 [02:53<00:32,  1.53it/s]"
     ]
    },
    {
     "name": "stdout",
     "output_type": "stream",
     "text": [
      "Iteration 249: loss training = 0.002932181213559075, best validation = 0.003104211064055562\n"
     ]
    },
    {
     "name": "stderr",
     "output_type": "stream",
     "text": [
      " 84%|████████▎ | 251/300 [02:54<00:31,  1.56it/s]"
     ]
    },
    {
     "name": "stdout",
     "output_type": "stream",
     "text": [
      "Iteration 250: loss training = 0.0029356339523060756, best validation = 0.003104211064055562\n"
     ]
    },
    {
     "name": "stderr",
     "output_type": "stream",
     "text": [
      " 84%|████████▍ | 252/300 [02:54<00:30,  1.58it/s]"
     ]
    },
    {
     "name": "stdout",
     "output_type": "stream",
     "text": [
      "Iteration 251: loss training = 0.0029228910846127707, best validation = 0.003104211064055562\n"
     ]
    },
    {
     "name": "stderr",
     "output_type": "stream",
     "text": [
      " 84%|████████▍ | 253/300 [02:55<00:29,  1.59it/s]"
     ]
    },
    {
     "name": "stdout",
     "output_type": "stream",
     "text": [
      "Iteration 252: loss training = 0.0029389374212107876, best validation = 0.003104211064055562\n"
     ]
    },
    {
     "name": "stderr",
     "output_type": "stream",
     "text": [
      " 85%|████████▍ | 254/300 [02:56<00:28,  1.60it/s]"
     ]
    },
    {
     "name": "stdout",
     "output_type": "stream",
     "text": [
      "Iteration 253: loss training = 0.0029374450191178105, best validation = 0.003104211064055562\n"
     ]
    },
    {
     "name": "stderr",
     "output_type": "stream",
     "text": [
      " 85%|████████▌ | 255/300 [02:56<00:27,  1.62it/s]"
     ]
    },
    {
     "name": "stdout",
     "output_type": "stream",
     "text": [
      "Iteration 254: loss training = 0.002939267363399267, best validation = 0.003104211064055562\n"
     ]
    },
    {
     "name": "stderr",
     "output_type": "stream",
     "text": [
      " 85%|████████▌ | 256/300 [02:57<00:27,  1.60it/s]"
     ]
    },
    {
     "name": "stdout",
     "output_type": "stream",
     "text": [
      "Iteration 255: loss training = 0.002927678768438372, best validation = 0.003104211064055562\n"
     ]
    },
    {
     "name": "stderr",
     "output_type": "stream",
     "text": [
      " 86%|████████▌ | 257/300 [02:57<00:26,  1.61it/s]"
     ]
    },
    {
     "name": "stdout",
     "output_type": "stream",
     "text": [
      "Iteration 256: loss training = 0.002930539825253866, best validation = 0.003104211064055562\n"
     ]
    },
    {
     "name": "stderr",
     "output_type": "stream",
     "text": [
      " 86%|████████▌ | 258/300 [02:58<00:26,  1.62it/s]"
     ]
    },
    {
     "name": "stdout",
     "output_type": "stream",
     "text": [
      "Iteration 257: loss training = 0.00294448487799276, best validation = 0.003104211064055562\n"
     ]
    },
    {
     "name": "stderr",
     "output_type": "stream",
     "text": [
      " 86%|████████▋ | 259/300 [02:59<00:25,  1.62it/s]"
     ]
    },
    {
     "name": "stdout",
     "output_type": "stream",
     "text": [
      "Iteration 258: loss training = 0.002945266223766587, best validation = 0.003104211064055562\n"
     ]
    },
    {
     "name": "stderr",
     "output_type": "stream",
     "text": [
      " 87%|████████▋ | 260/300 [02:59<00:24,  1.61it/s]"
     ]
    },
    {
     "name": "stdout",
     "output_type": "stream",
     "text": [
      "Iteration 259: loss training = 0.0029498894614252177, best validation = 0.003104211064055562\n"
     ]
    },
    {
     "name": "stderr",
     "output_type": "stream",
     "text": [
      " 87%|████████▋ | 261/300 [03:00<00:25,  1.56it/s]"
     ]
    },
    {
     "name": "stdout",
     "output_type": "stream",
     "text": [
      "Iteration 260: loss training = 0.0029301119671965186, best validation = 0.003104211064055562\n"
     ]
    },
    {
     "name": "stderr",
     "output_type": "stream",
     "text": [
      " 87%|████████▋ | 262/300 [03:01<00:24,  1.57it/s]"
     ]
    },
    {
     "name": "stdout",
     "output_type": "stream",
     "text": [
      "Iteration 261: loss training = 0.0029399300332773816, best validation = 0.003104211064055562\n"
     ]
    },
    {
     "name": "stderr",
     "output_type": "stream",
     "text": [
      " 88%|████████▊ | 263/300 [03:01<00:23,  1.54it/s]"
     ]
    },
    {
     "name": "stdout",
     "output_type": "stream",
     "text": [
      "Iteration 262: loss training = 0.0029340253507887776, best validation = 0.003104211064055562\n"
     ]
    },
    {
     "name": "stderr",
     "output_type": "stream",
     "text": [
      " 88%|████████▊ | 264/300 [03:02<00:23,  1.52it/s]"
     ]
    },
    {
     "name": "stdout",
     "output_type": "stream",
     "text": [
      "Iteration 263: loss training = 0.0029316479043865746, best validation = 0.003104211064055562\n"
     ]
    },
    {
     "name": "stderr",
     "output_type": "stream",
     "text": [
      " 88%|████████▊ | 265/300 [03:03<00:22,  1.54it/s]"
     ]
    },
    {
     "name": "stdout",
     "output_type": "stream",
     "text": [
      "Iteration 264: loss training = 0.0029345117848027834, best validation = 0.003104211064055562\n"
     ]
    },
    {
     "name": "stderr",
     "output_type": "stream",
     "text": [
      " 89%|████████▊ | 266/300 [03:03<00:21,  1.55it/s]"
     ]
    },
    {
     "name": "stdout",
     "output_type": "stream",
     "text": [
      "Iteration 265: loss training = 0.0029294344469566235, best validation = 0.003104211064055562\n"
     ]
    },
    {
     "name": "stderr",
     "output_type": "stream",
     "text": [
      " 89%|████████▉ | 267/300 [03:04<00:21,  1.55it/s]"
     ]
    },
    {
     "name": "stdout",
     "output_type": "stream",
     "text": [
      "Iteration 266: loss training = 0.002939462107182904, best validation = 0.003104211064055562\n"
     ]
    },
    {
     "name": "stderr",
     "output_type": "stream",
     "text": [
      " 89%|████████▉ | 268/300 [03:05<00:21,  1.46it/s]"
     ]
    },
    {
     "name": "stdout",
     "output_type": "stream",
     "text": [
      "Iteration 267: loss training = 0.0029373065610839564, best validation = 0.003104211064055562\n"
     ]
    },
    {
     "name": "stderr",
     "output_type": "stream",
     "text": [
      " 90%|████████▉ | 269/300 [03:05<00:21,  1.45it/s]"
     ]
    },
    {
     "name": "stdout",
     "output_type": "stream",
     "text": [
      "Iteration 268: loss training = 0.002932356916029345, best validation = 0.003104211064055562\n"
     ]
    },
    {
     "name": "stderr",
     "output_type": "stream",
     "text": [
      " 90%|█████████ | 270/300 [03:06<00:20,  1.46it/s]"
     ]
    },
    {
     "name": "stdout",
     "output_type": "stream",
     "text": [
      "Iteration 269: loss training = 0.002943957241421396, best validation = 0.003104211064055562\n"
     ]
    },
    {
     "name": "stderr",
     "output_type": "stream",
     "text": [
      " 90%|█████████ | 271/300 [03:07<00:20,  1.45it/s]"
     ]
    },
    {
     "name": "stdout",
     "output_type": "stream",
     "text": [
      "Iteration 270: loss training = 0.0029443349477581, best validation = 0.003104124548068891\n"
     ]
    },
    {
     "name": "stderr",
     "output_type": "stream",
     "text": [
      " 91%|█████████ | 272/300 [03:08<00:19,  1.41it/s]"
     ]
    },
    {
     "name": "stdout",
     "output_type": "stream",
     "text": [
      "Iteration 271: loss training = 0.0029414185449819674, best validation = 0.003104124548068891\n"
     ]
    },
    {
     "name": "stderr",
     "output_type": "stream",
     "text": [
      " 91%|█████████ | 273/300 [03:08<00:19,  1.41it/s]"
     ]
    },
    {
     "name": "stdout",
     "output_type": "stream",
     "text": [
      "Iteration 272: loss training = 0.002935185126790946, best validation = 0.003104124548068891\n"
     ]
    },
    {
     "name": "stderr",
     "output_type": "stream",
     "text": [
      " 91%|█████████▏| 274/300 [03:09<00:17,  1.47it/s]"
     ]
    },
    {
     "name": "stdout",
     "output_type": "stream",
     "text": [
      "Iteration 273: loss training = 0.0029238260816782714, best validation = 0.003104124548068891\n"
     ]
    },
    {
     "name": "stderr",
     "output_type": "stream",
     "text": [
      " 92%|█████████▏| 275/300 [03:09<00:16,  1.51it/s]"
     ]
    },
    {
     "name": "stdout",
     "output_type": "stream",
     "text": [
      "Iteration 274: loss training = 0.0029331413394009524, best validation = 0.003104124548068891\n"
     ]
    },
    {
     "name": "stderr",
     "output_type": "stream",
     "text": [
      " 92%|█████████▏| 276/300 [03:10<00:15,  1.54it/s]"
     ]
    },
    {
     "name": "stdout",
     "output_type": "stream",
     "text": [
      "Iteration 275: loss training = 0.002931734381920912, best validation = 0.003104124548068891\n"
     ]
    },
    {
     "name": "stderr",
     "output_type": "stream",
     "text": [
      " 92%|█████████▏| 277/300 [03:11<00:14,  1.54it/s]"
     ]
    },
    {
     "name": "stdout",
     "output_type": "stream",
     "text": [
      "Iteration 276: loss training = 0.0029368973294781014, best validation = 0.003104124548068891\n"
     ]
    },
    {
     "name": "stderr",
     "output_type": "stream",
     "text": [
      " 93%|█████████▎| 278/300 [03:11<00:14,  1.56it/s]"
     ]
    },
    {
     "name": "stdout",
     "output_type": "stream",
     "text": [
      "Iteration 277: loss training = 0.002937015226449479, best validation = 0.003104124548068891\n"
     ]
    },
    {
     "name": "stderr",
     "output_type": "stream",
     "text": [
      " 93%|█████████▎| 279/300 [03:12<00:13,  1.54it/s]"
     ]
    },
    {
     "name": "stdout",
     "output_type": "stream",
     "text": [
      "Iteration 278: loss training = 0.0029369181191379375, best validation = 0.003104124548068891\n"
     ]
    },
    {
     "name": "stderr",
     "output_type": "stream",
     "text": [
      " 93%|█████████▎| 280/300 [03:13<00:12,  1.56it/s]"
     ]
    },
    {
     "name": "stdout",
     "output_type": "stream",
     "text": [
      "Iteration 279: loss training = 0.002929414736784317, best validation = 0.003104124548068891\n"
     ]
    },
    {
     "name": "stderr",
     "output_type": "stream",
     "text": [
      " 94%|█████████▎| 281/300 [03:13<00:12,  1.58it/s]"
     ]
    },
    {
     "name": "stdout",
     "output_type": "stream",
     "text": [
      "Iteration 280: loss training = 0.0029455029955980454, best validation = 0.003104124548068891\n"
     ]
    },
    {
     "name": "stderr",
     "output_type": "stream",
     "text": [
      " 94%|█████████▍| 282/300 [03:14<00:11,  1.59it/s]"
     ]
    },
    {
     "name": "stdout",
     "output_type": "stream",
     "text": [
      "Iteration 281: loss training = 0.002926272340118885, best validation = 0.003104124548068891\n"
     ]
    },
    {
     "name": "stderr",
     "output_type": "stream",
     "text": [
      " 94%|█████████▍| 283/300 [03:15<00:10,  1.58it/s]"
     ]
    },
    {
     "name": "stdout",
     "output_type": "stream",
     "text": [
      "Iteration 282: loss training = 0.0029344993812794036, best validation = 0.003104124548068891\n"
     ]
    },
    {
     "name": "stderr",
     "output_type": "stream",
     "text": [
      " 95%|█████████▍| 284/300 [03:15<00:10,  1.58it/s]"
     ]
    },
    {
     "name": "stdout",
     "output_type": "stream",
     "text": [
      "Iteration 283: loss training = 0.002940933859314431, best validation = 0.003104124548068891\n"
     ]
    },
    {
     "name": "stderr",
     "output_type": "stream",
     "text": [
      " 95%|█████████▌| 285/300 [03:16<00:10,  1.49it/s]"
     ]
    },
    {
     "name": "stdout",
     "output_type": "stream",
     "text": [
      "Iteration 284: loss training = 0.0029452471739866517, best validation = 0.003104124548068891\n"
     ]
    },
    {
     "name": "stderr",
     "output_type": "stream",
     "text": [
      " 95%|█████████▌| 286/300 [03:17<00:09,  1.46it/s]"
     ]
    },
    {
     "name": "stdout",
     "output_type": "stream",
     "text": [
      "Iteration 285: loss training = 0.0029230282726612957, best validation = 0.003104124548068891\n"
     ]
    },
    {
     "name": "stderr",
     "output_type": "stream",
     "text": [
      " 96%|█████████▌| 287/300 [03:17<00:09,  1.39it/s]"
     ]
    },
    {
     "name": "stdout",
     "output_type": "stream",
     "text": [
      "Iteration 286: loss training = 0.002933879526840015, best validation = 0.003104124548068891\n"
     ]
    },
    {
     "name": "stderr",
     "output_type": "stream",
     "text": [
      " 96%|█████████▌| 288/300 [03:18<00:08,  1.45it/s]"
     ]
    },
    {
     "name": "stdout",
     "output_type": "stream",
     "text": [
      "Iteration 287: loss training = 0.0029235647652636875, best validation = 0.003104124548068891\n"
     ]
    },
    {
     "name": "stderr",
     "output_type": "stream",
     "text": [
      " 96%|█████████▋| 289/300 [03:19<00:07,  1.50it/s]"
     ]
    },
    {
     "name": "stdout",
     "output_type": "stream",
     "text": [
      "Iteration 288: loss training = 0.0029208315959708257, best validation = 0.003104124548068891\n"
     ]
    },
    {
     "name": "stderr",
     "output_type": "stream",
     "text": [
      " 97%|█████████▋| 290/300 [03:19<00:06,  1.53it/s]"
     ]
    },
    {
     "name": "stdout",
     "output_type": "stream",
     "text": [
      "Iteration 289: loss training = 0.0029297869398512625, best validation = 0.003104124548068891\n"
     ]
    },
    {
     "name": "stderr",
     "output_type": "stream",
     "text": [
      " 97%|█████████▋| 291/300 [03:20<00:05,  1.55it/s]"
     ]
    },
    {
     "name": "stdout",
     "output_type": "stream",
     "text": [
      "Iteration 290: loss training = 0.002932202151383866, best validation = 0.003104124548068891\n"
     ]
    },
    {
     "name": "stderr",
     "output_type": "stream",
     "text": [
      " 97%|█████████▋| 292/300 [03:21<00:05,  1.53it/s]"
     ]
    },
    {
     "name": "stdout",
     "output_type": "stream",
     "text": [
      "Iteration 291: loss training = 0.002929753674702211, best validation = 0.003104124548068891\n"
     ]
    },
    {
     "name": "stderr",
     "output_type": "stream",
     "text": [
      " 98%|█████████▊| 293/300 [03:21<00:04,  1.52it/s]"
     ]
    },
    {
     "name": "stdout",
     "output_type": "stream",
     "text": [
      "Iteration 292: loss training = 0.002937846283682368, best validation = 0.003104124548068891\n"
     ]
    },
    {
     "name": "stderr",
     "output_type": "stream",
     "text": [
      " 98%|█████████▊| 294/300 [03:22<00:03,  1.51it/s]"
     ]
    },
    {
     "name": "stdout",
     "output_type": "stream",
     "text": [
      "Iteration 293: loss training = 0.0029335447968068446, best validation = 0.003104124548068891\n"
     ]
    },
    {
     "name": "stderr",
     "output_type": "stream",
     "text": [
      " 98%|█████████▊| 295/300 [03:23<00:03,  1.53it/s]"
     ]
    },
    {
     "name": "stdout",
     "output_type": "stream",
     "text": [
      "Iteration 294: loss training = 0.002930501518263058, best validation = 0.003104124548068891\n"
     ]
    },
    {
     "name": "stderr",
     "output_type": "stream",
     "text": [
      " 99%|█████████▊| 296/300 [03:23<00:02,  1.54it/s]"
     ]
    },
    {
     "name": "stdout",
     "output_type": "stream",
     "text": [
      "Iteration 295: loss training = 0.0029297565279359167, best validation = 0.003104124548068891\n"
     ]
    },
    {
     "name": "stderr",
     "output_type": "stream",
     "text": [
      " 99%|█████████▉| 297/300 [03:24<00:01,  1.51it/s]"
     ]
    },
    {
     "name": "stdout",
     "output_type": "stream",
     "text": [
      "Iteration 296: loss training = 0.0029425476466051555, best validation = 0.003104124548068891\n"
     ]
    },
    {
     "name": "stderr",
     "output_type": "stream",
     "text": [
      " 99%|█████████▉| 298/300 [03:25<00:01,  1.49it/s]"
     ]
    },
    {
     "name": "stdout",
     "output_type": "stream",
     "text": [
      "Iteration 297: loss training = 0.002932201245460998, best validation = 0.003104124548068891\n"
     ]
    },
    {
     "name": "stderr",
     "output_type": "stream",
     "text": [
      "100%|█████████▉| 299/300 [03:25<00:00,  1.52it/s]"
     ]
    },
    {
     "name": "stdout",
     "output_type": "stream",
     "text": [
      "Iteration 298: loss training = 0.00293663105588745, best validation = 0.003104124548068891\n"
     ]
    },
    {
     "name": "stderr",
     "output_type": "stream",
     "text": [
      "100%|██████████| 300/300 [03:26<00:00,  1.45it/s]"
     ]
    },
    {
     "name": "stdout",
     "output_type": "stream",
     "text": [
      "Iteration 299: loss training = 0.0029378723395480353, best validation = 0.003104124548068891\n"
     ]
    },
    {
     "name": "stderr",
     "output_type": "stream",
     "text": [
      "\n"
     ]
    },
    {
     "data": {
      "text/plain": [
       "([0.3698294815692035,\n",
       "  0.09898306388746608,\n",
       "  0.06197048466313969,\n",
       "  0.049657447771592575,\n",
       "  0.04702989181334322,\n",
       "  0.046338633210821586,\n",
       "  0.044930400800975885,\n",
       "  0.048866064033725044,\n",
       "  0.03929733454503796,\n",
       "  0.04649439213628119,\n",
       "  0.044547797908837145,\n",
       "  0.04249945103444836,\n",
       "  0.04012210853397846,\n",
       "  0.020805951936001127,\n",
       "  0.021706127493896266,\n",
       "  0.022158213332295416,\n",
       "  0.023282989876514133,\n",
       "  0.01759787994352254,\n",
       "  0.02057157609273087,\n",
       "  0.02609350955621763,\n",
       "  0.024515284462408585,\n",
       "  0.02693446898324923,\n",
       "  0.029749461771412328,\n",
       "  0.02227344677190889,\n",
       "  0.02351063181730834,\n",
       "  0.020963058569891887,\n",
       "  0.022236301902342926,\n",
       "  0.016499182006174867,\n",
       "  0.025296766903590073,\n",
       "  0.01693396026437933,\n",
       "  0.010587427951395511,\n",
       "  0.005634440244598822,\n",
       "  0.005509035111489621,\n",
       "  0.005443539072505452,\n",
       "  0.005204795554957607,\n",
       "  0.005218081489544023,\n",
       "  0.00516620214859193,\n",
       "  0.005529780855233019,\n",
       "  0.005179690874435685,\n",
       "  0.00554915341463956,\n",
       "  0.0056391305036165495,\n",
       "  0.005550125986337662,\n",
       "  0.005845432516864755,\n",
       "  0.005569727744229815,\n",
       "  0.005730290643193505,\n",
       "  0.007394490526481108,\n",
       "  0.006437658205289732,\n",
       "  0.005542481432414868,\n",
       "  0.005514570181681351,\n",
       "  0.004829331394284963,\n",
       "  0.004771194988015023,\n",
       "  0.005585453117435629,\n",
       "  0.005655074060301889,\n",
       "  0.0056639130311933435,\n",
       "  0.005963913402096792,\n",
       "  0.004985339499332688,\n",
       "  0.0047297642227600925,\n",
       "  0.0050055347806350755,\n",
       "  0.006098285347053951,\n",
       "  0.005868953415615992,\n",
       "  0.0036576011937788943,\n",
       "  0.0035117526961998507,\n",
       "  0.00348250010389496,\n",
       "  0.003547933862798593,\n",
       "  0.00355394541031935,\n",
       "  0.0034204127351668747,\n",
       "  0.0035258270080455326,\n",
       "  0.0035318112212487244,\n",
       "  0.0034745883323590862,\n",
       "  0.003581931408156048,\n",
       "  0.0034305935429239814,\n",
       "  0.0034143473106351767,\n",
       "  0.003384897332977165,\n",
       "  0.0033951756205748427,\n",
       "  0.0034100936598737133,\n",
       "  0.0034088799602944742,\n",
       "  0.0033932630480690436,\n",
       "  0.0033907954919744623,\n",
       "  0.003395320022140037,\n",
       "  0.003357425370168957,\n",
       "  0.00339224996807223,\n",
       "  0.003473922267386859,\n",
       "  0.0034030011177740315,\n",
       "  0.00350504263558171,\n",
       "  0.0033588421531021593,\n",
       "  0.0033810867758637124,\n",
       "  0.0034006197767501526,\n",
       "  0.003342156433923678,\n",
       "  0.0033136619297279555,\n",
       "  0.003378929900513454,\n",
       "  0.0031534926415505734,\n",
       "  0.0031300035813315347,\n",
       "  0.0030945876105265184,\n",
       "  0.0030746464702216063,\n",
       "  0.00308562392284247,\n",
       "  0.0030706612139262935,\n",
       "  0.003087305912578648,\n",
       "  0.003086420703171329,\n",
       "  0.0030748407991433684,\n",
       "  0.003082528629932891,\n",
       "  0.003063236227767034,\n",
       "  0.0030687785284085707,\n",
       "  0.0030763774390586396,\n",
       "  0.003082098921930248,\n",
       "  0.0030586513690650462,\n",
       "  0.0030695719983090054,\n",
       "  0.003036427828059955,\n",
       "  0.003067508191716942,\n",
       "  0.003038899177177386,\n",
       "  0.0030729161025109617,\n",
       "  0.0030649365010586654,\n",
       "  0.003079305496066809,\n",
       "  0.003061149049211632,\n",
       "  0.003061251079832966,\n",
       "  0.003046534417874434,\n",
       "  0.0030898763332515957,\n",
       "  0.0030430322893979875,\n",
       "  0.003024570749733936,\n",
       "  0.003037130663340742,\n",
       "  0.003018545596437021,\n",
       "  0.0029847271190109577,\n",
       "  0.0029708919242363084,\n",
       "  0.0029791848607022653,\n",
       "  0.0029795180540531873,\n",
       "  0.002984202212908051,\n",
       "  0.0029736378611150112,\n",
       "  0.002962063570422205,\n",
       "  0.0029762966685335747,\n",
       "  0.0029774684882299465,\n",
       "  0.002968804119154811,\n",
       "  0.002967932659455321,\n",
       "  0.002958688321946697,\n",
       "  0.002975062403658574,\n",
       "  0.002968271550807086,\n",
       "  0.0029626442373476246,\n",
       "  0.0029776652555235407,\n",
       "  0.002971307954496958,\n",
       "  0.002970946745269678,\n",
       "  0.0029510903849520468,\n",
       "  0.00295521906492385,\n",
       "  0.0029682385142553937,\n",
       "  0.0029739985792812977,\n",
       "  0.0029678716493601147,\n",
       "  0.0029683798001232473,\n",
       "  0.0029657030435787006,\n",
       "  0.0029653521042994476,\n",
       "  0.002978766324337233,\n",
       "  0.0029688625427132303,\n",
       "  0.002958884242583405,\n",
       "  0.0029679752589965407,\n",
       "  0.0029496986080299725,\n",
       "  0.0029346537987955594,\n",
       "  0.0029436916028234093,\n",
       "  0.0029526826840910046,\n",
       "  0.002943892785432664,\n",
       "  0.002933514126661149,\n",
       "  0.0029399682259695094,\n",
       "  0.0029525272209535948,\n",
       "  0.0029398147694089196,\n",
       "  0.00292481899430806,\n",
       "  0.002938357651741667,\n",
       "  0.0029416984751481903,\n",
       "  0.002937312237918377,\n",
       "  0.002954111345620318,\n",
       "  0.0029350266241553154,\n",
       "  0.0029458970805122096,\n",
       "  0.002939562321725217,\n",
       "  0.002945129543712193,\n",
       "  0.0029260323975573888,\n",
       "  0.0029453795318576423,\n",
       "  0.0029358660167252476,\n",
       "  0.0029406826392832128,\n",
       "  0.0029475284697995942,\n",
       "  0.002928473186594519,\n",
       "  0.0029437705408781765,\n",
       "  0.0029508500529283827,\n",
       "  0.002940912540494041,\n",
       "  0.0029392080127515576,\n",
       "  0.002939091783694246,\n",
       "  0.00294620848514817,\n",
       "  0.002925347570668567,\n",
       "  0.0029400835067711095,\n",
       "  0.002931851504201239,\n",
       "  0.0029255648312920875,\n",
       "  0.0029408345972611145,\n",
       "  0.0029503949579190126,\n",
       "  0.002945481219582937,\n",
       "  0.0029311132786626164,\n",
       "  0.002929214032536203,\n",
       "  0.002929615978659554,\n",
       "  0.002956822332502766,\n",
       "  0.002935520652681589,\n",
       "  0.002937781632962552,\n",
       "  0.0029323381117799066,\n",
       "  0.0029400553765960716,\n",
       "  0.0029355013277381657,\n",
       "  0.002936824419620362,\n",
       "  0.0029335737694054843,\n",
       "  0.00293291080319746,\n",
       "  0.002941121647811749,\n",
       "  0.0029285364233973352,\n",
       "  0.002937110894444314,\n",
       "  0.0029291813981465317,\n",
       "  0.0029314752541143786,\n",
       "  0.0029392464975403114,\n",
       "  0.002940652049569921,\n",
       "  0.0029360231901095673,\n",
       "  0.0029398398304527457,\n",
       "  0.002932324235073545,\n",
       "  0.002940322970971465,\n",
       "  0.0029273722278462216,\n",
       "  0.0029366702476347033,\n",
       "  0.0029304749078371307,\n",
       "  0.0029230965682390062,\n",
       "  0.0029480110430582,\n",
       "  0.002929267134856094,\n",
       "  0.002938046788966114,\n",
       "  0.0029292951253327456,\n",
       "  0.0029367051129652695,\n",
       "  0.0029445140072229233,\n",
       "  0.0029375066388059746,\n",
       "  0.002931688709015196,\n",
       "  0.0029242254031652754,\n",
       "  0.0029400491071018306,\n",
       "  0.0029421919787471947,\n",
       "  0.002953121087259867,\n",
       "  0.002941660417921164,\n",
       "  0.0029379724905910817,\n",
       "  0.002933729054744948,\n",
       "  0.0029351291627707807,\n",
       "  0.0029482739257880235,\n",
       "  0.00293762867169624,\n",
       "  0.0029281210789287634,\n",
       "  0.0029387171507220377,\n",
       "  0.002932784575122324,\n",
       "  0.0029217766513201324,\n",
       "  0.0029298899779942903,\n",
       "  0.0029396985107186164,\n",
       "  0.002927105560560118,\n",
       "  0.002927307251163504,\n",
       "  0.0029379669365219093,\n",
       "  0.0029255394654517826,\n",
       "  0.002932776472615925,\n",
       "  0.002920919229191813,\n",
       "  0.0029377678536217323,\n",
       "  0.0029443499335849825,\n",
       "  0.002926825943656943,\n",
       "  0.002936910990286957,\n",
       "  0.0029335011093115267,\n",
       "  0.002932181213559075,\n",
       "  0.0029356339523060756,\n",
       "  0.0029228910846127707,\n",
       "  0.0029389374212107876,\n",
       "  0.0029374450191178105,\n",
       "  0.002939267363399267,\n",
       "  0.002927678768438372,\n",
       "  0.002930539825253866,\n",
       "  0.00294448487799276,\n",
       "  0.002945266223766587,\n",
       "  0.0029498894614252177,\n",
       "  0.0029301119671965186,\n",
       "  0.0029399300332773816,\n",
       "  0.0029340253507887776,\n",
       "  0.0029316479043865746,\n",
       "  0.0029345117848027834,\n",
       "  0.0029294344469566235,\n",
       "  0.002939462107182904,\n",
       "  0.0029373065610839564,\n",
       "  0.002932356916029345,\n",
       "  0.002943957241421396,\n",
       "  0.0029443349477581,\n",
       "  0.0029414185449819674,\n",
       "  0.002935185126790946,\n",
       "  0.0029238260816782714,\n",
       "  0.0029331413394009524,\n",
       "  0.002931734381920912,\n",
       "  0.0029368973294781014,\n",
       "  0.002937015226449479,\n",
       "  0.0029369181191379375,\n",
       "  0.002929414736784317,\n",
       "  0.0029455029955980454,\n",
       "  0.002926272340118885,\n",
       "  0.0029344993812794036,\n",
       "  0.002940933859314431,\n",
       "  0.0029452471739866517,\n",
       "  0.0029230282726612957,\n",
       "  0.002933879526840015,\n",
       "  0.0029235647652636875,\n",
       "  0.0029208315959708257,\n",
       "  0.0029297869398512625,\n",
       "  0.002932202151383866,\n",
       "  0.002929753674702211,\n",
       "  0.002937846283682368,\n",
       "  0.0029335447968068446,\n",
       "  0.002930501518263058,\n",
       "  0.0029297565279359167,\n",
       "  0.0029425476466051555,\n",
       "  0.002932201245460998,\n",
       "  0.00293663105588745,\n",
       "  0.0029378723395480353],\n",
       " [0.14587475607792535,\n",
       "  0.07502245468397935,\n",
       "  0.0558865594988068,\n",
       "  0.04910156891370813,\n",
       "  0.05431162022675077,\n",
       "  0.03740186554690202,\n",
       "  0.03373897525792321,\n",
       "  0.04613722519328197,\n",
       "  0.02367080670470993,\n",
       "  0.030635173820580047,\n",
       "  0.03939970023930073,\n",
       "  0.030599665129557252,\n",
       "  0.021079281345009804,\n",
       "  0.01825864325898389,\n",
       "  0.04499908909201622,\n",
       "  0.01853347655075292,\n",
       "  0.019243528756002586,\n",
       "  0.0190867578300337,\n",
       "  0.017354198188210528,\n",
       "  0.016923628475827474,\n",
       "  0.015791315119713545,\n",
       "  0.015235422179102898,\n",
       "  0.026946252677589655,\n",
       "  0.01803481935833891,\n",
       "  0.025324371022482712,\n",
       "  0.014211876938740412,\n",
       "  0.015042543644085526,\n",
       "  0.014238734147511423,\n",
       "  0.014293230487965047,\n",
       "  0.042942435635874666,\n",
       "  0.0063646642956882715,\n",
       "  0.005377467682895561,\n",
       "  0.005554872293335696,\n",
       "  0.0053160313206414385,\n",
       "  0.005356799403671175,\n",
       "  0.005134700351239492,\n",
       "  0.005439522909000516,\n",
       "  0.00518245422669376,\n",
       "  0.00527718416803206,\n",
       "  0.005382702065010865,\n",
       "  0.005960511082472901,\n",
       "  0.005200337017110239,\n",
       "  0.005066139778743188,\n",
       "  0.004760498840672274,\n",
       "  0.0072396011285794275,\n",
       "  0.005188527808059007,\n",
       "  0.007101273183555652,\n",
       "  0.005359837377909571,\n",
       "  0.0050259148119948804,\n",
       "  0.00508339573085929,\n",
       "  0.004753822286147624,\n",
       "  0.005140950495842844,\n",
       "  0.005943582878292848,\n",
       "  0.004487589738952617,\n",
       "  0.004415687658668806,\n",
       "  0.004555790646312137,\n",
       "  0.004415975883603096,\n",
       "  0.004554199180953826,\n",
       "  0.004216865927446634,\n",
       "  0.005080089865562816,\n",
       "  0.003624415500477577,\n",
       "  0.0036993671383243054,\n",
       "  0.003597639336173112,\n",
       "  0.0037846077660409114,\n",
       "  0.0035972299810964614,\n",
       "  0.0035846035849923887,\n",
       "  0.003776247069860498,\n",
       "  0.0038486092914051064,\n",
       "  0.003607416282951211,\n",
       "  0.003602097053468848,\n",
       "  0.0034372544420572617,\n",
       "  0.003643040069922184,\n",
       "  0.003451965400017798,\n",
       "  0.003634920169133693,\n",
       "  0.00350439763860777,\n",
       "  0.0034729276958387345,\n",
       "  0.0034257468165984997,\n",
       "  0.003437802156743904,\n",
       "  0.003474410177053263,\n",
       "  0.0034702267633595816,\n",
       "  0.0034858326835092157,\n",
       "  0.0037210946805619947,\n",
       "  0.0034774075320456177,\n",
       "  0.003571227736150225,\n",
       "  0.003453901745767022,\n",
       "  0.003458256251178682,\n",
       "  0.0034877021195522198,\n",
       "  0.0034312185113473483,\n",
       "  0.0035656788289391748,\n",
       "  0.003538434151172017,\n",
       "  0.0032265418073317655,\n",
       "  0.0032610536145512015,\n",
       "  0.003267150702110181,\n",
       "  0.003222453834799429,\n",
       "  0.003250649848875279,\n",
       "  0.0032257821682530143,\n",
       "  0.0032044353429228067,\n",
       "  0.003211720807788273,\n",
       "  0.003228061929500351,\n",
       "  0.0032593992461139956,\n",
       "  0.0032098469382617623,\n",
       "  0.0032840495890316865,\n",
       "  0.0032219368828615793,\n",
       "  0.003220461638799558,\n",
       "  0.003256976129099106,\n",
       "  0.0032195077704576156,\n",
       "  0.0032946844100176045,\n",
       "  0.003208144480595365,\n",
       "  0.0032075056224130094,\n",
       "  0.0032710106558321663,\n",
       "  0.0032032864110078663,\n",
       "  0.003204749412058542,\n",
       "  0.003265588563711693,\n",
       "  0.0032067470892798156,\n",
       "  0.003204106459937369,\n",
       "  0.0032156295492313802,\n",
       "  0.003160655362686763,\n",
       "  0.00317791245955353,\n",
       "  0.0032732714995897063,\n",
       "  0.003192440199200064,\n",
       "  0.0031370842383087925,\n",
       "  0.0031365667625019946,\n",
       "  0.003146523997808496,\n",
       "  0.00314444670220837,\n",
       "  0.003139651477492104,\n",
       "  0.0031355725756535926,\n",
       "  0.0031287132296711206,\n",
       "  0.0031333125565045825,\n",
       "  0.003137865656754002,\n",
       "  0.003154418528235207,\n",
       "  0.0031299996577824154,\n",
       "  0.003135092653489361,\n",
       "  0.003135336776419232,\n",
       "  0.003126532683381811,\n",
       "  0.0031515112107930086,\n",
       "  0.0031282080647846064,\n",
       "  0.0031214162784939012,\n",
       "  0.003132235200610012,\n",
       "  0.0031209812538387873,\n",
       "  0.0031285228033084422,\n",
       "  0.003132173743021364,\n",
       "  0.0031275888225839785,\n",
       "  0.0031359860052665076,\n",
       "  0.003143503020207087,\n",
       "  0.0031189991956731924,\n",
       "  0.0031279658142011613,\n",
       "  0.0031201257273399583,\n",
       "  0.003124250613230591,\n",
       "  0.0031109061771227666,\n",
       "  0.003120353212580085,\n",
       "  0.0031107174775873623,\n",
       "  0.0031172134234414748,\n",
       "  0.0031157436314970255,\n",
       "  0.0031167116248980165,\n",
       "  0.003112547186901793,\n",
       "  0.0031164695877426616,\n",
       "  0.003115987822335834,\n",
       "  0.0031187918599850186,\n",
       "  0.0031171931283703693,\n",
       "  0.003123357406972597,\n",
       "  0.0031179508562975875,\n",
       "  0.003117288559830437,\n",
       "  0.0031150074307030686,\n",
       "  0.0031110770554126552,\n",
       "  0.00311394696473144,\n",
       "  0.0031147622115289173,\n",
       "  0.0031109454187874994,\n",
       "  0.0031125044527774057,\n",
       "  0.003112532324545706,\n",
       "  0.003112822819578772,\n",
       "  0.0031108888894474753,\n",
       "  0.0031143899250309914,\n",
       "  0.003116563311778009,\n",
       "  0.0031145782462166003,\n",
       "  0.003113193631482621,\n",
       "  0.003115134012963002,\n",
       "  0.0031141540772902467,\n",
       "  0.003110516748468702,\n",
       "  0.0031113268535894654,\n",
       "  0.003109026962192729,\n",
       "  0.003108087160702174,\n",
       "  0.0031106159052190683,\n",
       "  0.003110116619306306,\n",
       "  0.0031056148388112583,\n",
       "  0.003107210446614772,\n",
       "  0.003108441839382673,\n",
       "  0.00310782416878889,\n",
       "  0.003108594372558097,\n",
       "  0.003111204675709208,\n",
       "  0.0031087745737750083,\n",
       "  0.0031127077042280384,\n",
       "  0.003108241052056352,\n",
       "  0.0031075760683355234,\n",
       "  0.003113563764297093,\n",
       "  0.003104211064055562,\n",
       "  0.003113933023996651,\n",
       "  0.003108591597992927,\n",
       "  0.0031084406364243478,\n",
       "  0.0031066945036097118,\n",
       "  0.003108966503835594,\n",
       "  0.003109258492865289,\n",
       "  0.003108491403205941,\n",
       "  0.0031057508604135364,\n",
       "  0.0031080055923666805,\n",
       "  0.0031088974598484733,\n",
       "  0.003106836239264036,\n",
       "  0.003107487534483274,\n",
       "  0.003107988906170552,\n",
       "  0.0031105918266500034,\n",
       "  0.0031061297631822526,\n",
       "  0.0031059307026832053,\n",
       "  0.0031110636967544756,\n",
       "  0.0031084735431553176,\n",
       "  0.0031068557097266116,\n",
       "  0.0031083015298160412,\n",
       "  0.003110526013188064,\n",
       "  0.0031050927257941416,\n",
       "  0.0031078879158788673,\n",
       "  0.00310867081861943,\n",
       "  0.0031085742618112513,\n",
       "  0.0031070162173515805,\n",
       "  0.0031123442167881876,\n",
       "  0.0031049683457240462,\n",
       "  0.0031082579710831246,\n",
       "  0.003108260784453402,\n",
       "  0.003109342467117434,\n",
       "  0.0031088644464034587,\n",
       "  0.003107661526883021,\n",
       "  0.003107834083493799,\n",
       "  0.0031083118616758534,\n",
       "  0.0031083729991223663,\n",
       "  0.003108310018433258,\n",
       "  0.0031087788520380855,\n",
       "  0.0031086319067981094,\n",
       "  0.0031084017731094113,\n",
       "  0.0031112674720740565,\n",
       "  0.0031099495051118233,\n",
       "  0.003110018684916819,\n",
       "  0.0031077607127372175,\n",
       "  0.003109620496009787,\n",
       "  0.0031079918650599816,\n",
       "  0.0031086563928208,\n",
       "  0.0031125745930088065,\n",
       "  0.003108942008111626,\n",
       "  0.003107694967184216,\n",
       "  0.0031065428823543093,\n",
       "  0.003108136802135656,\n",
       "  0.0031087528041098267,\n",
       "  0.003110866508601854,\n",
       "  0.0031079726080254963,\n",
       "  0.003108286289110159,\n",
       "  0.003107751331602534,\n",
       "  0.003106765371436874,\n",
       "  0.003110726761709278,\n",
       "  0.0031056751807530722,\n",
       "  0.0033720652863848954,\n",
       "  0.0031063583640692136,\n",
       "  0.0031069048175898692,\n",
       "  0.0031053428053079792,\n",
       "  0.003106724480555082,\n",
       "  0.003106431346774722,\n",
       "  0.0031104634205500283,\n",
       "  0.003105556902786096,\n",
       "  0.0031052330838671574,\n",
       "  0.0031098378531169146,\n",
       "  0.0031078091415110976,\n",
       "  0.0031052599370013922,\n",
       "  0.0031109996392236403,\n",
       "  0.0031072187412064523,\n",
       "  0.0031075042206794024,\n",
       "  0.003104124548068891,\n",
       "  0.003108398309753587,\n",
       "  0.003107366918508584,\n",
       "  0.0031070040713530034,\n",
       "  0.0031081723961203047,\n",
       "  0.0031235200876835734,\n",
       "  0.0031115589275335274,\n",
       "  0.003109748902109762,\n",
       "  0.003106213165059065,\n",
       "  0.0031103757695139698,\n",
       "  0.003107682045083493,\n",
       "  0.003110343347846841,\n",
       "  0.0031076319670925536,\n",
       "  0.003108009996746356,\n",
       "  0.0031064036108242967,\n",
       "  0.003109028776331494,\n",
       "  0.0031092739567005387,\n",
       "  0.003106995912579199,\n",
       "  0.0031153002734451243,\n",
       "  0.0031116859948573015,\n",
       "  0.0031078698229976,\n",
       "  0.0031079747423063964,\n",
       "  0.003109135073221599,\n",
       "  0.0031104502947224924,\n",
       "  0.0031097307801246643,\n",
       "  0.0031063563947100192,\n",
       "  0.0031242896996748946,\n",
       "  0.0031084853787130364,\n",
       "  0.0031076580247220895,\n",
       "  0.0031087820728619895])"
      ]
     },
     "execution_count": 5,
     "metadata": {},
     "output_type": "execute_result"
    }
   ],
   "source": [
    "# da_music = DA_MUSIC(m, d, array, dev)\n",
    "# train(da_music, nbEpoches, lr, wd, train_loader, valid_loader, path + 'da_music_' + str(snr) + 'dB.pth', dev, loss_func=loss_func, valid_func=valid_func)"
   ]
  },
  {
   "cell_type": "code",
   "execution_count": 6,
   "metadata": {},
   "outputs": [],
   "source": [
    "# da_music_v2 = DA_MUSIC_v2(m, d, array, dev)\n",
    "# train(da_music_v2, nbEpoches, lr, wd, train_loader, valid_loader, path + 'da_music_v2_' + str(snr) + 'dB.pth', dev, loss_func=loss_func, valid_func=valid_func)"
   ]
  },
  {
   "cell_type": "code",
   "execution_count": 7,
   "metadata": {},
   "outputs": [],
   "source": [
    "# rnn = RNN(m, d, dev)\n",
    "# train(rnn, nbEpoches, lr, wd, train_loader, valid_loader, path + 'rnn_' + str(snr) + 'dB.pth', dev, loss_func=loss_func, valid_func=valid_func)"
   ]
  }
 ],
 "metadata": {
  "kernelspec": {
   "display_name": "base",
   "language": "python",
   "name": "python3"
  },
  "language_info": {
   "codemirror_mode": {
    "name": "ipython",
    "version": 3
   },
   "file_extension": ".py",
   "mimetype": "text/x-python",
   "name": "python",
   "nbconvert_exporter": "python",
   "pygments_lexer": "ipython3",
   "version": "3.12.7"
  }
 },
 "nbformat": 4,
 "nbformat_minor": 2
}
