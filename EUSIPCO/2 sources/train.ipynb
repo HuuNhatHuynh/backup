{
 "cells": [
  {
   "cell_type": "code",
   "execution_count": null,
   "metadata": {},
   "outputs": [],
   "source": [
    "%load_ext autoreload\n",
    "%autoreload 2"
   ]
  },
  {
   "cell_type": "code",
   "execution_count": null,
   "metadata": {},
   "outputs": [],
   "source": [
    "import torch \n",
    "import torch.nn as nn\n",
    "import torch.optim as optim\n",
    "\n",
    "from torch.utils.data import DataLoader\n",
    "from sklearn.model_selection import train_test_split\n",
    "\n",
    "from utils import *\n",
    "from models import *\n",
    "from tqdm import tqdm\n",
    "\n",
    "dev = torch.device(\"cuda\" if torch.cuda.is_available() else \"cpu\")"
   ]
  },
  {
   "cell_type": "code",
   "execution_count": null,
   "metadata": {},
   "outputs": [],
   "source": [
    "d = 2\n",
    "m = 8\n",
    "t = 200\n",
    "n = 20000\n",
    "snr = 20\n",
    "lamda = 0.2\n",
    "distance = 0.1\n",
    "qpsk = False\n",
    "coherent = False\n",
    "\n",
    "array = ULA(m, lamda)\n",
    "array.build_array(distance)\n",
    "array.build_array_manifold()\n",
    "\n",
    "observations, angles = generate_data(n, t, d, snr, snr, array, qpsk, coherent)\n",
    "\n",
    "if qpsk:\n",
    "    path = 'saved_models_qpsk/'\n",
    "else:\n",
    "    path = 'saved_models/'"
   ]
  },
  {
   "cell_type": "code",
   "execution_count": null,
   "metadata": {},
   "outputs": [],
   "source": [
    "nbEpoches = 300\n",
    "lr = 1e-3\n",
    "wd = 1e-8\n",
    "\n",
    "batchSize = 256\n",
    "\n",
    "x_train, x_valid, theta_train, theta_valid = train_test_split(observations, angles, test_size=0.3)\n",
    "\n",
    "train_set = DATASET(x_train, theta_train)\n",
    "valid_set = DATASET(x_valid, theta_valid)\n",
    "\n",
    "train_loader = DataLoader(train_set, batch_size=batchSize, shuffle=True)\n",
    "valid_loader = DataLoader(valid_set, batch_size=batchSize, shuffle=False)"
   ]
  },
  {
   "cell_type": "code",
   "execution_count": null,
   "metadata": {},
   "outputs": [],
   "source": [
    "da_music = DA_MUSIC(m, d, array, dev)\n",
    "train(da_music, nbEpoches, lr, wd, train_loader, valid_loader, path + 'da_music_' + str(snr) + 'dB.pth', dev)"
   ]
  },
  {
   "cell_type": "code",
   "execution_count": null,
   "metadata": {},
   "outputs": [],
   "source": [
    "da_music_v2 = DA_MUSIC_v2(m, d, array, dev)\n",
    "train(da_music_v2, nbEpoches, lr, wd, train_loader, valid_loader, path + 'da_music_v2_' + str(snr) + 'dB.pth', dev)"
   ]
  },
  {
   "cell_type": "code",
   "execution_count": null,
   "metadata": {},
   "outputs": [],
   "source": [
    "rnn = RNN(m, d, dev)\n",
    "train(rnn, nbEpoches, lr, wd, train_loader, valid_loader, path + 'rnn_' + str(snr) + 'dB.pth', dev)"
   ]
  }
 ],
 "metadata": {
  "kernelspec": {
   "display_name": "base",
   "language": "python",
   "name": "python3"
  },
  "language_info": {
   "codemirror_mode": {
    "name": "ipython",
    "version": 3
   },
   "file_extension": ".py",
   "mimetype": "text/x-python",
   "name": "python",
   "nbconvert_exporter": "python",
   "pygments_lexer": "ipython3",
   "version": "3.11.5"
  }
 },
 "nbformat": 4,
 "nbformat_minor": 2
}
