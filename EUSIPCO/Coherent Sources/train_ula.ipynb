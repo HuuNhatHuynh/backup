{
 "cells": [
  {
   "cell_type": "code",
   "execution_count": 7,
   "metadata": {},
   "outputs": [],
   "source": [
    "%load_ext autoreload\n",
    "%autoreload 2"
   ]
  },
  {
   "cell_type": "code",
   "execution_count": 1,
   "metadata": {},
   "outputs": [],
   "source": [
    "import torch \n",
    "import torch.nn as nn\n",
    "import torch.optim as optim\n",
    "\n",
    "from torch.utils.data import DataLoader\n",
    "from sklearn.model_selection import train_test_split\n",
    "\n",
    "from utils import *\n",
    "from models import *\n",
    "from tqdm import tqdm\n",
    "\n",
    "dev = torch.device(\"cuda\" if torch.cuda.is_available() else \"cpu\")"
   ]
  },
  {
   "cell_type": "code",
   "execution_count": 2,
   "metadata": {},
   "outputs": [],
   "source": [
    "d = 3\n",
    "m = 8\n",
    "t = 200\n",
    "n = 20000\n",
    "snr = 10\n",
    "lamda = 0.2\n",
    "distance = 0.1\n",
    "qpsk = False\n",
    "coherent = False\n",
    "\n",
    "array = ULA(m, lamda)\n",
    "array.build_sensor_positions(distance)\n",
    "array.build_array_manifold()\n",
    "\n",
    "observations, angles = generate_data(n, t, d, snr, snr, array, qpsk, coherent)\n",
    "path = 'saved_models/'"
   ]
  },
  {
   "cell_type": "code",
   "execution_count": 3,
   "metadata": {},
   "outputs": [],
   "source": [
    "nbEpoches = 300\n",
    "lr = 1e-2\n",
    "wd = 1e-9\n",
    "\n",
    "batchSize = 256\n",
    "\n",
    "x_train, x_valid, theta_train, theta_valid = train_test_split(observations, angles, test_size=0.2)\n",
    "\n",
    "train_set = DATASET(x_train, theta_train)\n",
    "valid_set = DATASET(x_valid, theta_valid)\n",
    "\n",
    "train_func = RMSPE(d, device=dev)\n",
    "valid_func = RMSPE(d, device=dev)\n",
    "\n",
    "train_loader = DataLoader(train_set, batch_size=batchSize, shuffle=True)\n",
    "valid_loader = DataLoader(valid_set, batch_size=batchSize, shuffle=False)"
   ]
  },
  {
   "cell_type": "code",
   "execution_count": 4,
   "metadata": {},
   "outputs": [],
   "source": [
    "# da_music = DA_MUSIC(m, d, array, dev)\n",
    "# train(da_music, nbEpoches, lr, wd, train_loader, valid_loader, path+'da_music_'+str(snr)+'dB_ula.pth', train_func, valid_func)"
   ]
  },
  {
   "cell_type": "code",
   "execution_count": 5,
   "metadata": {},
   "outputs": [
    {
     "name": "stderr",
     "output_type": "stream",
     "text": [
      "  0%|          | 1/300 [00:00<03:38,  1.37it/s]"
     ]
    },
    {
     "name": "stdout",
     "output_type": "stream",
     "text": [
      "iteration 0: loss training = 0.45310718861837235, best validation = 0.4009884037077427\n"
     ]
    },
    {
     "name": "stderr",
     "output_type": "stream",
     "text": [
      "  1%|          | 2/300 [00:01<02:30,  1.97it/s]"
     ]
    },
    {
     "name": "stdout",
     "output_type": "stream",
     "text": [
      "iteration 1: loss training = 0.3492316163721539, best validation = 0.30181387066841125\n"
     ]
    },
    {
     "name": "stderr",
     "output_type": "stream",
     "text": [
      "  1%|          | 3/300 [00:01<02:09,  2.29it/s]"
     ]
    },
    {
     "name": "stdout",
     "output_type": "stream",
     "text": [
      "iteration 2: loss training = 0.2568059712648392, best validation = 0.21427038498222828\n"
     ]
    },
    {
     "name": "stderr",
     "output_type": "stream",
     "text": [
      "  1%|▏         | 4/300 [00:01<01:59,  2.47it/s]"
     ]
    },
    {
     "name": "stdout",
     "output_type": "stream",
     "text": [
      "iteration 3: loss training = 0.19071943726804522, best validation = 0.21427038498222828\n"
     ]
    },
    {
     "name": "stderr",
     "output_type": "stream",
     "text": [
      "  2%|▏         | 5/300 [00:02<01:51,  2.63it/s]"
     ]
    },
    {
     "name": "stdout",
     "output_type": "stream",
     "text": [
      "iteration 4: loss training = 0.18424830384670743, best validation = 0.15069457981735468\n"
     ]
    },
    {
     "name": "stderr",
     "output_type": "stream",
     "text": [
      "  2%|▏         | 6/300 [00:02<01:45,  2.78it/s]"
     ]
    },
    {
     "name": "stdout",
     "output_type": "stream",
     "text": [
      "iteration 5: loss training = 0.13810226817925772, best validation = 0.13316994486376643\n"
     ]
    },
    {
     "name": "stderr",
     "output_type": "stream",
     "text": [
      "  2%|▏         | 7/300 [00:02<01:43,  2.84it/s]"
     ]
    },
    {
     "name": "stdout",
     "output_type": "stream",
     "text": [
      "iteration 6: loss training = 0.13139037042856216, best validation = 0.11889935517683625\n"
     ]
    },
    {
     "name": "stderr",
     "output_type": "stream",
     "text": [
      "  3%|▎         | 8/300 [00:03<01:40,  2.89it/s]"
     ]
    },
    {
     "name": "stdout",
     "output_type": "stream",
     "text": [
      "iteration 7: loss training = 0.11715503569160189, best validation = 0.11490310728549957\n"
     ]
    },
    {
     "name": "stderr",
     "output_type": "stream",
     "text": [
      "  3%|▎         | 9/300 [00:03<01:40,  2.90it/s]"
     ]
    },
    {
     "name": "stdout",
     "output_type": "stream",
     "text": [
      "iteration 8: loss training = 0.10919252026175695, best validation = 0.10581474006175995\n"
     ]
    },
    {
     "name": "stderr",
     "output_type": "stream",
     "text": [
      "  3%|▎         | 10/300 [00:03<01:38,  2.93it/s]"
     ]
    },
    {
     "name": "stdout",
     "output_type": "stream",
     "text": [
      "iteration 9: loss training = 0.1627964008422125, best validation = 0.10581474006175995\n"
     ]
    },
    {
     "name": "stderr",
     "output_type": "stream",
     "text": [
      "  4%|▎         | 11/300 [00:04<01:37,  2.97it/s]"
     ]
    },
    {
     "name": "stdout",
     "output_type": "stream",
     "text": [
      "iteration 10: loss training = 0.12181756645441055, best validation = 0.10581474006175995\n"
     ]
    },
    {
     "name": "stderr",
     "output_type": "stream",
     "text": [
      "  4%|▍         | 12/300 [00:04<01:36,  2.98it/s]"
     ]
    },
    {
     "name": "stdout",
     "output_type": "stream",
     "text": [
      "iteration 11: loss training = 0.11042817421848812, best validation = 0.09799460601061583\n"
     ]
    },
    {
     "name": "stderr",
     "output_type": "stream",
     "text": [
      "  4%|▍         | 13/300 [00:04<01:37,  2.96it/s]"
     ]
    },
    {
     "name": "stdout",
     "output_type": "stream",
     "text": [
      "iteration 12: loss training = 0.09854160036359515, best validation = 0.09799460601061583\n"
     ]
    },
    {
     "name": "stderr",
     "output_type": "stream",
     "text": [
      "  5%|▍         | 14/300 [00:05<01:35,  2.98it/s]"
     ]
    },
    {
     "name": "stdout",
     "output_type": "stream",
     "text": [
      "iteration 13: loss training = 0.09409869284856887, best validation = 0.09025149326771498\n"
     ]
    },
    {
     "name": "stderr",
     "output_type": "stream",
     "text": [
      "  5%|▌         | 15/300 [00:05<01:42,  2.77it/s]"
     ]
    },
    {
     "name": "stdout",
     "output_type": "stream",
     "text": [
      "iteration 14: loss training = 0.09520428911561057, best validation = 0.08968074945732951\n"
     ]
    },
    {
     "name": "stderr",
     "output_type": "stream",
     "text": [
      "  5%|▌         | 16/300 [00:05<01:41,  2.80it/s]"
     ]
    },
    {
     "name": "stdout",
     "output_type": "stream",
     "text": [
      "iteration 15: loss training = 0.08743698871324933, best validation = 0.08890706626698375\n"
     ]
    },
    {
     "name": "stderr",
     "output_type": "stream",
     "text": [
      "  6%|▌         | 17/300 [00:06<01:40,  2.82it/s]"
     ]
    },
    {
     "name": "stdout",
     "output_type": "stream",
     "text": [
      "iteration 16: loss training = 0.08729735300654456, best validation = 0.07945346646010876\n"
     ]
    },
    {
     "name": "stderr",
     "output_type": "stream",
     "text": [
      "  6%|▌         | 18/300 [00:06<01:38,  2.87it/s]"
     ]
    },
    {
     "name": "stdout",
     "output_type": "stream",
     "text": [
      "iteration 17: loss training = 0.08290312037108437, best validation = 0.07945346646010876\n"
     ]
    },
    {
     "name": "stderr",
     "output_type": "stream",
     "text": [
      "  6%|▋         | 19/300 [00:06<01:36,  2.92it/s]"
     ]
    },
    {
     "name": "stdout",
     "output_type": "stream",
     "text": [
      "iteration 18: loss training = 0.0930541842466309, best validation = 0.07945346646010876\n"
     ]
    },
    {
     "name": "stderr",
     "output_type": "stream",
     "text": [
      "  7%|▋         | 20/300 [00:07<01:35,  2.94it/s]"
     ]
    },
    {
     "name": "stdout",
     "output_type": "stream",
     "text": [
      "iteration 19: loss training = 0.08176170348648042, best validation = 0.07945346646010876\n"
     ]
    },
    {
     "name": "stderr",
     "output_type": "stream",
     "text": [
      "  7%|▋         | 21/300 [00:07<01:49,  2.56it/s]"
     ]
    },
    {
     "name": "stdout",
     "output_type": "stream",
     "text": [
      "iteration 20: loss training = 0.07775551553756471, best validation = 0.0740351346321404\n"
     ]
    },
    {
     "name": "stderr",
     "output_type": "stream",
     "text": [
      "  7%|▋         | 22/300 [00:08<01:52,  2.48it/s]"
     ]
    },
    {
     "name": "stdout",
     "output_type": "stream",
     "text": [
      "iteration 21: loss training = 0.06855427763528293, best validation = 0.06762866862118244\n"
     ]
    },
    {
     "name": "stderr",
     "output_type": "stream",
     "text": [
      "  8%|▊         | 23/300 [00:08<01:51,  2.48it/s]"
     ]
    },
    {
     "name": "stdout",
     "output_type": "stream",
     "text": [
      "iteration 22: loss training = 0.06552734143204159, best validation = 0.06560635636560619\n"
     ]
    },
    {
     "name": "stderr",
     "output_type": "stream",
     "text": [
      "  8%|▊         | 24/300 [00:08<01:47,  2.56it/s]"
     ]
    },
    {
     "name": "stdout",
     "output_type": "stream",
     "text": [
      "iteration 23: loss training = 0.06280878375446985, best validation = 0.06483371974900365\n"
     ]
    },
    {
     "name": "stderr",
     "output_type": "stream",
     "text": [
      "  8%|▊         | 25/300 [00:09<01:46,  2.59it/s]"
     ]
    },
    {
     "name": "stdout",
     "output_type": "stream",
     "text": [
      "iteration 24: loss training = 0.06857116662320636, best validation = 0.06483371974900365\n"
     ]
    },
    {
     "name": "stderr",
     "output_type": "stream",
     "text": [
      "  9%|▊         | 26/300 [00:09<01:42,  2.68it/s]"
     ]
    },
    {
     "name": "stdout",
     "output_type": "stream",
     "text": [
      "iteration 25: loss training = 0.0624050201168136, best validation = 0.06439482583664358\n"
     ]
    },
    {
     "name": "stderr",
     "output_type": "stream",
     "text": [
      "  9%|▉         | 27/300 [00:10<01:39,  2.74it/s]"
     ]
    },
    {
     "name": "stdout",
     "output_type": "stream",
     "text": [
      "iteration 26: loss training = 0.0683220134722808, best validation = 0.06439482583664358\n"
     ]
    },
    {
     "name": "stderr",
     "output_type": "stream",
     "text": [
      "  9%|▉         | 28/300 [00:10<01:38,  2.75it/s]"
     ]
    },
    {
     "name": "stdout",
     "output_type": "stream",
     "text": [
      "iteration 27: loss training = 0.06645862279193741, best validation = 0.059351910604164004\n"
     ]
    },
    {
     "name": "stderr",
     "output_type": "stream",
     "text": [
      " 10%|▉         | 29/300 [00:10<01:46,  2.56it/s]"
     ]
    },
    {
     "name": "stdout",
     "output_type": "stream",
     "text": [
      "iteration 28: loss training = 0.06750479849084975, best validation = 0.059351910604164004\n"
     ]
    },
    {
     "name": "stderr",
     "output_type": "stream",
     "text": [
      " 10%|█         | 30/300 [00:11<01:42,  2.63it/s]"
     ]
    },
    {
     "name": "stdout",
     "output_type": "stream",
     "text": [
      "iteration 29: loss training = 0.0633451962873103, best validation = 0.059351910604164004\n"
     ]
    },
    {
     "name": "stderr",
     "output_type": "stream",
     "text": [
      " 10%|█         | 31/300 [00:11<01:39,  2.70it/s]"
     ]
    },
    {
     "name": "stdout",
     "output_type": "stream",
     "text": [
      "iteration 30: loss training = 0.05538201237481738, best validation = 0.059351910604164004\n"
     ]
    },
    {
     "name": "stderr",
     "output_type": "stream",
     "text": [
      " 11%|█         | 32/300 [00:11<01:35,  2.80it/s]"
     ]
    },
    {
     "name": "stdout",
     "output_type": "stream",
     "text": [
      "iteration 31: loss training = 0.05555305671360758, best validation = 0.05251338938251138\n"
     ]
    },
    {
     "name": "stderr",
     "output_type": "stream",
     "text": [
      " 11%|█         | 33/300 [00:12<01:34,  2.84it/s]"
     ]
    },
    {
     "name": "stdout",
     "output_type": "stream",
     "text": [
      "iteration 32: loss training = 0.05688081362417766, best validation = 0.05251338938251138\n"
     ]
    },
    {
     "name": "stderr",
     "output_type": "stream",
     "text": [
      " 11%|█▏        | 34/300 [00:12<01:32,  2.88it/s]"
     ]
    },
    {
     "name": "stdout",
     "output_type": "stream",
     "text": [
      "iteration 33: loss training = 0.054707711059895775, best validation = 0.05251338938251138\n"
     ]
    },
    {
     "name": "stderr",
     "output_type": "stream",
     "text": [
      " 12%|█▏        | 35/300 [00:12<01:30,  2.92it/s]"
     ]
    },
    {
     "name": "stdout",
     "output_type": "stream",
     "text": [
      "iteration 34: loss training = 0.05011029275400298, best validation = 0.051061192294582725\n"
     ]
    },
    {
     "name": "stderr",
     "output_type": "stream",
     "text": [
      " 12%|█▏        | 36/300 [00:13<01:29,  2.93it/s]"
     ]
    },
    {
     "name": "stdout",
     "output_type": "stream",
     "text": [
      "iteration 35: loss training = 0.0495722723149118, best validation = 0.051061192294582725\n"
     ]
    },
    {
     "name": "stderr",
     "output_type": "stream",
     "text": [
      " 12%|█▏        | 37/300 [00:13<01:31,  2.88it/s]"
     ]
    },
    {
     "name": "stdout",
     "output_type": "stream",
     "text": [
      "iteration 36: loss training = 0.050503092980574045, best validation = 0.05076204310171306\n"
     ]
    },
    {
     "name": "stderr",
     "output_type": "stream",
     "text": [
      " 13%|█▎        | 38/300 [00:13<01:30,  2.90it/s]"
     ]
    },
    {
     "name": "stdout",
     "output_type": "stream",
     "text": [
      "iteration 37: loss training = 0.0498082609995017, best validation = 0.05076204310171306\n"
     ]
    },
    {
     "name": "stderr",
     "output_type": "stream",
     "text": [
      " 13%|█▎        | 39/300 [00:14<01:30,  2.90it/s]"
     ]
    },
    {
     "name": "stdout",
     "output_type": "stream",
     "text": [
      "iteration 38: loss training = 0.05010616424537841, best validation = 0.05076204310171306\n"
     ]
    },
    {
     "name": "stderr",
     "output_type": "stream",
     "text": [
      " 13%|█▎        | 40/300 [00:14<01:30,  2.88it/s]"
     ]
    },
    {
     "name": "stdout",
     "output_type": "stream",
     "text": [
      "iteration 39: loss training = 0.04940142305124374, best validation = 0.05076204310171306\n"
     ]
    },
    {
     "name": "stderr",
     "output_type": "stream",
     "text": [
      " 14%|█▎        | 41/300 [00:14<01:31,  2.82it/s]"
     ]
    },
    {
     "name": "stdout",
     "output_type": "stream",
     "text": [
      "iteration 40: loss training = 0.048007122167046105, best validation = 0.05008418415673077\n"
     ]
    },
    {
     "name": "stderr",
     "output_type": "stream",
     "text": [
      " 14%|█▍        | 42/300 [00:15<01:32,  2.79it/s]"
     ]
    },
    {
     "name": "stdout",
     "output_type": "stream",
     "text": [
      "iteration 41: loss training = 0.049539184700402, best validation = 0.05008418415673077\n"
     ]
    },
    {
     "name": "stderr",
     "output_type": "stream",
     "text": [
      " 14%|█▍        | 43/300 [00:15<01:32,  2.78it/s]"
     ]
    },
    {
     "name": "stdout",
     "output_type": "stream",
     "text": [
      "iteration 42: loss training = 0.04946608971508722, best validation = 0.04861932992935181\n"
     ]
    },
    {
     "name": "stderr",
     "output_type": "stream",
     "text": [
      " 15%|█▍        | 44/300 [00:16<01:36,  2.65it/s]"
     ]
    },
    {
     "name": "stdout",
     "output_type": "stream",
     "text": [
      "iteration 43: loss training = 0.04693032576451226, best validation = 0.04861932992935181\n"
     ]
    },
    {
     "name": "stderr",
     "output_type": "stream",
     "text": [
      " 15%|█▌        | 45/300 [00:16<01:36,  2.65it/s]"
     ]
    },
    {
     "name": "stdout",
     "output_type": "stream",
     "text": [
      "iteration 44: loss training = 0.046423967986825916, best validation = 0.04861932992935181\n"
     ]
    },
    {
     "name": "stderr",
     "output_type": "stream",
     "text": [
      " 15%|█▌        | 46/300 [00:16<01:35,  2.65it/s]"
     ]
    },
    {
     "name": "stdout",
     "output_type": "stream",
     "text": [
      "iteration 45: loss training = 0.04674502337972323, best validation = 0.04861932992935181\n"
     ]
    },
    {
     "name": "stderr",
     "output_type": "stream",
     "text": [
      " 16%|█▌        | 47/300 [00:17<01:33,  2.72it/s]"
     ]
    },
    {
     "name": "stdout",
     "output_type": "stream",
     "text": [
      "iteration 46: loss training = 0.06150566242516987, best validation = 0.04861932992935181\n"
     ]
    },
    {
     "name": "stderr",
     "output_type": "stream",
     "text": [
      " 16%|█▌        | 48/300 [00:17<01:33,  2.71it/s]"
     ]
    },
    {
     "name": "stdout",
     "output_type": "stream",
     "text": [
      "iteration 47: loss training = 0.06302658149174281, best validation = 0.04861932992935181\n"
     ]
    },
    {
     "name": "stderr",
     "output_type": "stream",
     "text": [
      " 16%|█▋        | 49/300 [00:18<01:35,  2.62it/s]"
     ]
    },
    {
     "name": "stdout",
     "output_type": "stream",
     "text": [
      "iteration 48: loss training = 0.055343975209527545, best validation = 0.04861932992935181\n"
     ]
    },
    {
     "name": "stderr",
     "output_type": "stream",
     "text": [
      " 17%|█▋        | 50/300 [00:18<01:37,  2.57it/s]"
     ]
    },
    {
     "name": "stdout",
     "output_type": "stream",
     "text": [
      "iteration 49: loss training = 0.05288878473497573, best validation = 0.04861932992935181\n"
     ]
    },
    {
     "name": "stderr",
     "output_type": "stream",
     "text": [
      " 17%|█▋        | 51/300 [00:18<01:41,  2.46it/s]"
     ]
    },
    {
     "name": "stdout",
     "output_type": "stream",
     "text": [
      "iteration 50: loss training = 0.05203300560750659, best validation = 0.04861932992935181\n"
     ]
    },
    {
     "name": "stderr",
     "output_type": "stream",
     "text": [
      " 17%|█▋        | 52/300 [00:19<01:49,  2.26it/s]"
     ]
    },
    {
     "name": "stdout",
     "output_type": "stream",
     "text": [
      "iteration 51: loss training = 0.05055701088101145, best validation = 0.04861932992935181\n"
     ]
    },
    {
     "name": "stderr",
     "output_type": "stream",
     "text": [
      " 18%|█▊        | 53/300 [00:19<01:52,  2.19it/s]"
     ]
    },
    {
     "name": "stdout",
     "output_type": "stream",
     "text": [
      "iteration 52: loss training = 0.05032182821915263, best validation = 0.04861932992935181\n"
     ]
    },
    {
     "name": "stderr",
     "output_type": "stream",
     "text": [
      " 18%|█▊        | 54/300 [00:20<01:45,  2.32it/s]"
     ]
    },
    {
     "name": "stdout",
     "output_type": "stream",
     "text": [
      "iteration 53: loss training = 0.049428468244889424, best validation = 0.04861932992935181\n"
     ]
    },
    {
     "name": "stderr",
     "output_type": "stream",
     "text": [
      " 18%|█▊        | 55/300 [00:20<01:38,  2.48it/s]"
     ]
    },
    {
     "name": "stdout",
     "output_type": "stream",
     "text": [
      "iteration 54: loss training = 0.048570085789949174, best validation = 0.04861932992935181\n"
     ]
    },
    {
     "name": "stderr",
     "output_type": "stream",
     "text": [
      " 19%|█▊        | 56/300 [00:20<01:37,  2.51it/s]"
     ]
    },
    {
     "name": "stdout",
     "output_type": "stream",
     "text": [
      "iteration 55: loss training = 0.047920329821488215, best validation = 0.04861932992935181\n"
     ]
    },
    {
     "name": "stderr",
     "output_type": "stream",
     "text": [
      " 19%|█▉        | 57/300 [00:21<01:35,  2.55it/s]"
     ]
    },
    {
     "name": "stdout",
     "output_type": "stream",
     "text": [
      "iteration 56: loss training = 0.04783625232558402, best validation = 0.04861932992935181\n"
     ]
    },
    {
     "name": "stderr",
     "output_type": "stream",
     "text": [
      " 19%|█▉        | 58/300 [00:21<01:34,  2.57it/s]"
     ]
    },
    {
     "name": "stdout",
     "output_type": "stream",
     "text": [
      "iteration 57: loss training = 0.0488224442870844, best validation = 0.04861932992935181\n"
     ]
    },
    {
     "name": "stderr",
     "output_type": "stream",
     "text": [
      " 20%|█▉        | 59/300 [00:22<01:28,  2.73it/s]"
     ]
    },
    {
     "name": "stdout",
     "output_type": "stream",
     "text": [
      "iteration 58: loss training = 0.04750137273517866, best validation = 0.04861932992935181\n"
     ]
    },
    {
     "name": "stderr",
     "output_type": "stream",
     "text": [
      " 20%|██        | 60/300 [00:22<01:25,  2.80it/s]"
     ]
    },
    {
     "name": "stdout",
     "output_type": "stream",
     "text": [
      "iteration 59: loss training = 0.048529599630643454, best validation = 0.04815061669796705\n"
     ]
    },
    {
     "name": "stderr",
     "output_type": "stream",
     "text": [
      " 20%|██        | 61/300 [00:22<01:26,  2.76it/s]"
     ]
    },
    {
     "name": "stdout",
     "output_type": "stream",
     "text": [
      "iteration 60: loss training = 0.04530735461721345, best validation = 0.04643499152734876\n"
     ]
    },
    {
     "name": "stderr",
     "output_type": "stream",
     "text": [
      " 21%|██        | 62/300 [00:23<01:26,  2.74it/s]"
     ]
    },
    {
     "name": "stdout",
     "output_type": "stream",
     "text": [
      "iteration 61: loss training = 0.04440456480970458, best validation = 0.04606151417829096\n"
     ]
    },
    {
     "name": "stderr",
     "output_type": "stream",
     "text": [
      " 21%|██        | 63/300 [00:23<01:26,  2.75it/s]"
     ]
    },
    {
     "name": "stdout",
     "output_type": "stream",
     "text": [
      "iteration 62: loss training = 0.044289299774737584, best validation = 0.04504501074552536\n"
     ]
    },
    {
     "name": "stderr",
     "output_type": "stream",
     "text": [
      " 21%|██▏       | 64/300 [00:23<01:23,  2.84it/s]"
     ]
    },
    {
     "name": "stdout",
     "output_type": "stream",
     "text": [
      "iteration 63: loss training = 0.044081374825466244, best validation = 0.04504501074552536\n"
     ]
    },
    {
     "name": "stderr",
     "output_type": "stream",
     "text": [
      " 22%|██▏       | 65/300 [00:24<01:21,  2.89it/s]"
     ]
    },
    {
     "name": "stdout",
     "output_type": "stream",
     "text": [
      "iteration 64: loss training = 0.043538596067163676, best validation = 0.04504501074552536\n"
     ]
    },
    {
     "name": "stderr",
     "output_type": "stream",
     "text": [
      " 22%|██▏       | 66/300 [00:24<01:19,  2.94it/s]"
     ]
    },
    {
     "name": "stdout",
     "output_type": "stream",
     "text": [
      "iteration 65: loss training = 0.04396988327304522, best validation = 0.04504501074552536\n"
     ]
    },
    {
     "name": "stderr",
     "output_type": "stream",
     "text": [
      " 22%|██▏       | 67/300 [00:24<01:18,  2.99it/s]"
     ]
    },
    {
     "name": "stdout",
     "output_type": "stream",
     "text": [
      "iteration 66: loss training = 0.04378368989342735, best validation = 0.044911862816661596\n"
     ]
    },
    {
     "name": "stderr",
     "output_type": "stream",
     "text": [
      " 23%|██▎       | 68/300 [00:25<01:16,  3.03it/s]"
     ]
    },
    {
     "name": "stdout",
     "output_type": "stream",
     "text": [
      "iteration 67: loss training = 0.04315451615386539, best validation = 0.044483757112175226\n"
     ]
    },
    {
     "name": "stderr",
     "output_type": "stream",
     "text": [
      " 23%|██▎       | 69/300 [00:25<01:18,  2.94it/s]"
     ]
    },
    {
     "name": "stdout",
     "output_type": "stream",
     "text": [
      "iteration 68: loss training = 0.04291454412870937, best validation = 0.04417429701425135\n"
     ]
    },
    {
     "name": "stderr",
     "output_type": "stream",
     "text": [
      " 23%|██▎       | 70/300 [00:25<01:23,  2.75it/s]"
     ]
    },
    {
     "name": "stdout",
     "output_type": "stream",
     "text": [
      "iteration 69: loss training = 0.042799576584781916, best validation = 0.04417429701425135\n"
     ]
    },
    {
     "name": "stderr",
     "output_type": "stream",
     "text": [
      " 24%|██▎       | 71/300 [00:26<01:22,  2.77it/s]"
     ]
    },
    {
     "name": "stdout",
     "output_type": "stream",
     "text": [
      "iteration 70: loss training = 0.042771075098287495, best validation = 0.04417429701425135\n"
     ]
    },
    {
     "name": "stderr",
     "output_type": "stream",
     "text": [
      " 24%|██▍       | 72/300 [00:26<01:25,  2.66it/s]"
     ]
    },
    {
     "name": "stdout",
     "output_type": "stream",
     "text": [
      "iteration 71: loss training = 0.043133304232642763, best validation = 0.04380051465705037\n"
     ]
    },
    {
     "name": "stderr",
     "output_type": "stream",
     "text": [
      " 24%|██▍       | 73/300 [00:26<01:22,  2.76it/s]"
     ]
    },
    {
     "name": "stdout",
     "output_type": "stream",
     "text": [
      "iteration 72: loss training = 0.04269156149692006, best validation = 0.04380051465705037\n"
     ]
    },
    {
     "name": "stderr",
     "output_type": "stream",
     "text": [
      " 25%|██▍       | 74/300 [00:27<01:24,  2.67it/s]"
     ]
    },
    {
     "name": "stdout",
     "output_type": "stream",
     "text": [
      "iteration 73: loss training = 0.04251631467588364, best validation = 0.04380051465705037\n"
     ]
    },
    {
     "name": "stderr",
     "output_type": "stream",
     "text": [
      " 25%|██▌       | 75/300 [00:27<01:25,  2.64it/s]"
     ]
    },
    {
     "name": "stdout",
     "output_type": "stream",
     "text": [
      "iteration 74: loss training = 0.042045494748486414, best validation = 0.04380051465705037\n"
     ]
    },
    {
     "name": "stderr",
     "output_type": "stream",
     "text": [
      " 25%|██▌       | 76/300 [00:28<01:23,  2.67it/s]"
     ]
    },
    {
     "name": "stdout",
     "output_type": "stream",
     "text": [
      "iteration 75: loss training = 0.04200809342520578, best validation = 0.04335732385516167\n"
     ]
    },
    {
     "name": "stderr",
     "output_type": "stream",
     "text": [
      " 26%|██▌       | 77/300 [00:28<01:23,  2.66it/s]"
     ]
    },
    {
     "name": "stdout",
     "output_type": "stream",
     "text": [
      "iteration 76: loss training = 0.041671547861326305, best validation = 0.04327787505462766\n"
     ]
    },
    {
     "name": "stderr",
     "output_type": "stream",
     "text": [
      " 26%|██▌       | 78/300 [00:28<01:24,  2.62it/s]"
     ]
    },
    {
     "name": "stdout",
     "output_type": "stream",
     "text": [
      "iteration 77: loss training = 0.04160746062795321, best validation = 0.04299343074671924\n"
     ]
    },
    {
     "name": "stderr",
     "output_type": "stream",
     "text": [
      " 26%|██▋       | 79/300 [00:29<01:25,  2.60it/s]"
     ]
    },
    {
     "name": "stdout",
     "output_type": "stream",
     "text": [
      "iteration 78: loss training = 0.041325597476864616, best validation = 0.04299343074671924\n"
     ]
    },
    {
     "name": "stderr",
     "output_type": "stream",
     "text": [
      " 27%|██▋       | 80/300 [00:29<01:22,  2.68it/s]"
     ]
    },
    {
     "name": "stdout",
     "output_type": "stream",
     "text": [
      "iteration 79: loss training = 0.04134516027711686, best validation = 0.04299343074671924\n"
     ]
    },
    {
     "name": "stderr",
     "output_type": "stream",
     "text": [
      " 27%|██▋       | 81/300 [00:29<01:18,  2.79it/s]"
     ]
    },
    {
     "name": "stdout",
     "output_type": "stream",
     "text": [
      "iteration 80: loss training = 0.041669276735139274, best validation = 0.04288313654251397\n"
     ]
    },
    {
     "name": "stderr",
     "output_type": "stream",
     "text": [
      " 27%|██▋       | 82/300 [00:30<01:16,  2.87it/s]"
     ]
    },
    {
     "name": "stdout",
     "output_type": "stream",
     "text": [
      "iteration 81: loss training = 0.041545659599323125, best validation = 0.04288313654251397\n"
     ]
    },
    {
     "name": "stderr",
     "output_type": "stream",
     "text": [
      " 28%|██▊       | 83/300 [00:30<01:14,  2.90it/s]"
     ]
    },
    {
     "name": "stdout",
     "output_type": "stream",
     "text": [
      "iteration 82: loss training = 0.04151030144994221, best validation = 0.04254890629090369\n"
     ]
    },
    {
     "name": "stderr",
     "output_type": "stream",
     "text": [
      " 28%|██▊       | 84/300 [00:30<01:13,  2.93it/s]"
     ]
    },
    {
     "name": "stdout",
     "output_type": "stream",
     "text": [
      "iteration 83: loss training = 0.041447127681402934, best validation = 0.04254890629090369\n"
     ]
    },
    {
     "name": "stderr",
     "output_type": "stream",
     "text": [
      " 28%|██▊       | 85/300 [00:31<01:12,  2.95it/s]"
     ]
    },
    {
     "name": "stdout",
     "output_type": "stream",
     "text": [
      "iteration 84: loss training = 0.04181797335308696, best validation = 0.04254890629090369\n"
     ]
    },
    {
     "name": "stderr",
     "output_type": "stream",
     "text": [
      " 29%|██▊       | 86/300 [00:31<01:13,  2.92it/s]"
     ]
    },
    {
     "name": "stdout",
     "output_type": "stream",
     "text": [
      "iteration 85: loss training = 0.04183410220439472, best validation = 0.04254890629090369\n"
     ]
    },
    {
     "name": "stderr",
     "output_type": "stream",
     "text": [
      " 29%|██▉       | 87/300 [00:32<01:18,  2.72it/s]"
     ]
    },
    {
     "name": "stdout",
     "output_type": "stream",
     "text": [
      "iteration 86: loss training = 0.04163742857793021, best validation = 0.04254890629090369\n"
     ]
    },
    {
     "name": "stderr",
     "output_type": "stream",
     "text": [
      " 29%|██▉       | 88/300 [00:32<01:15,  2.80it/s]"
     ]
    },
    {
     "name": "stdout",
     "output_type": "stream",
     "text": [
      "iteration 87: loss training = 0.041688717369522364, best validation = 0.04243115382269025\n"
     ]
    },
    {
     "name": "stderr",
     "output_type": "stream",
     "text": [
      " 30%|██▉       | 89/300 [00:32<01:14,  2.84it/s]"
     ]
    },
    {
     "name": "stdout",
     "output_type": "stream",
     "text": [
      "iteration 88: loss training = 0.0409339496658908, best validation = 0.04243115382269025\n"
     ]
    },
    {
     "name": "stderr",
     "output_type": "stream",
     "text": [
      " 30%|███       | 90/300 [00:33<01:12,  2.91it/s]"
     ]
    },
    {
     "name": "stdout",
     "output_type": "stream",
     "text": [
      "iteration 89: loss training = 0.04132198838014451, best validation = 0.04243115382269025\n"
     ]
    },
    {
     "name": "stderr",
     "output_type": "stream",
     "text": [
      " 30%|███       | 91/300 [00:33<01:14,  2.80it/s]"
     ]
    },
    {
     "name": "stdout",
     "output_type": "stream",
     "text": [
      "iteration 90: loss training = 0.04083805211952755, best validation = 0.04243115382269025\n"
     ]
    },
    {
     "name": "stderr",
     "output_type": "stream",
     "text": [
      " 31%|███       | 92/300 [00:33<01:15,  2.75it/s]"
     ]
    },
    {
     "name": "stdout",
     "output_type": "stream",
     "text": [
      "iteration 91: loss training = 0.040606077346536845, best validation = 0.04243115382269025\n"
     ]
    },
    {
     "name": "stderr",
     "output_type": "stream",
     "text": [
      " 31%|███       | 93/300 [00:34<01:15,  2.75it/s]"
     ]
    },
    {
     "name": "stdout",
     "output_type": "stream",
     "text": [
      "iteration 92: loss training = 0.04060233520373466, best validation = 0.04234794760122895\n"
     ]
    },
    {
     "name": "stderr",
     "output_type": "stream",
     "text": [
      " 31%|███▏      | 94/300 [00:34<01:14,  2.78it/s]"
     ]
    },
    {
     "name": "stdout",
     "output_type": "stream",
     "text": [
      "iteration 93: loss training = 0.04046747171216541, best validation = 0.042173103196546435\n"
     ]
    },
    {
     "name": "stderr",
     "output_type": "stream",
     "text": [
      " 32%|███▏      | 95/300 [00:34<01:12,  2.85it/s]"
     ]
    },
    {
     "name": "stdout",
     "output_type": "stream",
     "text": [
      "iteration 94: loss training = 0.04037183771530787, best validation = 0.04210987756960094\n"
     ]
    },
    {
     "name": "stderr",
     "output_type": "stream",
     "text": [
      " 32%|███▏      | 96/300 [00:35<01:12,  2.82it/s]"
     ]
    },
    {
     "name": "stdout",
     "output_type": "stream",
     "text": [
      "iteration 95: loss training = 0.04036629749905495, best validation = 0.04210987756960094\n"
     ]
    },
    {
     "name": "stderr",
     "output_type": "stream",
     "text": [
      " 32%|███▏      | 97/300 [00:35<01:11,  2.86it/s]"
     ]
    },
    {
     "name": "stdout",
     "output_type": "stream",
     "text": [
      "iteration 96: loss training = 0.0403015073093157, best validation = 0.04203046322800219\n"
     ]
    },
    {
     "name": "stderr",
     "output_type": "stream",
     "text": [
      " 33%|███▎      | 98/300 [00:35<01:09,  2.89it/s]"
     ]
    },
    {
     "name": "stdout",
     "output_type": "stream",
     "text": [
      "iteration 97: loss training = 0.04037984318676449, best validation = 0.04203046322800219\n"
     ]
    },
    {
     "name": "stderr",
     "output_type": "stream",
     "text": [
      " 33%|███▎      | 99/300 [00:36<01:08,  2.95it/s]"
     ]
    },
    {
     "name": "stdout",
     "output_type": "stream",
     "text": [
      "iteration 98: loss training = 0.0405098113512236, best validation = 0.04203046322800219\n"
     ]
    },
    {
     "name": "stderr",
     "output_type": "stream",
     "text": [
      " 33%|███▎      | 100/300 [00:36<01:06,  2.99it/s]"
     ]
    },
    {
     "name": "stdout",
     "output_type": "stream",
     "text": [
      "iteration 99: loss training = 0.040282059993062704, best validation = 0.04203046322800219\n"
     ]
    },
    {
     "name": "stderr",
     "output_type": "stream",
     "text": [
      " 34%|███▎      | 101/300 [00:36<01:10,  2.81it/s]"
     ]
    },
    {
     "name": "stdout",
     "output_type": "stream",
     "text": [
      "iteration 100: loss training = 0.040284772181794756, best validation = 0.04203046322800219\n"
     ]
    },
    {
     "name": "stderr",
     "output_type": "stream",
     "text": [
      " 34%|███▍      | 102/300 [00:37<01:08,  2.87it/s]"
     ]
    },
    {
     "name": "stdout",
     "output_type": "stream",
     "text": [
      "iteration 101: loss training = 0.040292304541383474, best validation = 0.04203046322800219\n"
     ]
    },
    {
     "name": "stderr",
     "output_type": "stream",
     "text": [
      " 34%|███▍      | 103/300 [00:37<01:07,  2.90it/s]"
     ]
    },
    {
     "name": "stdout",
     "output_type": "stream",
     "text": [
      "iteration 102: loss training = 0.04019836318634805, best validation = 0.04203046322800219\n"
     ]
    },
    {
     "name": "stderr",
     "output_type": "stream",
     "text": [
      " 35%|███▍      | 104/300 [00:38<01:07,  2.89it/s]"
     ]
    },
    {
     "name": "stdout",
     "output_type": "stream",
     "text": [
      "iteration 103: loss training = 0.040243611567550235, best validation = 0.04201632342301309\n"
     ]
    },
    {
     "name": "stderr",
     "output_type": "stream",
     "text": [
      " 35%|███▌      | 105/300 [00:38<01:06,  2.93it/s]"
     ]
    },
    {
     "name": "stdout",
     "output_type": "stream",
     "text": [
      "iteration 104: loss training = 0.04011736733336297, best validation = 0.041966549353674054\n"
     ]
    },
    {
     "name": "stderr",
     "output_type": "stream",
     "text": [
      " 35%|███▌      | 106/300 [00:38<01:06,  2.92it/s]"
     ]
    },
    {
     "name": "stdout",
     "output_type": "stream",
     "text": [
      "iteration 105: loss training = 0.040180779638744536, best validation = 0.041966549353674054\n"
     ]
    },
    {
     "name": "stderr",
     "output_type": "stream",
     "text": [
      " 36%|███▌      | 107/300 [00:38<01:04,  2.99it/s]"
     ]
    },
    {
     "name": "stdout",
     "output_type": "stream",
     "text": [
      "iteration 106: loss training = 0.04011939158515325, best validation = 0.041966549353674054\n"
     ]
    },
    {
     "name": "stderr",
     "output_type": "stream",
     "text": [
      " 36%|███▌      | 108/300 [00:39<01:03,  3.04it/s]"
     ]
    },
    {
     "name": "stdout",
     "output_type": "stream",
     "text": [
      "iteration 107: loss training = 0.040100897351900734, best validation = 0.041966549353674054\n"
     ]
    },
    {
     "name": "stderr",
     "output_type": "stream",
     "text": [
      " 36%|███▋      | 109/300 [00:39<01:01,  3.09it/s]"
     ]
    },
    {
     "name": "stdout",
     "output_type": "stream",
     "text": [
      "iteration 108: loss training = 0.039979107677936554, best validation = 0.041966549353674054\n"
     ]
    },
    {
     "name": "stderr",
     "output_type": "stream",
     "text": [
      " 37%|███▋      | 110/300 [00:39<01:01,  3.11it/s]"
     ]
    },
    {
     "name": "stdout",
     "output_type": "stream",
     "text": [
      "iteration 109: loss training = 0.039999602569474116, best validation = 0.041966549353674054\n"
     ]
    },
    {
     "name": "stderr",
     "output_type": "stream",
     "text": [
      " 37%|███▋      | 111/300 [00:40<01:00,  3.10it/s]"
     ]
    },
    {
     "name": "stdout",
     "output_type": "stream",
     "text": [
      "iteration 110: loss training = 0.03993688482377264, best validation = 0.041966549353674054\n"
     ]
    },
    {
     "name": "stderr",
     "output_type": "stream",
     "text": [
      " 37%|███▋      | 112/300 [00:40<01:01,  3.07it/s]"
     ]
    },
    {
     "name": "stdout",
     "output_type": "stream",
     "text": [
      "iteration 111: loss training = 0.03988814046458593, best validation = 0.041966549353674054\n"
     ]
    },
    {
     "name": "stderr",
     "output_type": "stream",
     "text": [
      " 38%|███▊      | 113/300 [00:40<01:02,  3.00it/s]"
     ]
    },
    {
     "name": "stdout",
     "output_type": "stream",
     "text": [
      "iteration 112: loss training = 0.039727596891304805, best validation = 0.041966549353674054\n"
     ]
    },
    {
     "name": "stderr",
     "output_type": "stream",
     "text": [
      " 38%|███▊      | 114/300 [00:41<01:01,  3.01it/s]"
     ]
    },
    {
     "name": "stdout",
     "output_type": "stream",
     "text": [
      "iteration 113: loss training = 0.03974771458241674, best validation = 0.04192758910357952\n"
     ]
    },
    {
     "name": "stderr",
     "output_type": "stream",
     "text": [
      " 38%|███▊      | 115/300 [00:41<01:06,  2.79it/s]"
     ]
    },
    {
     "name": "stdout",
     "output_type": "stream",
     "text": [
      "iteration 114: loss training = 0.03978209842055563, best validation = 0.04192758910357952\n"
     ]
    },
    {
     "name": "stderr",
     "output_type": "stream",
     "text": [
      " 39%|███▊      | 116/300 [00:42<01:05,  2.83it/s]"
     ]
    },
    {
     "name": "stdout",
     "output_type": "stream",
     "text": [
      "iteration 115: loss training = 0.03967649075720045, best validation = 0.04190519289113581\n"
     ]
    },
    {
     "name": "stderr",
     "output_type": "stream",
     "text": [
      " 39%|███▉      | 117/300 [00:42<01:03,  2.87it/s]"
     ]
    },
    {
     "name": "stdout",
     "output_type": "stream",
     "text": [
      "iteration 116: loss training = 0.039794236007663936, best validation = 0.04174210806377232\n"
     ]
    },
    {
     "name": "stderr",
     "output_type": "stream",
     "text": [
      " 39%|███▉      | 118/300 [00:42<01:02,  2.93it/s]"
     ]
    },
    {
     "name": "stdout",
     "output_type": "stream",
     "text": [
      "iteration 117: loss training = 0.04008595734125092, best validation = 0.04156724503263831\n"
     ]
    },
    {
     "name": "stderr",
     "output_type": "stream",
     "text": [
      " 40%|███▉      | 119/300 [00:43<01:01,  2.97it/s]"
     ]
    },
    {
     "name": "stdout",
     "output_type": "stream",
     "text": [
      "iteration 118: loss training = 0.03988553033698173, best validation = 0.04148692102171481\n"
     ]
    },
    {
     "name": "stderr",
     "output_type": "stream",
     "text": [
      " 40%|████      | 120/300 [00:43<01:00,  2.97it/s]"
     ]
    },
    {
     "name": "stdout",
     "output_type": "stream",
     "text": [
      "iteration 119: loss training = 0.039755606876006204, best validation = 0.04148692102171481\n"
     ]
    },
    {
     "name": "stderr",
     "output_type": "stream",
     "text": [
      " 40%|████      | 121/300 [00:43<01:00,  2.95it/s]"
     ]
    },
    {
     "name": "stdout",
     "output_type": "stream",
     "text": [
      "iteration 120: loss training = 0.03956890537861794, best validation = 0.04146841843612492\n"
     ]
    },
    {
     "name": "stderr",
     "output_type": "stream",
     "text": [
      " 41%|████      | 122/300 [00:44<01:00,  2.95it/s]"
     ]
    },
    {
     "name": "stdout",
     "output_type": "stream",
     "text": [
      "iteration 121: loss training = 0.039539292809509095, best validation = 0.04146841843612492\n"
     ]
    },
    {
     "name": "stderr",
     "output_type": "stream",
     "text": [
      " 41%|████      | 123/300 [00:44<00:59,  3.00it/s]"
     ]
    },
    {
     "name": "stdout",
     "output_type": "stream",
     "text": [
      "iteration 122: loss training = 0.03958298425589289, best validation = 0.04146841843612492\n"
     ]
    },
    {
     "name": "stderr",
     "output_type": "stream",
     "text": [
      " 41%|████▏     | 124/300 [00:44<00:58,  3.01it/s]"
     ]
    },
    {
     "name": "stdout",
     "output_type": "stream",
     "text": [
      "iteration 123: loss training = 0.03958097709313271, best validation = 0.04146841843612492\n"
     ]
    },
    {
     "name": "stderr",
     "output_type": "stream",
     "text": [
      " 42%|████▏     | 125/300 [00:45<00:58,  3.00it/s]"
     ]
    },
    {
     "name": "stdout",
     "output_type": "stream",
     "text": [
      "iteration 124: loss training = 0.03951221527088256, best validation = 0.04146841843612492\n"
     ]
    },
    {
     "name": "stderr",
     "output_type": "stream",
     "text": [
      " 42%|████▏     | 126/300 [00:45<00:57,  3.01it/s]"
     ]
    },
    {
     "name": "stdout",
     "output_type": "stream",
     "text": [
      "iteration 125: loss training = 0.03956654596896399, best validation = 0.04146841843612492\n"
     ]
    },
    {
     "name": "stderr",
     "output_type": "stream",
     "text": [
      " 42%|████▏     | 127/300 [00:45<00:56,  3.04it/s]"
     ]
    },
    {
     "name": "stdout",
     "output_type": "stream",
     "text": [
      "iteration 126: loss training = 0.039554117690949214, best validation = 0.04146841843612492\n"
     ]
    },
    {
     "name": "stderr",
     "output_type": "stream",
     "text": [
      " 43%|████▎     | 128/300 [00:46<00:56,  3.06it/s]"
     ]
    },
    {
     "name": "stdout",
     "output_type": "stream",
     "text": [
      "iteration 127: loss training = 0.039514513952391486, best validation = 0.04146841843612492\n"
     ]
    },
    {
     "name": "stderr",
     "output_type": "stream",
     "text": [
      " 43%|████▎     | 129/300 [00:46<00:56,  3.01it/s]"
     ]
    },
    {
     "name": "stdout",
     "output_type": "stream",
     "text": [
      "iteration 128: loss training = 0.03957872311510737, best validation = 0.04142665467225015\n"
     ]
    },
    {
     "name": "stderr",
     "output_type": "stream",
     "text": [
      " 43%|████▎     | 130/300 [00:46<01:00,  2.80it/s]"
     ]
    },
    {
     "name": "stdout",
     "output_type": "stream",
     "text": [
      "iteration 129: loss training = 0.03951866321620487, best validation = 0.0414204616099596\n"
     ]
    },
    {
     "name": "stderr",
     "output_type": "stream",
     "text": [
      " 44%|████▎     | 131/300 [00:47<00:59,  2.85it/s]"
     ]
    },
    {
     "name": "stdout",
     "output_type": "stream",
     "text": [
      "iteration 130: loss training = 0.03947047995669501, best validation = 0.04142000060528517\n"
     ]
    },
    {
     "name": "stderr",
     "output_type": "stream",
     "text": [
      " 44%|████▍     | 132/300 [00:47<00:58,  2.90it/s]"
     ]
    },
    {
     "name": "stdout",
     "output_type": "stream",
     "text": [
      "iteration 131: loss training = 0.039449466362832086, best validation = 0.04142000060528517\n"
     ]
    },
    {
     "name": "stderr",
     "output_type": "stream",
     "text": [
      " 44%|████▍     | 133/300 [00:47<00:56,  2.93it/s]"
     ]
    },
    {
     "name": "stdout",
     "output_type": "stream",
     "text": [
      "iteration 132: loss training = 0.039477049299175775, best validation = 0.04138621501624584\n"
     ]
    },
    {
     "name": "stderr",
     "output_type": "stream",
     "text": [
      " 45%|████▍     | 134/300 [00:48<00:56,  2.96it/s]"
     ]
    },
    {
     "name": "stdout",
     "output_type": "stream",
     "text": [
      "iteration 133: loss training = 0.039436272567226774, best validation = 0.04138621501624584\n"
     ]
    },
    {
     "name": "stderr",
     "output_type": "stream",
     "text": [
      " 45%|████▌     | 135/300 [00:48<00:55,  2.97it/s]"
     ]
    },
    {
     "name": "stdout",
     "output_type": "stream",
     "text": [
      "iteration 134: loss training = 0.039381048686447595, best validation = 0.04136276012286544\n"
     ]
    },
    {
     "name": "stderr",
     "output_type": "stream",
     "text": [
      " 45%|████▌     | 136/300 [00:48<00:54,  2.99it/s]"
     ]
    },
    {
     "name": "stdout",
     "output_type": "stream",
     "text": [
      "iteration 135: loss training = 0.039438782466782465, best validation = 0.04135894449427724\n"
     ]
    },
    {
     "name": "stderr",
     "output_type": "stream",
     "text": [
      " 46%|████▌     | 137/300 [00:49<00:55,  2.94it/s]"
     ]
    },
    {
     "name": "stdout",
     "output_type": "stream",
     "text": [
      "iteration 136: loss training = 0.03942664210048933, best validation = 0.04135367716662586\n"
     ]
    },
    {
     "name": "stderr",
     "output_type": "stream",
     "text": [
      " 46%|████▌     | 138/300 [00:49<00:55,  2.94it/s]"
     ]
    },
    {
     "name": "stdout",
     "output_type": "stream",
     "text": [
      "iteration 137: loss training = 0.0393335468594044, best validation = 0.04133289703167975\n"
     ]
    },
    {
     "name": "stderr",
     "output_type": "stream",
     "text": [
      " 46%|████▋     | 139/300 [00:49<00:54,  2.98it/s]"
     ]
    },
    {
     "name": "stdout",
     "output_type": "stream",
     "text": [
      "iteration 138: loss training = 0.03935181869873925, best validation = 0.04132478474639356\n"
     ]
    },
    {
     "name": "stderr",
     "output_type": "stream",
     "text": [
      " 47%|████▋     | 140/300 [00:50<00:52,  3.03it/s]"
     ]
    },
    {
     "name": "stdout",
     "output_type": "stream",
     "text": [
      "iteration 139: loss training = 0.03939236972540144, best validation = 0.041320133022964\n"
     ]
    },
    {
     "name": "stderr",
     "output_type": "stream",
     "text": [
      " 47%|████▋     | 141/300 [00:50<00:52,  3.04it/s]"
     ]
    },
    {
     "name": "stdout",
     "output_type": "stream",
     "text": [
      "iteration 140: loss training = 0.039365059977012964, best validation = 0.041320133022964\n"
     ]
    },
    {
     "name": "stderr",
     "output_type": "stream",
     "text": [
      " 47%|████▋     | 142/300 [00:50<00:51,  3.08it/s]"
     ]
    },
    {
     "name": "stdout",
     "output_type": "stream",
     "text": [
      "iteration 141: loss training = 0.03939818750534739, best validation = 0.041320133022964\n"
     ]
    },
    {
     "name": "stderr",
     "output_type": "stream",
     "text": [
      " 48%|████▊     | 143/300 [00:51<00:50,  3.10it/s]"
     ]
    },
    {
     "name": "stdout",
     "output_type": "stream",
     "text": [
      "iteration 142: loss training = 0.0393876578836214, best validation = 0.041320133022964\n"
     ]
    },
    {
     "name": "stderr",
     "output_type": "stream",
     "text": [
      " 48%|████▊     | 144/300 [00:51<00:52,  2.95it/s]"
     ]
    },
    {
     "name": "stdout",
     "output_type": "stream",
     "text": [
      "iteration 143: loss training = 0.03932725454843233, best validation = 0.041320133022964\n"
     ]
    },
    {
     "name": "stderr",
     "output_type": "stream",
     "text": [
      " 48%|████▊     | 145/300 [00:51<00:52,  2.93it/s]"
     ]
    },
    {
     "name": "stdout",
     "output_type": "stream",
     "text": [
      "iteration 144: loss training = 0.03936634070816494, best validation = 0.041320133022964\n"
     ]
    },
    {
     "name": "stderr",
     "output_type": "stream",
     "text": [
      " 49%|████▊     | 146/300 [00:52<00:51,  2.96it/s]"
     ]
    },
    {
     "name": "stdout",
     "output_type": "stream",
     "text": [
      "iteration 145: loss training = 0.03933564987447527, best validation = 0.041320133022964\n"
     ]
    },
    {
     "name": "stderr",
     "output_type": "stream",
     "text": [
      " 49%|████▉     | 147/300 [00:52<00:51,  2.98it/s]"
     ]
    },
    {
     "name": "stdout",
     "output_type": "stream",
     "text": [
      "iteration 146: loss training = 0.03932448985084655, best validation = 0.041320133022964\n"
     ]
    },
    {
     "name": "stderr",
     "output_type": "stream",
     "text": [
      " 49%|████▉     | 148/300 [00:52<00:51,  2.97it/s]"
     ]
    },
    {
     "name": "stdout",
     "output_type": "stream",
     "text": [
      "iteration 147: loss training = 0.039347338475405225, best validation = 0.04131822707131505\n"
     ]
    },
    {
     "name": "stderr",
     "output_type": "stream",
     "text": [
      " 50%|████▉     | 149/300 [00:53<00:50,  3.00it/s]"
     ]
    },
    {
     "name": "stdout",
     "output_type": "stream",
     "text": [
      "iteration 148: loss training = 0.03934494985474481, best validation = 0.041315107606351376\n"
     ]
    },
    {
     "name": "stderr",
     "output_type": "stream",
     "text": [
      " 50%|█████     | 150/300 [00:53<00:49,  3.01it/s]"
     ]
    },
    {
     "name": "stdout",
     "output_type": "stream",
     "text": [
      "iteration 149: loss training = 0.039270484553916116, best validation = 0.04130737273953855\n"
     ]
    },
    {
     "name": "stderr",
     "output_type": "stream",
     "text": [
      " 50%|█████     | 151/300 [00:53<00:49,  3.01it/s]"
     ]
    },
    {
     "name": "stdout",
     "output_type": "stream",
     "text": [
      "iteration 150: loss training = 0.03931171920091387, best validation = 0.04128273553214967\n"
     ]
    },
    {
     "name": "stderr",
     "output_type": "stream",
     "text": [
      " 51%|█████     | 152/300 [00:54<00:48,  3.07it/s]"
     ]
    },
    {
     "name": "stdout",
     "output_type": "stream",
     "text": [
      "iteration 151: loss training = 0.03930953854606265, best validation = 0.04127861256711185\n"
     ]
    },
    {
     "name": "stderr",
     "output_type": "stream",
     "text": [
      " 51%|█████     | 153/300 [00:54<00:49,  2.95it/s]"
     ]
    },
    {
     "name": "stdout",
     "output_type": "stream",
     "text": [
      "iteration 152: loss training = 0.039261640182563236, best validation = 0.04127263929694891\n"
     ]
    },
    {
     "name": "stderr",
     "output_type": "stream",
     "text": [
      " 51%|█████▏    | 154/300 [00:54<00:49,  2.97it/s]"
     ]
    },
    {
     "name": "stdout",
     "output_type": "stream",
     "text": [
      "iteration 153: loss training = 0.03927472352035462, best validation = 0.04127263929694891\n"
     ]
    },
    {
     "name": "stderr",
     "output_type": "stream",
     "text": [
      " 52%|█████▏    | 155/300 [00:55<00:47,  3.02it/s]"
     ]
    },
    {
     "name": "stdout",
     "output_type": "stream",
     "text": [
      "iteration 154: loss training = 0.03923661829460235, best validation = 0.04127171006985009\n"
     ]
    },
    {
     "name": "stderr",
     "output_type": "stream",
     "text": [
      " 52%|█████▏    | 156/300 [00:55<00:48,  2.99it/s]"
     ]
    },
    {
     "name": "stdout",
     "output_type": "stream",
     "text": [
      "iteration 155: loss training = 0.039258693182279196, best validation = 0.04127171006985009\n"
     ]
    },
    {
     "name": "stderr",
     "output_type": "stream",
     "text": [
      " 52%|█████▏    | 157/300 [00:55<00:47,  3.00it/s]"
     ]
    },
    {
     "name": "stdout",
     "output_type": "stream",
     "text": [
      "iteration 156: loss training = 0.03920398605248285, best validation = 0.04127171006985009\n"
     ]
    },
    {
     "name": "stderr",
     "output_type": "stream",
     "text": [
      " 53%|█████▎    | 158/300 [00:56<00:49,  2.85it/s]"
     ]
    },
    {
     "name": "stdout",
     "output_type": "stream",
     "text": [
      "iteration 157: loss training = 0.03925641720730161, best validation = 0.04127171006985009\n"
     ]
    },
    {
     "name": "stderr",
     "output_type": "stream",
     "text": [
      " 53%|█████▎    | 159/300 [00:56<00:48,  2.88it/s]"
     ]
    },
    {
     "name": "stdout",
     "output_type": "stream",
     "text": [
      "iteration 158: loss training = 0.039238984622652566, best validation = 0.04127171006985009\n"
     ]
    },
    {
     "name": "stderr",
     "output_type": "stream",
     "text": [
      " 53%|█████▎    | 160/300 [00:56<00:48,  2.91it/s]"
     ]
    },
    {
     "name": "stdout",
     "output_type": "stream",
     "text": [
      "iteration 159: loss training = 0.03928144477189533, best validation = 0.04127171006985009\n"
     ]
    },
    {
     "name": "stderr",
     "output_type": "stream",
     "text": [
      " 54%|█████▎    | 161/300 [00:57<00:47,  2.90it/s]"
     ]
    },
    {
     "name": "stdout",
     "output_type": "stream",
     "text": [
      "iteration 160: loss training = 0.039236797345063044, best validation = 0.04127171006985009\n"
     ]
    },
    {
     "name": "stderr",
     "output_type": "stream",
     "text": [
      " 54%|█████▍    | 162/300 [00:57<00:47,  2.92it/s]"
     ]
    },
    {
     "name": "stdout",
     "output_type": "stream",
     "text": [
      "iteration 161: loss training = 0.039342813785113985, best validation = 0.04127171006985009\n"
     ]
    },
    {
     "name": "stderr",
     "output_type": "stream",
     "text": [
      " 54%|█████▍    | 163/300 [00:57<00:45,  3.00it/s]"
     ]
    },
    {
     "name": "stdout",
     "output_type": "stream",
     "text": [
      "iteration 162: loss training = 0.03926535630746493, best validation = 0.04127171006985009\n"
     ]
    },
    {
     "name": "stderr",
     "output_type": "stream",
     "text": [
      " 55%|█████▍    | 164/300 [00:58<00:43,  3.11it/s]"
     ]
    },
    {
     "name": "stdout",
     "output_type": "stream",
     "text": [
      "iteration 163: loss training = 0.03923650570805111, best validation = 0.04127171006985009\n"
     ]
    },
    {
     "name": "stderr",
     "output_type": "stream",
     "text": [
      " 55%|█████▌    | 165/300 [00:58<00:43,  3.13it/s]"
     ]
    },
    {
     "name": "stdout",
     "output_type": "stream",
     "text": [
      "iteration 164: loss training = 0.03920538073021268, best validation = 0.04127171006985009\n"
     ]
    },
    {
     "name": "stderr",
     "output_type": "stream",
     "text": [
      " 55%|█████▌    | 166/300 [00:58<00:43,  3.11it/s]"
     ]
    },
    {
     "name": "stdout",
     "output_type": "stream",
     "text": [
      "iteration 165: loss training = 0.039279270207598097, best validation = 0.04127171006985009\n"
     ]
    },
    {
     "name": "stderr",
     "output_type": "stream",
     "text": [
      " 56%|█████▌    | 167/300 [00:59<00:42,  3.10it/s]"
     ]
    },
    {
     "name": "stdout",
     "output_type": "stream",
     "text": [
      "iteration 166: loss training = 0.03932213925179981, best validation = 0.04127171006985009\n"
     ]
    },
    {
     "name": "stderr",
     "output_type": "stream",
     "text": [
      " 56%|█████▌    | 168/300 [00:59<00:42,  3.09it/s]"
     ]
    },
    {
     "name": "stdout",
     "output_type": "stream",
     "text": [
      "iteration 167: loss training = 0.03923967498398963, best validation = 0.04127171006985009\n"
     ]
    },
    {
     "name": "stderr",
     "output_type": "stream",
     "text": [
      " 56%|█████▋    | 169/300 [00:59<00:44,  2.97it/s]"
     ]
    },
    {
     "name": "stdout",
     "output_type": "stream",
     "text": [
      "iteration 168: loss training = 0.0392200406936426, best validation = 0.04127171006985009\n"
     ]
    },
    {
     "name": "stderr",
     "output_type": "stream",
     "text": [
      " 57%|█████▋    | 170/300 [01:00<00:43,  2.98it/s]"
     ]
    },
    {
     "name": "stdout",
     "output_type": "stream",
     "text": [
      "iteration 169: loss training = 0.03930287589392965, best validation = 0.04127171006985009\n"
     ]
    },
    {
     "name": "stderr",
     "output_type": "stream",
     "text": [
      " 57%|█████▋    | 171/300 [01:00<00:43,  2.97it/s]"
     ]
    },
    {
     "name": "stdout",
     "output_type": "stream",
     "text": [
      "iteration 170: loss training = 0.03927801626305732, best validation = 0.04126132815144956\n"
     ]
    },
    {
     "name": "stderr",
     "output_type": "stream",
     "text": [
      " 57%|█████▋    | 172/300 [01:00<00:43,  2.97it/s]"
     ]
    },
    {
     "name": "stdout",
     "output_type": "stream",
     "text": [
      "iteration 171: loss training = 0.039288069757204204, best validation = 0.04126047855243087\n"
     ]
    },
    {
     "name": "stderr",
     "output_type": "stream",
     "text": [
      " 58%|█████▊    | 173/300 [01:01<00:44,  2.82it/s]"
     ]
    },
    {
     "name": "stdout",
     "output_type": "stream",
     "text": [
      "iteration 172: loss training = 0.03924841108539748, best validation = 0.041253980016335845\n"
     ]
    },
    {
     "name": "stderr",
     "output_type": "stream",
     "text": [
      " 58%|█████▊    | 174/300 [01:01<00:43,  2.88it/s]"
     ]
    },
    {
     "name": "stdout",
     "output_type": "stream",
     "text": [
      "iteration 173: loss training = 0.03921266976330015, best validation = 0.04124855366535485\n"
     ]
    },
    {
     "name": "stderr",
     "output_type": "stream",
     "text": [
      " 58%|█████▊    | 175/300 [01:01<00:42,  2.91it/s]"
     ]
    },
    {
     "name": "stdout",
     "output_type": "stream",
     "text": [
      "iteration 174: loss training = 0.03924112317581025, best validation = 0.04124559182673693\n"
     ]
    },
    {
     "name": "stderr",
     "output_type": "stream",
     "text": [
      " 59%|█████▊    | 176/300 [01:02<00:42,  2.94it/s]"
     ]
    },
    {
     "name": "stdout",
     "output_type": "stream",
     "text": [
      "iteration 175: loss training = 0.039206681388711175, best validation = 0.04124559182673693\n"
     ]
    },
    {
     "name": "stderr",
     "output_type": "stream",
     "text": [
      " 59%|█████▉    | 177/300 [01:02<00:41,  2.93it/s]"
     ]
    },
    {
     "name": "stdout",
     "output_type": "stream",
     "text": [
      "iteration 176: loss training = 0.039315912636026504, best validation = 0.04124559182673693\n"
     ]
    },
    {
     "name": "stderr",
     "output_type": "stream",
     "text": [
      " 59%|█████▉    | 178/300 [01:02<00:40,  2.99it/s]"
     ]
    },
    {
     "name": "stdout",
     "output_type": "stream",
     "text": [
      "iteration 177: loss training = 0.03925454870812477, best validation = 0.04124559182673693\n"
     ]
    },
    {
     "name": "stderr",
     "output_type": "stream",
     "text": [
      " 60%|█████▉    | 179/300 [01:03<00:39,  3.05it/s]"
     ]
    },
    {
     "name": "stdout",
     "output_type": "stream",
     "text": [
      "iteration 178: loss training = 0.03923570831853246, best validation = 0.04124559182673693\n"
     ]
    },
    {
     "name": "stderr",
     "output_type": "stream",
     "text": [
      " 60%|██████    | 180/300 [01:03<00:39,  3.07it/s]"
     ]
    },
    {
     "name": "stdout",
     "output_type": "stream",
     "text": [
      "iteration 179: loss training = 0.03920513426973706, best validation = 0.04124559182673693\n"
     ]
    },
    {
     "name": "stderr",
     "output_type": "stream",
     "text": [
      " 60%|██████    | 181/300 [01:03<00:38,  3.08it/s]"
     ]
    },
    {
     "name": "stdout",
     "output_type": "stream",
     "text": [
      "iteration 180: loss training = 0.03923932746762321, best validation = 0.04124559182673693\n"
     ]
    },
    {
     "name": "stderr",
     "output_type": "stream",
     "text": [
      " 61%|██████    | 182/300 [01:04<00:37,  3.12it/s]"
     ]
    },
    {
     "name": "stdout",
     "output_type": "stream",
     "text": [
      "iteration 181: loss training = 0.03920865265859498, best validation = 0.04124559182673693\n"
     ]
    },
    {
     "name": "stderr",
     "output_type": "stream",
     "text": [
      " 61%|██████    | 183/300 [01:04<00:37,  3.11it/s]"
     ]
    },
    {
     "name": "stdout",
     "output_type": "stream",
     "text": [
      "iteration 182: loss training = 0.039239770954563505, best validation = 0.04124559182673693\n"
     ]
    },
    {
     "name": "stderr",
     "output_type": "stream",
     "text": [
      " 61%|██████▏   | 184/300 [01:04<00:37,  3.10it/s]"
     ]
    },
    {
     "name": "stdout",
     "output_type": "stream",
     "text": [
      "iteration 183: loss training = 0.03919411024877003, best validation = 0.04124559182673693\n"
     ]
    },
    {
     "name": "stderr",
     "output_type": "stream",
     "text": [
      " 62%|██████▏   | 185/300 [01:05<00:37,  3.06it/s]"
     ]
    },
    {
     "name": "stdout",
     "output_type": "stream",
     "text": [
      "iteration 184: loss training = 0.039269879164676814, best validation = 0.04124559182673693\n"
     ]
    },
    {
     "name": "stderr",
     "output_type": "stream",
     "text": [
      " 62%|██████▏   | 186/300 [01:05<00:37,  3.08it/s]"
     ]
    },
    {
     "name": "stdout",
     "output_type": "stream",
     "text": [
      "iteration 185: loss training = 0.03919450944614789, best validation = 0.04124559182673693\n"
     ]
    },
    {
     "name": "stderr",
     "output_type": "stream",
     "text": [
      " 62%|██████▏   | 187/300 [01:05<00:38,  2.91it/s]"
     ]
    },
    {
     "name": "stdout",
     "output_type": "stream",
     "text": [
      "iteration 186: loss training = 0.03920512634610373, best validation = 0.04124559182673693\n"
     ]
    },
    {
     "name": "stderr",
     "output_type": "stream",
     "text": [
      " 63%|██████▎   | 188/300 [01:06<00:37,  2.97it/s]"
     ]
    },
    {
     "name": "stdout",
     "output_type": "stream",
     "text": [
      "iteration 187: loss training = 0.03922813894256713, best validation = 0.04124559182673693\n"
     ]
    },
    {
     "name": "stderr",
     "output_type": "stream",
     "text": [
      " 63%|██████▎   | 189/300 [01:06<00:37,  2.98it/s]"
     ]
    },
    {
     "name": "stdout",
     "output_type": "stream",
     "text": [
      "iteration 188: loss training = 0.03921242460371956, best validation = 0.04124559182673693\n"
     ]
    },
    {
     "name": "stderr",
     "output_type": "stream",
     "text": [
      " 63%|██████▎   | 190/300 [01:06<00:36,  2.98it/s]"
     ]
    },
    {
     "name": "stdout",
     "output_type": "stream",
     "text": [
      "iteration 189: loss training = 0.039213368639586466, best validation = 0.04124559182673693\n"
     ]
    },
    {
     "name": "stderr",
     "output_type": "stream",
     "text": [
      " 64%|██████▎   | 191/300 [01:07<00:36,  3.00it/s]"
     ]
    },
    {
     "name": "stdout",
     "output_type": "stream",
     "text": [
      "iteration 190: loss training = 0.03921237919065687, best validation = 0.04124559182673693\n"
     ]
    },
    {
     "name": "stderr",
     "output_type": "stream",
     "text": [
      " 64%|██████▍   | 192/300 [01:07<00:36,  2.97it/s]"
     ]
    },
    {
     "name": "stdout",
     "output_type": "stream",
     "text": [
      "iteration 191: loss training = 0.03918782775364225, best validation = 0.04124559182673693\n"
     ]
    },
    {
     "name": "stderr",
     "output_type": "stream",
     "text": [
      " 64%|██████▍   | 193/300 [01:07<00:36,  2.92it/s]"
     ]
    },
    {
     "name": "stdout",
     "output_type": "stream",
     "text": [
      "iteration 192: loss training = 0.039187511517888025, best validation = 0.04124559182673693\n"
     ]
    },
    {
     "name": "stderr",
     "output_type": "stream",
     "text": [
      " 65%|██████▍   | 194/300 [01:08<00:36,  2.93it/s]"
     ]
    },
    {
     "name": "stdout",
     "output_type": "stream",
     "text": [
      "iteration 193: loss training = 0.0392550907082974, best validation = 0.04124559182673693\n"
     ]
    },
    {
     "name": "stderr",
     "output_type": "stream",
     "text": [
      " 65%|██████▌   | 195/300 [01:08<00:36,  2.92it/s]"
     ]
    },
    {
     "name": "stdout",
     "output_type": "stream",
     "text": [
      "iteration 194: loss training = 0.0391998209414028, best validation = 0.04124559182673693\n"
     ]
    },
    {
     "name": "stderr",
     "output_type": "stream",
     "text": [
      " 65%|██████▌   | 196/300 [01:08<00:35,  2.97it/s]"
     ]
    },
    {
     "name": "stdout",
     "output_type": "stream",
     "text": [
      "iteration 195: loss training = 0.03918438268795846, best validation = 0.04124559182673693\n"
     ]
    },
    {
     "name": "stderr",
     "output_type": "stream",
     "text": [
      " 66%|██████▌   | 197/300 [01:09<00:34,  3.03it/s]"
     ]
    },
    {
     "name": "stdout",
     "output_type": "stream",
     "text": [
      "iteration 196: loss training = 0.039165497358356206, best validation = 0.04124559182673693\n"
     ]
    },
    {
     "name": "stderr",
     "output_type": "stream",
     "text": [
      " 66%|██████▌   | 198/300 [01:09<00:33,  3.04it/s]"
     ]
    },
    {
     "name": "stdout",
     "output_type": "stream",
     "text": [
      "iteration 197: loss training = 0.03923569176168669, best validation = 0.04124559182673693\n"
     ]
    },
    {
     "name": "stderr",
     "output_type": "stream",
     "text": [
      " 66%|██████▋   | 199/300 [01:09<00:32,  3.08it/s]"
     ]
    },
    {
     "name": "stdout",
     "output_type": "stream",
     "text": [
      "iteration 198: loss training = 0.03919831338146376, best validation = 0.04124559182673693\n"
     ]
    },
    {
     "name": "stderr",
     "output_type": "stream",
     "text": [
      " 67%|██████▋   | 200/300 [01:10<00:32,  3.11it/s]"
     ]
    },
    {
     "name": "stdout",
     "output_type": "stream",
     "text": [
      "iteration 199: loss training = 0.03922829806568131, best validation = 0.04124559182673693\n"
     ]
    },
    {
     "name": "stderr",
     "output_type": "stream",
     "text": [
      " 67%|██████▋   | 201/300 [01:10<00:32,  3.00it/s]"
     ]
    },
    {
     "name": "stdout",
     "output_type": "stream",
     "text": [
      "iteration 200: loss training = 0.03920633452279227, best validation = 0.04124559182673693\n"
     ]
    },
    {
     "name": "stderr",
     "output_type": "stream",
     "text": [
      " 67%|██████▋   | 202/300 [01:10<00:34,  2.84it/s]"
     ]
    },
    {
     "name": "stdout",
     "output_type": "stream",
     "text": [
      "iteration 201: loss training = 0.039217476925206565, best validation = 0.04124559182673693\n"
     ]
    },
    {
     "name": "stderr",
     "output_type": "stream",
     "text": [
      " 68%|██████▊   | 203/300 [01:11<00:33,  2.90it/s]"
     ]
    },
    {
     "name": "stdout",
     "output_type": "stream",
     "text": [
      "iteration 202: loss training = 0.03922722252115371, best validation = 0.04124559182673693\n"
     ]
    },
    {
     "name": "stderr",
     "output_type": "stream",
     "text": [
      " 68%|██████▊   | 204/300 [01:11<00:32,  2.94it/s]"
     ]
    },
    {
     "name": "stdout",
     "output_type": "stream",
     "text": [
      "iteration 203: loss training = 0.03919738117191526, best validation = 0.04124559182673693\n"
     ]
    },
    {
     "name": "stderr",
     "output_type": "stream",
     "text": [
      " 68%|██████▊   | 205/300 [01:11<00:31,  3.00it/s]"
     ]
    },
    {
     "name": "stdout",
     "output_type": "stream",
     "text": [
      "iteration 204: loss training = 0.03922613651033432, best validation = 0.04124559182673693\n"
     ]
    },
    {
     "name": "stderr",
     "output_type": "stream",
     "text": [
      " 69%|██████▊   | 206/300 [01:12<00:31,  3.03it/s]"
     ]
    },
    {
     "name": "stdout",
     "output_type": "stream",
     "text": [
      "iteration 205: loss training = 0.03921643833792399, best validation = 0.04124559182673693\n"
     ]
    },
    {
     "name": "stderr",
     "output_type": "stream",
     "text": [
      " 69%|██████▉   | 207/300 [01:12<00:30,  3.05it/s]"
     ]
    },
    {
     "name": "stdout",
     "output_type": "stream",
     "text": [
      "iteration 206: loss training = 0.03923313644906831, best validation = 0.04124559182673693\n"
     ]
    },
    {
     "name": "stderr",
     "output_type": "stream",
     "text": [
      " 69%|██████▉   | 208/300 [01:12<00:29,  3.08it/s]"
     ]
    },
    {
     "name": "stdout",
     "output_type": "stream",
     "text": [
      "iteration 207: loss training = 0.03923187191997256, best validation = 0.04124559182673693\n"
     ]
    },
    {
     "name": "stderr",
     "output_type": "stream",
     "text": [
      " 70%|██████▉   | 209/300 [01:13<00:30,  3.02it/s]"
     ]
    },
    {
     "name": "stdout",
     "output_type": "stream",
     "text": [
      "iteration 208: loss training = 0.03920384910371569, best validation = 0.04124559182673693\n"
     ]
    },
    {
     "name": "stderr",
     "output_type": "stream",
     "text": [
      " 70%|███████   | 210/300 [01:13<00:29,  3.04it/s]"
     ]
    },
    {
     "name": "stdout",
     "output_type": "stream",
     "text": [
      "iteration 209: loss training = 0.03924461353629354, best validation = 0.04124559182673693\n"
     ]
    },
    {
     "name": "stderr",
     "output_type": "stream",
     "text": [
      " 70%|███████   | 211/300 [01:13<00:29,  3.03it/s]"
     ]
    },
    {
     "name": "stdout",
     "output_type": "stream",
     "text": [
      "iteration 210: loss training = 0.03924631711746019, best validation = 0.04124559182673693\n"
     ]
    },
    {
     "name": "stderr",
     "output_type": "stream",
     "text": [
      " 71%|███████   | 212/300 [01:14<00:29,  2.96it/s]"
     ]
    },
    {
     "name": "stdout",
     "output_type": "stream",
     "text": [
      "iteration 211: loss training = 0.03919853086745928, best validation = 0.04124559182673693\n"
     ]
    },
    {
     "name": "stderr",
     "output_type": "stream",
     "text": [
      " 71%|███████   | 213/300 [01:14<00:29,  2.94it/s]"
     ]
    },
    {
     "name": "stdout",
     "output_type": "stream",
     "text": [
      "iteration 212: loss training = 0.03921410423659143, best validation = 0.04124559182673693\n"
     ]
    },
    {
     "name": "stderr",
     "output_type": "stream",
     "text": [
      " 71%|███████▏  | 214/300 [01:14<00:28,  2.97it/s]"
     ]
    },
    {
     "name": "stdout",
     "output_type": "stream",
     "text": [
      "iteration 213: loss training = 0.03921032105646436, best validation = 0.04124559182673693\n"
     ]
    },
    {
     "name": "stderr",
     "output_type": "stream",
     "text": [
      " 72%|███████▏  | 215/300 [01:15<00:28,  3.01it/s]"
     ]
    },
    {
     "name": "stdout",
     "output_type": "stream",
     "text": [
      "iteration 214: loss training = 0.039249833436712386, best validation = 0.04124559182673693\n"
     ]
    },
    {
     "name": "stderr",
     "output_type": "stream",
     "text": [
      " 72%|███████▏  | 216/300 [01:15<00:29,  2.87it/s]"
     ]
    },
    {
     "name": "stdout",
     "output_type": "stream",
     "text": [
      "iteration 215: loss training = 0.03921133380324122, best validation = 0.04124559182673693\n"
     ]
    },
    {
     "name": "stderr",
     "output_type": "stream",
     "text": [
      " 72%|███████▏  | 217/300 [01:15<00:29,  2.85it/s]"
     ]
    },
    {
     "name": "stdout",
     "output_type": "stream",
     "text": [
      "iteration 216: loss training = 0.039218912699392865, best validation = 0.04124559182673693\n"
     ]
    },
    {
     "name": "stderr",
     "output_type": "stream",
     "text": [
      " 73%|███████▎  | 218/300 [01:16<00:28,  2.87it/s]"
     ]
    },
    {
     "name": "stdout",
     "output_type": "stream",
     "text": [
      "iteration 217: loss training = 0.03919427812335983, best validation = 0.04124559182673693\n"
     ]
    },
    {
     "name": "stderr",
     "output_type": "stream",
     "text": [
      " 73%|███████▎  | 219/300 [01:16<00:28,  2.88it/s]"
     ]
    },
    {
     "name": "stdout",
     "output_type": "stream",
     "text": [
      "iteration 218: loss training = 0.03921574194516454, best validation = 0.04124559182673693\n"
     ]
    },
    {
     "name": "stderr",
     "output_type": "stream",
     "text": [
      " 73%|███████▎  | 220/300 [01:16<00:27,  2.93it/s]"
     ]
    },
    {
     "name": "stdout",
     "output_type": "stream",
     "text": [
      "iteration 219: loss training = 0.039240937384348064, best validation = 0.04124559182673693\n"
     ]
    },
    {
     "name": "stderr",
     "output_type": "stream",
     "text": [
      " 74%|███████▎  | 221/300 [01:17<00:26,  2.93it/s]"
     ]
    },
    {
     "name": "stdout",
     "output_type": "stream",
     "text": [
      "iteration 220: loss training = 0.03918775283391514, best validation = 0.04124559182673693\n"
     ]
    },
    {
     "name": "stderr",
     "output_type": "stream",
     "text": [
      " 74%|███████▍  | 222/300 [01:17<00:26,  2.96it/s]"
     ]
    },
    {
     "name": "stdout",
     "output_type": "stream",
     "text": [
      "iteration 221: loss training = 0.039259723254612515, best validation = 0.04124559182673693\n"
     ]
    },
    {
     "name": "stderr",
     "output_type": "stream",
     "text": [
      " 74%|███████▍  | 223/300 [01:17<00:25,  2.99it/s]"
     ]
    },
    {
     "name": "stdout",
     "output_type": "stream",
     "text": [
      "iteration 222: loss training = 0.03920666648754998, best validation = 0.04124559182673693\n"
     ]
    },
    {
     "name": "stderr",
     "output_type": "stream",
     "text": [
      " 75%|███████▍  | 224/300 [01:18<00:25,  2.99it/s]"
     ]
    },
    {
     "name": "stdout",
     "output_type": "stream",
     "text": [
      "iteration 223: loss training = 0.039232762382617074, best validation = 0.04124559182673693\n"
     ]
    },
    {
     "name": "stderr",
     "output_type": "stream",
     "text": [
      " 75%|███████▌  | 225/300 [01:18<00:25,  2.96it/s]"
     ]
    },
    {
     "name": "stdout",
     "output_type": "stream",
     "text": [
      "iteration 224: loss training = 0.03923886174720431, best validation = 0.04124559182673693\n"
     ]
    },
    {
     "name": "stderr",
     "output_type": "stream",
     "text": [
      " 75%|███████▌  | 226/300 [01:18<00:25,  2.96it/s]"
     ]
    },
    {
     "name": "stdout",
     "output_type": "stream",
     "text": [
      "iteration 225: loss training = 0.03928894502302957, best validation = 0.04124559182673693\n"
     ]
    },
    {
     "name": "stderr",
     "output_type": "stream",
     "text": [
      " 76%|███████▌  | 227/300 [01:19<00:24,  2.97it/s]"
     ]
    },
    {
     "name": "stdout",
     "output_type": "stream",
     "text": [
      "iteration 226: loss training = 0.039179882714672695, best validation = 0.04124559182673693\n"
     ]
    },
    {
     "name": "stderr",
     "output_type": "stream",
     "text": [
      " 76%|███████▌  | 228/300 [01:19<00:24,  2.98it/s]"
     ]
    },
    {
     "name": "stdout",
     "output_type": "stream",
     "text": [
      "iteration 227: loss training = 0.039102888414784084, best validation = 0.04124559182673693\n"
     ]
    },
    {
     "name": "stderr",
     "output_type": "stream",
     "text": [
      " 76%|███████▋  | 229/300 [01:19<00:23,  2.97it/s]"
     ]
    },
    {
     "name": "stdout",
     "output_type": "stream",
     "text": [
      "iteration 228: loss training = 0.039212660716166574, best validation = 0.04124559182673693\n"
     ]
    },
    {
     "name": "stderr",
     "output_type": "stream",
     "text": [
      " 77%|███████▋  | 230/300 [01:20<00:24,  2.81it/s]"
     ]
    },
    {
     "name": "stdout",
     "output_type": "stream",
     "text": [
      "iteration 229: loss training = 0.03919686832361751, best validation = 0.04124559182673693\n"
     ]
    },
    {
     "name": "stderr",
     "output_type": "stream",
     "text": [
      " 77%|███████▋  | 231/300 [01:20<00:24,  2.85it/s]"
     ]
    },
    {
     "name": "stdout",
     "output_type": "stream",
     "text": [
      "iteration 230: loss training = 0.039167418011597226, best validation = 0.04124559182673693\n"
     ]
    },
    {
     "name": "stderr",
     "output_type": "stream",
     "text": [
      " 77%|███████▋  | 232/300 [01:20<00:23,  2.92it/s]"
     ]
    },
    {
     "name": "stdout",
     "output_type": "stream",
     "text": [
      "iteration 231: loss training = 0.03917761288938068, best validation = 0.04124559182673693\n"
     ]
    },
    {
     "name": "stderr",
     "output_type": "stream",
     "text": [
      " 78%|███████▊  | 233/300 [01:21<00:22,  2.94it/s]"
     ]
    },
    {
     "name": "stdout",
     "output_type": "stream",
     "text": [
      "iteration 232: loss training = 0.039164339975705224, best validation = 0.04124559182673693\n"
     ]
    },
    {
     "name": "stderr",
     "output_type": "stream",
     "text": [
      " 78%|███████▊  | 234/300 [01:21<00:22,  2.98it/s]"
     ]
    },
    {
     "name": "stdout",
     "output_type": "stream",
     "text": [
      "iteration 233: loss training = 0.039256649062273996, best validation = 0.04124559182673693\n"
     ]
    },
    {
     "name": "stderr",
     "output_type": "stream",
     "text": [
      " 78%|███████▊  | 235/300 [01:21<00:21,  3.03it/s]"
     ]
    },
    {
     "name": "stdout",
     "output_type": "stream",
     "text": [
      "iteration 234: loss training = 0.039186495696268385, best validation = 0.04124559182673693\n"
     ]
    },
    {
     "name": "stderr",
     "output_type": "stream",
     "text": [
      " 79%|███████▊  | 236/300 [01:22<00:21,  3.02it/s]"
     ]
    },
    {
     "name": "stdout",
     "output_type": "stream",
     "text": [
      "iteration 235: loss training = 0.039223755635912454, best validation = 0.04124559182673693\n"
     ]
    },
    {
     "name": "stderr",
     "output_type": "stream",
     "text": [
      " 79%|███████▉  | 237/300 [01:22<00:20,  3.01it/s]"
     ]
    },
    {
     "name": "stdout",
     "output_type": "stream",
     "text": [
      "iteration 236: loss training = 0.03919909054797793, best validation = 0.04124559182673693\n"
     ]
    },
    {
     "name": "stderr",
     "output_type": "stream",
     "text": [
      " 79%|███████▉  | 238/300 [01:22<00:20,  2.99it/s]"
     ]
    },
    {
     "name": "stdout",
     "output_type": "stream",
     "text": [
      "iteration 237: loss training = 0.039211827906824294, best validation = 0.04124559182673693\n"
     ]
    },
    {
     "name": "stderr",
     "output_type": "stream",
     "text": [
      " 80%|███████▉  | 239/300 [01:23<00:20,  2.98it/s]"
     ]
    },
    {
     "name": "stdout",
     "output_type": "stream",
     "text": [
      "iteration 238: loss training = 0.03918966503133849, best validation = 0.04124559182673693\n"
     ]
    },
    {
     "name": "stderr",
     "output_type": "stream",
     "text": [
      " 80%|████████  | 240/300 [01:23<00:20,  2.98it/s]"
     ]
    },
    {
     "name": "stdout",
     "output_type": "stream",
     "text": [
      "iteration 239: loss training = 0.039230666699863616, best validation = 0.04124559182673693\n"
     ]
    },
    {
     "name": "stderr",
     "output_type": "stream",
     "text": [
      " 80%|████████  | 241/300 [01:24<00:20,  2.88it/s]"
     ]
    },
    {
     "name": "stdout",
     "output_type": "stream",
     "text": [
      "iteration 240: loss training = 0.03927736427812349, best validation = 0.04124559182673693\n"
     ]
    },
    {
     "name": "stderr",
     "output_type": "stream",
     "text": [
      " 81%|████████  | 242/300 [01:24<00:19,  2.93it/s]"
     ]
    },
    {
     "name": "stdout",
     "output_type": "stream",
     "text": [
      "iteration 241: loss training = 0.03923355155284443, best validation = 0.04124559182673693\n"
     ]
    },
    {
     "name": "stderr",
     "output_type": "stream",
     "text": [
      " 81%|████████  | 243/300 [01:24<00:19,  2.97it/s]"
     ]
    },
    {
     "name": "stdout",
     "output_type": "stream",
     "text": [
      "iteration 242: loss training = 0.03925232323152678, best validation = 0.04124559182673693\n"
     ]
    },
    {
     "name": "stderr",
     "output_type": "stream",
     "text": [
      " 81%|████████▏ | 244/300 [01:24<00:18,  3.02it/s]"
     ]
    },
    {
     "name": "stdout",
     "output_type": "stream",
     "text": [
      "iteration 243: loss training = 0.039179909205625925, best validation = 0.04124559182673693\n"
     ]
    },
    {
     "name": "stderr",
     "output_type": "stream",
     "text": [
      " 82%|████████▏ | 245/300 [01:25<00:19,  2.87it/s]"
     ]
    },
    {
     "name": "stdout",
     "output_type": "stream",
     "text": [
      "iteration 244: loss training = 0.0391976825065083, best validation = 0.04124559182673693\n"
     ]
    },
    {
     "name": "stderr",
     "output_type": "stream",
     "text": [
      " 82%|████████▏ | 246/300 [01:25<00:18,  2.94it/s]"
     ]
    },
    {
     "name": "stdout",
     "output_type": "stream",
     "text": [
      "iteration 245: loss training = 0.039223676222184346, best validation = 0.04124559182673693\n"
     ]
    },
    {
     "name": "stderr",
     "output_type": "stream",
     "text": [
      " 82%|████████▏ | 247/300 [01:26<00:17,  2.99it/s]"
     ]
    },
    {
     "name": "stdout",
     "output_type": "stream",
     "text": [
      "iteration 246: loss training = 0.039225871659933575, best validation = 0.04124559182673693\n"
     ]
    },
    {
     "name": "stderr",
     "output_type": "stream",
     "text": [
      " 83%|████████▎ | 248/300 [01:26<00:17,  3.03it/s]"
     ]
    },
    {
     "name": "stdout",
     "output_type": "stream",
     "text": [
      "iteration 247: loss training = 0.03922350958935798, best validation = 0.04124559182673693\n"
     ]
    },
    {
     "name": "stderr",
     "output_type": "stream",
     "text": [
      " 83%|████████▎ | 249/300 [01:26<00:17,  2.96it/s]"
     ]
    },
    {
     "name": "stdout",
     "output_type": "stream",
     "text": [
      "iteration 248: loss training = 0.03927674587993395, best validation = 0.04124559182673693\n"
     ]
    },
    {
     "name": "stderr",
     "output_type": "stream",
     "text": [
      " 83%|████████▎ | 250/300 [01:27<00:16,  3.00it/s]"
     ]
    },
    {
     "name": "stdout",
     "output_type": "stream",
     "text": [
      "iteration 249: loss training = 0.039190867294867836, best validation = 0.04124559182673693\n"
     ]
    },
    {
     "name": "stderr",
     "output_type": "stream",
     "text": [
      " 84%|████████▎ | 251/300 [01:27<00:16,  3.03it/s]"
     ]
    },
    {
     "name": "stdout",
     "output_type": "stream",
     "text": [
      "iteration 250: loss training = 0.03917481679291952, best validation = 0.04124559182673693\n"
     ]
    },
    {
     "name": "stderr",
     "output_type": "stream",
     "text": [
      " 84%|████████▍ | 252/300 [01:27<00:15,  3.07it/s]"
     ]
    },
    {
     "name": "stdout",
     "output_type": "stream",
     "text": [
      "iteration 251: loss training = 0.03921987364689509, best validation = 0.04124559182673693\n"
     ]
    },
    {
     "name": "stderr",
     "output_type": "stream",
     "text": [
      " 84%|████████▍ | 253/300 [01:27<00:15,  3.04it/s]"
     ]
    },
    {
     "name": "stdout",
     "output_type": "stream",
     "text": [
      "iteration 252: loss training = 0.039162853466612954, best validation = 0.04124559182673693\n"
     ]
    },
    {
     "name": "stderr",
     "output_type": "stream",
     "text": [
      " 85%|████████▍ | 254/300 [01:28<00:15,  3.04it/s]"
     ]
    },
    {
     "name": "stdout",
     "output_type": "stream",
     "text": [
      "iteration 253: loss training = 0.03919482639148122, best validation = 0.04124559182673693\n"
     ]
    },
    {
     "name": "stderr",
     "output_type": "stream",
     "text": [
      " 85%|████████▌ | 255/300 [01:28<00:14,  3.08it/s]"
     ]
    },
    {
     "name": "stdout",
     "output_type": "stream",
     "text": [
      "iteration 254: loss training = 0.039198940353734155, best validation = 0.04124559182673693\n"
     ]
    },
    {
     "name": "stderr",
     "output_type": "stream",
     "text": [
      " 85%|████████▌ | 256/300 [01:28<00:14,  3.07it/s]"
     ]
    },
    {
     "name": "stdout",
     "output_type": "stream",
     "text": [
      "iteration 255: loss training = 0.03927003385292159, best validation = 0.04124559182673693\n"
     ]
    },
    {
     "name": "stderr",
     "output_type": "stream",
     "text": [
      " 86%|████████▌ | 257/300 [01:29<00:14,  3.07it/s]"
     ]
    },
    {
     "name": "stdout",
     "output_type": "stream",
     "text": [
      "iteration 256: loss training = 0.039224752535422645, best validation = 0.04124559182673693\n"
     ]
    },
    {
     "name": "stderr",
     "output_type": "stream",
     "text": [
      " 86%|████████▌ | 258/300 [01:29<00:14,  2.94it/s]"
     ]
    },
    {
     "name": "stdout",
     "output_type": "stream",
     "text": [
      "iteration 257: loss training = 0.03924339282370749, best validation = 0.04124559182673693\n"
     ]
    },
    {
     "name": "stderr",
     "output_type": "stream",
     "text": [
      " 86%|████████▋ | 259/300 [01:30<00:14,  2.82it/s]"
     ]
    },
    {
     "name": "stdout",
     "output_type": "stream",
     "text": [
      "iteration 258: loss training = 0.03920591971467412, best validation = 0.04124559182673693\n"
     ]
    },
    {
     "name": "stderr",
     "output_type": "stream",
     "text": [
      " 87%|████████▋ | 260/300 [01:30<00:13,  2.92it/s]"
     ]
    },
    {
     "name": "stdout",
     "output_type": "stream",
     "text": [
      "iteration 259: loss training = 0.039282927910486855, best validation = 0.04124559182673693\n"
     ]
    },
    {
     "name": "stderr",
     "output_type": "stream",
     "text": [
      " 87%|████████▋ | 261/300 [01:30<00:13,  2.99it/s]"
     ]
    },
    {
     "name": "stdout",
     "output_type": "stream",
     "text": [
      "iteration 260: loss training = 0.03917170794946807, best validation = 0.04124559182673693\n"
     ]
    },
    {
     "name": "stderr",
     "output_type": "stream",
     "text": [
      " 87%|████████▋ | 262/300 [01:30<00:12,  3.05it/s]"
     ]
    },
    {
     "name": "stdout",
     "output_type": "stream",
     "text": [
      "iteration 261: loss training = 0.039267111865300984, best validation = 0.04124559182673693\n"
     ]
    },
    {
     "name": "stderr",
     "output_type": "stream",
     "text": [
      " 88%|████████▊ | 263/300 [01:31<00:12,  3.07it/s]"
     ]
    },
    {
     "name": "stdout",
     "output_type": "stream",
     "text": [
      "iteration 262: loss training = 0.03922726231671515, best validation = 0.04124559182673693\n"
     ]
    },
    {
     "name": "stderr",
     "output_type": "stream",
     "text": [
      " 88%|████████▊ | 264/300 [01:31<00:11,  3.13it/s]"
     ]
    },
    {
     "name": "stdout",
     "output_type": "stream",
     "text": [
      "iteration 263: loss training = 0.03916207736446744, best validation = 0.04124559182673693\n"
     ]
    },
    {
     "name": "stderr",
     "output_type": "stream",
     "text": [
      " 88%|████████▊ | 265/300 [01:31<00:11,  3.15it/s]"
     ]
    },
    {
     "name": "stdout",
     "output_type": "stream",
     "text": [
      "iteration 264: loss training = 0.0392086146369813, best validation = 0.04124559182673693\n"
     ]
    },
    {
     "name": "stderr",
     "output_type": "stream",
     "text": [
      " 89%|████████▊ | 266/300 [01:32<00:10,  3.18it/s]"
     ]
    },
    {
     "name": "stdout",
     "output_type": "stream",
     "text": [
      "iteration 265: loss training = 0.039185561180587795, best validation = 0.04124559182673693\n"
     ]
    },
    {
     "name": "stderr",
     "output_type": "stream",
     "text": [
      " 89%|████████▉ | 267/300 [01:32<00:10,  3.20it/s]"
     ]
    },
    {
     "name": "stdout",
     "output_type": "stream",
     "text": [
      "iteration 266: loss training = 0.03913619919192223, best validation = 0.04124559182673693\n"
     ]
    },
    {
     "name": "stderr",
     "output_type": "stream",
     "text": [
      " 89%|████████▉ | 268/300 [01:32<00:10,  3.12it/s]"
     ]
    },
    {
     "name": "stdout",
     "output_type": "stream",
     "text": [
      "iteration 267: loss training = 0.03919894945999933, best validation = 0.04124559182673693\n"
     ]
    },
    {
     "name": "stderr",
     "output_type": "stream",
     "text": [
      " 90%|████████▉ | 269/300 [01:33<00:09,  3.12it/s]"
     ]
    },
    {
     "name": "stdout",
     "output_type": "stream",
     "text": [
      "iteration 268: loss training = 0.03931287954014445, best validation = 0.04124559182673693\n"
     ]
    },
    {
     "name": "stderr",
     "output_type": "stream",
     "text": [
      " 90%|█████████ | 270/300 [01:33<00:09,  3.12it/s]"
     ]
    },
    {
     "name": "stdout",
     "output_type": "stream",
     "text": [
      "iteration 269: loss training = 0.03926993841453204, best validation = 0.04124559182673693\n"
     ]
    },
    {
     "name": "stderr",
     "output_type": "stream",
     "text": [
      " 90%|█████████ | 271/300 [01:33<00:09,  3.12it/s]"
     ]
    },
    {
     "name": "stdout",
     "output_type": "stream",
     "text": [
      "iteration 270: loss training = 0.03914665401218429, best validation = 0.04124559182673693\n"
     ]
    },
    {
     "name": "stderr",
     "output_type": "stream",
     "text": [
      " 91%|█████████ | 272/300 [01:34<00:08,  3.13it/s]"
     ]
    },
    {
     "name": "stdout",
     "output_type": "stream",
     "text": [
      "iteration 271: loss training = 0.03919271509798746, best validation = 0.04124559182673693\n"
     ]
    },
    {
     "name": "stderr",
     "output_type": "stream",
     "text": [
      " 91%|█████████ | 273/300 [01:34<00:09,  2.96it/s]"
     ]
    },
    {
     "name": "stdout",
     "output_type": "stream",
     "text": [
      "iteration 272: loss training = 0.039256242177789176, best validation = 0.04124559182673693\n"
     ]
    },
    {
     "name": "stderr",
     "output_type": "stream",
     "text": [
      " 91%|█████████▏| 274/300 [01:34<00:08,  3.01it/s]"
     ]
    },
    {
     "name": "stdout",
     "output_type": "stream",
     "text": [
      "iteration 273: loss training = 0.0391702496461452, best validation = 0.04124559182673693\n"
     ]
    },
    {
     "name": "stderr",
     "output_type": "stream",
     "text": [
      " 92%|█████████▏| 275/300 [01:35<00:08,  3.07it/s]"
     ]
    },
    {
     "name": "stdout",
     "output_type": "stream",
     "text": [
      "iteration 274: loss training = 0.03927480009576631, best validation = 0.04124559182673693\n"
     ]
    },
    {
     "name": "stderr",
     "output_type": "stream",
     "text": [
      " 92%|█████████▏| 276/300 [01:35<00:07,  3.10it/s]"
     ]
    },
    {
     "name": "stdout",
     "output_type": "stream",
     "text": [
      "iteration 275: loss training = 0.039223887262836335, best validation = 0.04124559182673693\n"
     ]
    },
    {
     "name": "stderr",
     "output_type": "stream",
     "text": [
      " 92%|█████████▏| 277/300 [01:35<00:07,  3.12it/s]"
     ]
    },
    {
     "name": "stdout",
     "output_type": "stream",
     "text": [
      "iteration 276: loss training = 0.039223793716657726, best validation = 0.04124559182673693\n"
     ]
    },
    {
     "name": "stderr",
     "output_type": "stream",
     "text": [
      " 93%|█████████▎| 278/300 [01:36<00:07,  3.08it/s]"
     ]
    },
    {
     "name": "stdout",
     "output_type": "stream",
     "text": [
      "iteration 277: loss training = 0.03921360445637551, best validation = 0.04124559182673693\n"
     ]
    },
    {
     "name": "stderr",
     "output_type": "stream",
     "text": [
      " 93%|█████████▎| 279/300 [01:36<00:06,  3.08it/s]"
     ]
    },
    {
     "name": "stdout",
     "output_type": "stream",
     "text": [
      "iteration 278: loss training = 0.03932601840250076, best validation = 0.04124559182673693\n"
     ]
    },
    {
     "name": "stderr",
     "output_type": "stream",
     "text": [
      " 93%|█████████▎| 280/300 [01:36<00:06,  3.11it/s]"
     ]
    },
    {
     "name": "stdout",
     "output_type": "stream",
     "text": [
      "iteration 279: loss training = 0.0392256464276995, best validation = 0.04124559182673693\n"
     ]
    },
    {
     "name": "stderr",
     "output_type": "stream",
     "text": [
      " 94%|█████████▎| 281/300 [01:37<00:06,  3.12it/s]"
     ]
    },
    {
     "name": "stdout",
     "output_type": "stream",
     "text": [
      "iteration 280: loss training = 0.039220158424642354, best validation = 0.04124559182673693\n"
     ]
    },
    {
     "name": "stderr",
     "output_type": "stream",
     "text": [
      " 94%|█████████▍| 282/300 [01:37<00:05,  3.13it/s]"
     ]
    },
    {
     "name": "stdout",
     "output_type": "stream",
     "text": [
      "iteration 281: loss training = 0.03926221772082268, best validation = 0.04124559182673693\n"
     ]
    },
    {
     "name": "stderr",
     "output_type": "stream",
     "text": [
      " 94%|█████████▍| 283/300 [01:37<00:05,  3.13it/s]"
     ]
    },
    {
     "name": "stdout",
     "output_type": "stream",
     "text": [
      "iteration 282: loss training = 0.03917989525057021, best validation = 0.04124559182673693\n"
     ]
    },
    {
     "name": "stderr",
     "output_type": "stream",
     "text": [
      " 95%|█████████▍| 284/300 [01:38<00:05,  3.14it/s]"
     ]
    },
    {
     "name": "stdout",
     "output_type": "stream",
     "text": [
      "iteration 283: loss training = 0.03920561707918606, best validation = 0.04124559182673693\n"
     ]
    },
    {
     "name": "stderr",
     "output_type": "stream",
     "text": [
      " 95%|█████████▌| 285/300 [01:38<00:04,  3.14it/s]"
     ]
    },
    {
     "name": "stdout",
     "output_type": "stream",
     "text": [
      "iteration 284: loss training = 0.03924206815778263, best validation = 0.04124559182673693\n"
     ]
    },
    {
     "name": "stderr",
     "output_type": "stream",
     "text": [
      " 95%|█████████▌| 286/300 [01:38<00:04,  3.15it/s]"
     ]
    },
    {
     "name": "stdout",
     "output_type": "stream",
     "text": [
      "iteration 285: loss training = 0.03919803292032272, best validation = 0.04124559182673693\n"
     ]
    },
    {
     "name": "stderr",
     "output_type": "stream",
     "text": [
      " 96%|█████████▌| 287/300 [01:39<00:04,  3.14it/s]"
     ]
    },
    {
     "name": "stdout",
     "output_type": "stream",
     "text": [
      "iteration 286: loss training = 0.03919876224937893, best validation = 0.04124559182673693\n"
     ]
    },
    {
     "name": "stderr",
     "output_type": "stream",
     "text": [
      " 96%|█████████▌| 288/300 [01:39<00:04,  2.84it/s]"
     ]
    },
    {
     "name": "stdout",
     "output_type": "stream",
     "text": [
      "iteration 287: loss training = 0.0392161872060526, best validation = 0.04124559182673693\n"
     ]
    },
    {
     "name": "stderr",
     "output_type": "stream",
     "text": [
      " 96%|█████████▋| 289/300 [01:39<00:03,  2.92it/s]"
     ]
    },
    {
     "name": "stdout",
     "output_type": "stream",
     "text": [
      "iteration 288: loss training = 0.03920833541760369, best validation = 0.04124559182673693\n"
     ]
    },
    {
     "name": "stderr",
     "output_type": "stream",
     "text": [
      " 97%|█████████▋| 290/300 [01:40<00:03,  2.99it/s]"
     ]
    },
    {
     "name": "stdout",
     "output_type": "stream",
     "text": [
      "iteration 289: loss training = 0.039330864295599954, best validation = 0.04124559182673693\n"
     ]
    },
    {
     "name": "stderr",
     "output_type": "stream",
     "text": [
      " 97%|█████████▋| 291/300 [01:40<00:02,  3.03it/s]"
     ]
    },
    {
     "name": "stdout",
     "output_type": "stream",
     "text": [
      "iteration 290: loss training = 0.03917136114268076, best validation = 0.04124559182673693\n"
     ]
    },
    {
     "name": "stderr",
     "output_type": "stream",
     "text": [
      " 97%|█████████▋| 292/300 [01:40<00:02,  3.06it/s]"
     ]
    },
    {
     "name": "stdout",
     "output_type": "stream",
     "text": [
      "iteration 291: loss training = 0.039184614365536066, best validation = 0.04124559182673693\n"
     ]
    },
    {
     "name": "stderr",
     "output_type": "stream",
     "text": [
      " 98%|█████████▊| 293/300 [01:41<00:02,  3.08it/s]"
     ]
    },
    {
     "name": "stdout",
     "output_type": "stream",
     "text": [
      "iteration 292: loss training = 0.03920172119424457, best validation = 0.04124559182673693\n"
     ]
    },
    {
     "name": "stderr",
     "output_type": "stream",
     "text": [
      " 98%|█████████▊| 294/300 [01:41<00:01,  3.10it/s]"
     ]
    },
    {
     "name": "stdout",
     "output_type": "stream",
     "text": [
      "iteration 293: loss training = 0.0391738884860561, best validation = 0.04124559182673693\n"
     ]
    },
    {
     "name": "stderr",
     "output_type": "stream",
     "text": [
      " 98%|█████████▊| 295/300 [01:41<00:01,  3.11it/s]"
     ]
    },
    {
     "name": "stdout",
     "output_type": "stream",
     "text": [
      "iteration 294: loss training = 0.03918042524702965, best validation = 0.04124559182673693\n"
     ]
    },
    {
     "name": "stderr",
     "output_type": "stream",
     "text": [
      " 99%|█████████▊| 296/300 [01:41<00:01,  3.11it/s]"
     ]
    },
    {
     "name": "stdout",
     "output_type": "stream",
     "text": [
      "iteration 295: loss training = 0.03925773838446254, best validation = 0.04124559182673693\n"
     ]
    },
    {
     "name": "stderr",
     "output_type": "stream",
     "text": [
      " 99%|█████████▉| 297/300 [01:42<00:00,  3.11it/s]"
     ]
    },
    {
     "name": "stdout",
     "output_type": "stream",
     "text": [
      "iteration 296: loss training = 0.0391715390696412, best validation = 0.04124559182673693\n"
     ]
    },
    {
     "name": "stderr",
     "output_type": "stream",
     "text": [
      " 99%|█████████▉| 298/300 [01:42<00:00,  3.06it/s]"
     ]
    },
    {
     "name": "stdout",
     "output_type": "stream",
     "text": [
      "iteration 297: loss training = 0.03917280152913124, best validation = 0.04124559182673693\n"
     ]
    },
    {
     "name": "stderr",
     "output_type": "stream",
     "text": [
      "100%|█████████▉| 299/300 [01:42<00:00,  3.09it/s]"
     ]
    },
    {
     "name": "stdout",
     "output_type": "stream",
     "text": [
      "iteration 298: loss training = 0.0391513846578106, best validation = 0.04124559182673693\n"
     ]
    },
    {
     "name": "stderr",
     "output_type": "stream",
     "text": [
      "100%|██████████| 300/300 [01:43<00:00,  2.90it/s]"
     ]
    },
    {
     "name": "stdout",
     "output_type": "stream",
     "text": [
      "iteration 299: loss training = 0.039230111454214366, best validation = 0.04124559182673693\n"
     ]
    },
    {
     "name": "stderr",
     "output_type": "stream",
     "text": [
      "\n"
     ]
    },
    {
     "data": {
      "text/plain": [
       "([0.45310718861837235,\n",
       "  0.3492316163721539,\n",
       "  0.2568059712648392,\n",
       "  0.19071943726804522,\n",
       "  0.18424830384670743,\n",
       "  0.13810226817925772,\n",
       "  0.13139037042856216,\n",
       "  0.11715503569160189,\n",
       "  0.10919252026175695,\n",
       "  0.1627964008422125,\n",
       "  0.12181756645441055,\n",
       "  0.11042817421848812,\n",
       "  0.09854160036359515,\n",
       "  0.09409869284856887,\n",
       "  0.09520428911561057,\n",
       "  0.08743698871324933,\n",
       "  0.08729735300654456,\n",
       "  0.08290312037108437,\n",
       "  0.0930541842466309,\n",
       "  0.08176170348648042,\n",
       "  0.07775551553756471,\n",
       "  0.06855427763528293,\n",
       "  0.06552734143204159,\n",
       "  0.06280878375446985,\n",
       "  0.06857116662320636,\n",
       "  0.0624050201168136,\n",
       "  0.0683220134722808,\n",
       "  0.06645862279193741,\n",
       "  0.06750479849084975,\n",
       "  0.0633451962873103,\n",
       "  0.05538201237481738,\n",
       "  0.05555305671360758,\n",
       "  0.05688081362417766,\n",
       "  0.054707711059895775,\n",
       "  0.05011029275400298,\n",
       "  0.0495722723149118,\n",
       "  0.050503092980574045,\n",
       "  0.0498082609995017,\n",
       "  0.05010616424537841,\n",
       "  0.04940142305124374,\n",
       "  0.048007122167046105,\n",
       "  0.049539184700402,\n",
       "  0.04946608971508722,\n",
       "  0.04693032576451226,\n",
       "  0.046423967986825916,\n",
       "  0.04674502337972323,\n",
       "  0.06150566242516987,\n",
       "  0.06302658149174281,\n",
       "  0.055343975209527545,\n",
       "  0.05288878473497573,\n",
       "  0.05203300560750659,\n",
       "  0.05055701088101145,\n",
       "  0.05032182821915263,\n",
       "  0.049428468244889424,\n",
       "  0.048570085789949174,\n",
       "  0.047920329821488215,\n",
       "  0.04783625232558402,\n",
       "  0.0488224442870844,\n",
       "  0.04750137273517866,\n",
       "  0.048529599630643454,\n",
       "  0.04530735461721345,\n",
       "  0.04440456480970458,\n",
       "  0.044289299774737584,\n",
       "  0.044081374825466244,\n",
       "  0.043538596067163676,\n",
       "  0.04396988327304522,\n",
       "  0.04378368989342735,\n",
       "  0.04315451615386539,\n",
       "  0.04291454412870937,\n",
       "  0.042799576584781916,\n",
       "  0.042771075098287495,\n",
       "  0.043133304232642763,\n",
       "  0.04269156149692006,\n",
       "  0.04251631467588364,\n",
       "  0.042045494748486414,\n",
       "  0.04200809342520578,\n",
       "  0.041671547861326305,\n",
       "  0.04160746062795321,\n",
       "  0.041325597476864616,\n",
       "  0.04134516027711686,\n",
       "  0.041669276735139274,\n",
       "  0.041545659599323125,\n",
       "  0.04151030144994221,\n",
       "  0.041447127681402934,\n",
       "  0.04181797335308696,\n",
       "  0.04183410220439472,\n",
       "  0.04163742857793021,\n",
       "  0.041688717369522364,\n",
       "  0.0409339496658908,\n",
       "  0.04132198838014451,\n",
       "  0.04083805211952755,\n",
       "  0.040606077346536845,\n",
       "  0.04060233520373466,\n",
       "  0.04046747171216541,\n",
       "  0.04037183771530787,\n",
       "  0.04036629749905495,\n",
       "  0.0403015073093157,\n",
       "  0.04037984318676449,\n",
       "  0.0405098113512236,\n",
       "  0.040282059993062704,\n",
       "  0.040284772181794756,\n",
       "  0.040292304541383474,\n",
       "  0.04019836318634805,\n",
       "  0.040243611567550235,\n",
       "  0.04011736733336297,\n",
       "  0.040180779638744536,\n",
       "  0.04011939158515325,\n",
       "  0.040100897351900734,\n",
       "  0.039979107677936554,\n",
       "  0.039999602569474116,\n",
       "  0.03993688482377264,\n",
       "  0.03988814046458593,\n",
       "  0.039727596891304805,\n",
       "  0.03974771458241674,\n",
       "  0.03978209842055563,\n",
       "  0.03967649075720045,\n",
       "  0.039794236007663936,\n",
       "  0.04008595734125092,\n",
       "  0.03988553033698173,\n",
       "  0.039755606876006204,\n",
       "  0.03956890537861794,\n",
       "  0.039539292809509095,\n",
       "  0.03958298425589289,\n",
       "  0.03958097709313271,\n",
       "  0.03951221527088256,\n",
       "  0.03956654596896399,\n",
       "  0.039554117690949214,\n",
       "  0.039514513952391486,\n",
       "  0.03957872311510737,\n",
       "  0.03951866321620487,\n",
       "  0.03947047995669501,\n",
       "  0.039449466362832086,\n",
       "  0.039477049299175775,\n",
       "  0.039436272567226774,\n",
       "  0.039381048686447595,\n",
       "  0.039438782466782465,\n",
       "  0.03942664210048933,\n",
       "  0.0393335468594044,\n",
       "  0.03935181869873925,\n",
       "  0.03939236972540144,\n",
       "  0.039365059977012964,\n",
       "  0.03939818750534739,\n",
       "  0.0393876578836214,\n",
       "  0.03932725454843233,\n",
       "  0.03936634070816494,\n",
       "  0.03933564987447527,\n",
       "  0.03932448985084655,\n",
       "  0.039347338475405225,\n",
       "  0.03934494985474481,\n",
       "  0.039270484553916116,\n",
       "  0.03931171920091387,\n",
       "  0.03930953854606265,\n",
       "  0.039261640182563236,\n",
       "  0.03927472352035462,\n",
       "  0.03923661829460235,\n",
       "  0.039258693182279196,\n",
       "  0.03920398605248285,\n",
       "  0.03925641720730161,\n",
       "  0.039238984622652566,\n",
       "  0.03928144477189533,\n",
       "  0.039236797345063044,\n",
       "  0.039342813785113985,\n",
       "  0.03926535630746493,\n",
       "  0.03923650570805111,\n",
       "  0.03920538073021268,\n",
       "  0.039279270207598097,\n",
       "  0.03932213925179981,\n",
       "  0.03923967498398963,\n",
       "  0.0392200406936426,\n",
       "  0.03930287589392965,\n",
       "  0.03927801626305732,\n",
       "  0.039288069757204204,\n",
       "  0.03924841108539748,\n",
       "  0.03921266976330015,\n",
       "  0.03924112317581025,\n",
       "  0.039206681388711175,\n",
       "  0.039315912636026504,\n",
       "  0.03925454870812477,\n",
       "  0.03923570831853246,\n",
       "  0.03920513426973706,\n",
       "  0.03923932746762321,\n",
       "  0.03920865265859498,\n",
       "  0.039239770954563505,\n",
       "  0.03919411024877003,\n",
       "  0.039269879164676814,\n",
       "  0.03919450944614789,\n",
       "  0.03920512634610373,\n",
       "  0.03922813894256713,\n",
       "  0.03921242460371956,\n",
       "  0.039213368639586466,\n",
       "  0.03921237919065687,\n",
       "  0.03918782775364225,\n",
       "  0.039187511517888025,\n",
       "  0.0392550907082974,\n",
       "  0.0391998209414028,\n",
       "  0.03918438268795846,\n",
       "  0.039165497358356206,\n",
       "  0.03923569176168669,\n",
       "  0.03919831338146376,\n",
       "  0.03922829806568131,\n",
       "  0.03920633452279227,\n",
       "  0.039217476925206565,\n",
       "  0.03922722252115371,\n",
       "  0.03919738117191526,\n",
       "  0.03922613651033432,\n",
       "  0.03921643833792399,\n",
       "  0.03923313644906831,\n",
       "  0.03923187191997256,\n",
       "  0.03920384910371569,\n",
       "  0.03924461353629354,\n",
       "  0.03924631711746019,\n",
       "  0.03919853086745928,\n",
       "  0.03921410423659143,\n",
       "  0.03921032105646436,\n",
       "  0.039249833436712386,\n",
       "  0.03921133380324122,\n",
       "  0.039218912699392865,\n",
       "  0.03919427812335983,\n",
       "  0.03921574194516454,\n",
       "  0.039240937384348064,\n",
       "  0.03918775283391514,\n",
       "  0.039259723254612515,\n",
       "  0.03920666648754998,\n",
       "  0.039232762382617074,\n",
       "  0.03923886174720431,\n",
       "  0.03928894502302957,\n",
       "  0.039179882714672695,\n",
       "  0.039102888414784084,\n",
       "  0.039212660716166574,\n",
       "  0.03919686832361751,\n",
       "  0.039167418011597226,\n",
       "  0.03917761288938068,\n",
       "  0.039164339975705224,\n",
       "  0.039256649062273996,\n",
       "  0.039186495696268385,\n",
       "  0.039223755635912454,\n",
       "  0.03919909054797793,\n",
       "  0.039211827906824294,\n",
       "  0.03918966503133849,\n",
       "  0.039230666699863616,\n",
       "  0.03927736427812349,\n",
       "  0.03923355155284443,\n",
       "  0.03925232323152678,\n",
       "  0.039179909205625925,\n",
       "  0.0391976825065083,\n",
       "  0.039223676222184346,\n",
       "  0.039225871659933575,\n",
       "  0.03922350958935798,\n",
       "  0.03927674587993395,\n",
       "  0.039190867294867836,\n",
       "  0.03917481679291952,\n",
       "  0.03921987364689509,\n",
       "  0.039162853466612954,\n",
       "  0.03919482639148122,\n",
       "  0.039198940353734155,\n",
       "  0.03927003385292159,\n",
       "  0.039224752535422645,\n",
       "  0.03924339282370749,\n",
       "  0.03920591971467412,\n",
       "  0.039282927910486855,\n",
       "  0.03917170794946807,\n",
       "  0.039267111865300984,\n",
       "  0.03922726231671515,\n",
       "  0.03916207736446744,\n",
       "  0.0392086146369813,\n",
       "  0.039185561180587795,\n",
       "  0.03913619919192223,\n",
       "  0.03919894945999933,\n",
       "  0.03931287954014445,\n",
       "  0.03926993841453204,\n",
       "  0.03914665401218429,\n",
       "  0.03919271509798746,\n",
       "  0.039256242177789176,\n",
       "  0.0391702496461452,\n",
       "  0.03927480009576631,\n",
       "  0.039223887262836335,\n",
       "  0.039223793716657726,\n",
       "  0.03921360445637551,\n",
       "  0.03932601840250076,\n",
       "  0.0392256464276995,\n",
       "  0.039220158424642354,\n",
       "  0.03926221772082268,\n",
       "  0.03917989525057021,\n",
       "  0.03920561707918606,\n",
       "  0.03924206815778263,\n",
       "  0.03919803292032272,\n",
       "  0.03919876224937893,\n",
       "  0.0392161872060526,\n",
       "  0.03920833541760369,\n",
       "  0.039330864295599954,\n",
       "  0.03917136114268076,\n",
       "  0.039184614365536066,\n",
       "  0.03920172119424457,\n",
       "  0.0391738884860561,\n",
       "  0.03918042524702965,\n",
       "  0.03925773838446254,\n",
       "  0.0391715390696412,\n",
       "  0.03917280152913124,\n",
       "  0.0391513846578106,\n",
       "  0.039230111454214366],\n",
       " [0.4009884037077427,\n",
       "  0.30181387066841125,\n",
       "  0.21427038498222828,\n",
       "  0.23762071691453457,\n",
       "  0.15069457981735468,\n",
       "  0.13316994486376643,\n",
       "  0.11889935517683625,\n",
       "  0.11490310728549957,\n",
       "  0.10581474006175995,\n",
       "  0.1267551346682012,\n",
       "  0.12129468936473131,\n",
       "  0.09799460601061583,\n",
       "  0.09814948681741953,\n",
       "  0.09025149326771498,\n",
       "  0.08968074945732951,\n",
       "  0.08890706626698375,\n",
       "  0.07945346646010876,\n",
       "  0.0876865885220468,\n",
       "  0.08794538211077452,\n",
       "  0.08169810380786657,\n",
       "  0.0740351346321404,\n",
       "  0.06762866862118244,\n",
       "  0.06560635636560619,\n",
       "  0.06483371974900365,\n",
       "  0.06695028208196163,\n",
       "  0.06439482583664358,\n",
       "  0.07223373465240002,\n",
       "  0.059351910604164004,\n",
       "  0.0665703690610826,\n",
       "  0.06337274331599474,\n",
       "  0.06126255285926163,\n",
       "  0.05251338938251138,\n",
       "  0.06386098894290626,\n",
       "  0.053457760252058506,\n",
       "  0.051061192294582725,\n",
       "  0.05384051939472556,\n",
       "  0.05076204310171306,\n",
       "  0.05447809933684766,\n",
       "  0.05082779214717448,\n",
       "  0.051149961771443486,\n",
       "  0.05008418415673077,\n",
       "  0.05021957983262837,\n",
       "  0.04861932992935181,\n",
       "  0.04873390938155353,\n",
       "  0.049200814217329025,\n",
       "  0.048752852249890566,\n",
       "  0.07277952646836638,\n",
       "  0.05875550024211407,\n",
       "  0.05386546044610441,\n",
       "  0.0534549409057945,\n",
       "  0.0531163087580353,\n",
       "  0.05004499480128288,\n",
       "  0.05203604442067444,\n",
       "  0.049040770158171654,\n",
       "  0.04953057621605694,\n",
       "  0.05066126096062362,\n",
       "  0.051445505348965526,\n",
       "  0.051396721275523305,\n",
       "  0.0519833208527416,\n",
       "  0.04815061669796705,\n",
       "  0.04643499152734876,\n",
       "  0.04606151417829096,\n",
       "  0.04504501074552536,\n",
       "  0.04515040968544781,\n",
       "  0.04518039268441498,\n",
       "  0.04511079075746238,\n",
       "  0.044911862816661596,\n",
       "  0.044483757112175226,\n",
       "  0.04417429701425135,\n",
       "  0.044613178819417953,\n",
       "  0.04418103746138513,\n",
       "  0.04380051465705037,\n",
       "  0.04384788474999368,\n",
       "  0.04388841171748936,\n",
       "  0.044048791052773595,\n",
       "  0.04335732385516167,\n",
       "  0.04327787505462766,\n",
       "  0.04299343074671924,\n",
       "  0.043005373096093535,\n",
       "  0.04363121697679162,\n",
       "  0.04288313654251397,\n",
       "  0.04310835641808808,\n",
       "  0.04254890629090369,\n",
       "  0.043769413605332375,\n",
       "  0.04269834258593619,\n",
       "  0.042925455840304494,\n",
       "  0.042760981945320964,\n",
       "  0.04243115382269025,\n",
       "  0.04247649875469506,\n",
       "  0.04284297302365303,\n",
       "  0.042540543247014284,\n",
       "  0.042546067386865616,\n",
       "  0.04234794760122895,\n",
       "  0.042173103196546435,\n",
       "  0.04210987756960094,\n",
       "  0.04227438475936651,\n",
       "  0.04203046322800219,\n",
       "  0.0420543197542429,\n",
       "  0.042243462055921555,\n",
       "  0.042289585806429386,\n",
       "  0.042293366277590394,\n",
       "  0.042165197199210525,\n",
       "  0.042181531665846705,\n",
       "  0.04201632342301309,\n",
       "  0.041966549353674054,\n",
       "  0.04197613266296685,\n",
       "  0.04229564289562404,\n",
       "  0.04210544587112963,\n",
       "  0.04207055759616196,\n",
       "  0.04201057064346969,\n",
       "  0.04200393659994006,\n",
       "  0.04199734842404723,\n",
       "  0.04227128182537854,\n",
       "  0.04192758910357952,\n",
       "  0.04201816790737212,\n",
       "  0.04190519289113581,\n",
       "  0.04174210806377232,\n",
       "  0.04156724503263831,\n",
       "  0.04148692102171481,\n",
       "  0.04153588507324457,\n",
       "  0.04146841843612492,\n",
       "  0.04146962217055261,\n",
       "  0.041490352945402265,\n",
       "  0.0416522822342813,\n",
       "  0.04154484951868653,\n",
       "  0.04149439954198897,\n",
       "  0.04148474708199501,\n",
       "  0.041496182326227427,\n",
       "  0.04142665467225015,\n",
       "  0.0414204616099596,\n",
       "  0.04142000060528517,\n",
       "  0.04143961449153721,\n",
       "  0.04138621501624584,\n",
       "  0.04138847975991666,\n",
       "  0.04136276012286544,\n",
       "  0.04135894449427724,\n",
       "  0.04135367716662586,\n",
       "  0.04133289703167975,\n",
       "  0.04132478474639356,\n",
       "  0.041320133022964,\n",
       "  0.041354842483997345,\n",
       "  0.041409573052078485,\n",
       "  0.04133085557259619,\n",
       "  0.04135934775695205,\n",
       "  0.04132931912317872,\n",
       "  0.04133848752826452,\n",
       "  0.041329746367409825,\n",
       "  0.04131822707131505,\n",
       "  0.041315107606351376,\n",
       "  0.04130737273953855,\n",
       "  0.04128273553214967,\n",
       "  0.04127861256711185,\n",
       "  0.04127263929694891,\n",
       "  0.04127930453978479,\n",
       "  0.04127171006985009,\n",
       "  0.04129094257950783,\n",
       "  0.04132677731104195,\n",
       "  0.04131625615991652,\n",
       "  0.04132426925934851,\n",
       "  0.04131971439346671,\n",
       "  0.04130638623610139,\n",
       "  0.04131356463767588,\n",
       "  0.04131855396553874,\n",
       "  0.04132165131159127,\n",
       "  0.04132227064110339,\n",
       "  0.04130925238132477,\n",
       "  0.04130512219853699,\n",
       "  0.04132150090299547,\n",
       "  0.04130814387463033,\n",
       "  0.04128496604971588,\n",
       "  0.04126132815144956,\n",
       "  0.04126047855243087,\n",
       "  0.041253980016335845,\n",
       "  0.04124855366535485,\n",
       "  0.04124559182673693,\n",
       "  0.04124608007259667,\n",
       "  0.04126265528611839,\n",
       "  0.04125797236338258,\n",
       "  0.041279357159510255,\n",
       "  0.041282645193859935,\n",
       "  0.04128164635039866,\n",
       "  0.04127399087883532,\n",
       "  0.04127360577695072,\n",
       "  0.041269859997555614,\n",
       "  0.04127027024514973,\n",
       "  0.04126791306771338,\n",
       "  0.04127106140367687,\n",
       "  0.04127650964073837,\n",
       "  0.041274510556831956,\n",
       "  0.041272816713899374,\n",
       "  0.04128573136404157,\n",
       "  0.041285095969215035,\n",
       "  0.04127827822230756,\n",
       "  0.041287114610895514,\n",
       "  0.041289269691333175,\n",
       "  0.04128835443407297,\n",
       "  0.04128649248741567,\n",
       "  0.041278732707723975,\n",
       "  0.04127675388008356,\n",
       "  0.04127629310823977,\n",
       "  0.04127609473653138,\n",
       "  0.04127848846837878,\n",
       "  0.041275693802163005,\n",
       "  0.04127846076153219,\n",
       "  0.04127816786058247,\n",
       "  0.04127774806693196,\n",
       "  0.04128146544098854,\n",
       "  0.041267027612775564,\n",
       "  0.04126999853178859,\n",
       "  0.04127033893018961,\n",
       "  0.04126901528798044,\n",
       "  0.041268196888267994,\n",
       "  0.041271482361480594,\n",
       "  0.0412715058773756,\n",
       "  0.041272416012361646,\n",
       "  0.041272236965596676,\n",
       "  0.04127189167775214,\n",
       "  0.04127191659063101,\n",
       "  0.041273380629718304,\n",
       "  0.04127284209243953,\n",
       "  0.04127227910794318,\n",
       "  0.04127251426689327,\n",
       "  0.04127275384962559,\n",
       "  0.041273325216025114,\n",
       "  0.041275154799222946,\n",
       "  0.04127522301860154,\n",
       "  0.04127579228952527,\n",
       "  0.04127551522105932,\n",
       "  0.041275124065577984,\n",
       "  0.04127552546560764,\n",
       "  0.04127579345367849,\n",
       "  0.041276241187006235,\n",
       "  0.04127657203935087,\n",
       "  0.04127653664909303,\n",
       "  0.04127657483331859,\n",
       "  0.04127689963206649,\n",
       "  0.04127672896720469,\n",
       "  0.041276936419308186,\n",
       "  0.04127725772559643,\n",
       "  0.04127732175402343,\n",
       "  0.04127732664346695,\n",
       "  0.04127744724974036,\n",
       "  0.04127747588790953,\n",
       "  0.041277491953223944,\n",
       "  0.04127745237201452,\n",
       "  0.04127735225483775,\n",
       "  0.04127732780762017,\n",
       "  0.041277369717136025,\n",
       "  0.04127743002027273,\n",
       "  0.041277504758909345,\n",
       "  0.041277491953223944,\n",
       "  0.04127732361666858,\n",
       "  0.04127739672549069,\n",
       "  0.04127741721458733,\n",
       "  0.041277400916442275,\n",
       "  0.04127725074067712,\n",
       "  0.04127730429172516,\n",
       "  0.041277325712144375,\n",
       "  0.04127737879753113,\n",
       "  0.041277259355410933,\n",
       "  0.04127736249938607,\n",
       "  0.04127715644426644,\n",
       "  0.04127722326666117,\n",
       "  0.04127723956480622,\n",
       "  0.041277213487774134,\n",
       "  0.041277174605056643,\n",
       "  0.04127717833034694,\n",
       "  0.0412771871779114,\n",
       "  0.04127757786773145,\n",
       "  0.04127777251414955,\n",
       "  0.041277780663222075,\n",
       "  0.04127778531983495,\n",
       "  0.04127778857946396,\n",
       "  0.041277778102084994,\n",
       "  0.04127779835835099,\n",
       "  0.0412777925375849,\n",
       "  0.04127780348062515,\n",
       "  0.04127780091948807,\n",
       "  0.0412777999881655,\n",
       "  0.041277731535956264,\n",
       "  0.041277717566117644,\n",
       "  0.04127773852087557,\n",
       "  0.04127773642539978,\n",
       "  0.041277743177488446,\n",
       "  0.04127774923108518,\n",
       "  0.0412777541205287,\n",
       "  0.041277749463915825,\n",
       "  0.04127774899825454,\n",
       "  0.041277772979810834,\n",
       "  0.0412777722813189,\n",
       "  0.04127776715904474,\n",
       "  0.041277774376794696,\n",
       "  0.04127777321264148,\n",
       "  0.041277783922851086,\n",
       "  0.041277791606262326,\n",
       "  0.04127778974361718,\n",
       "  0.041277794633060694,\n",
       "  0.04127780091948807,\n",
       "  0.04127779230475426,\n",
       "  0.0412777925375849])"
      ]
     },
     "execution_count": 5,
     "metadata": {},
     "output_type": "execute_result"
    }
   ],
   "source": [
    "da_music_v2 = DA_MUSIC_v2(m, d, array, dev)\n",
    "train(da_music_v2, nbEpoches, lr, wd, train_loader, valid_loader, path+'da_music_v2_'+str(snr)+'dB_ula.pth', train_func, valid_func)"
   ]
  },
  {
   "cell_type": "code",
   "execution_count": 6,
   "metadata": {},
   "outputs": [],
   "source": [
    "# rnn = RNN(m, d, dev)\n",
    "# train(rnn, nbEpoches, lr, wd, train_loader, valid_loader, path+'rnn_'+str(snr)+'dB_ula.pth', train_func, valid_func)"
   ]
  }
 ],
 "metadata": {
  "kernelspec": {
   "display_name": "base",
   "language": "python",
   "name": "python3"
  },
  "language_info": {
   "codemirror_mode": {
    "name": "ipython",
    "version": 3
   },
   "file_extension": ".py",
   "mimetype": "text/x-python",
   "name": "python",
   "nbconvert_exporter": "python",
   "pygments_lexer": "ipython3",
   "version": "3.11.5"
  }
 },
 "nbformat": 4,
 "nbformat_minor": 2
}
