{
 "cells": [
  {
   "cell_type": "code",
   "execution_count": null,
   "metadata": {},
   "outputs": [],
   "source": [
    "import torch \n",
    "import torch.nn as nn\n",
    "import torch.optim as optim\n",
    "\n",
    "from torch.utils.data import DataLoader\n",
    "from sklearn.model_selection import train_test_split\n",
    "\n",
    "from ArrayModel import *\n",
    "from utils import *\n",
    "from models import *\n",
    "from tqdm import tqdm\n",
    "\n",
    "dev = torch.device(\"cuda\" if torch.cuda.is_available() else \"cpu\")"
   ]
  },
  {
   "cell_type": "code",
   "execution_count": null,
   "metadata": {},
   "outputs": [],
   "source": [
    "m = 8 \n",
    "d = 3\n",
    "t = 200\n",
    "n = 20000\n",
    "snr = 0\n",
    "distance = 0.1\n",
    "lamda = 0.2\n",
    "nbTrain = 20\n",
    "\n",
    "array = NestedArray1D(m, lamda)\n",
    "array.build_sensor_positions(distance, [4, 4])\n",
    "\n",
    "torch.manual_seed(30)\n",
    "del_xy = torch.rand(2, 8) * 0.06 - 0.03\n",
    "array.pertube(del_xy[0], del_xy[1])\n",
    "\n",
    "array_nominal = NestedArray1D(m, lamda)\n",
    "array_nominal.build_sensor_positions(distance, [4, 4])\n",
    "array_nominal.build_array_manifold()\n",
    "\n",
    "array.plot_array()"
   ]
  },
  {
   "cell_type": "code",
   "execution_count": null,
   "metadata": {},
   "outputs": [],
   "source": [
    "torch.manual_seed(torch.seed())\n",
    "observations, angles = generate_data(n, t, d, snr, snr, array, False, False)\n",
    "observations_test, angles_test = generate_data(100000, t, d, snr, snr, array_nominal, False, False)\n",
    "\n",
    "path = 'saved_models/'\n",
    "\n",
    "nbEpoches = 1\n",
    "lr = 1e-2\n",
    "wd = 1e-9\n",
    "\n",
    "train_func = RMSPE(d, device=dev)\n",
    "valid_func = RMSPE(d, device=dev)\n",
    "\n",
    "batchSize = 256\n",
    "\n",
    "x_train, x_valid, theta_train, theta_valid = train_test_split(observations, angles, test_size=0.2)\n",
    "\n",
    "train_set = DATASET(x_train, theta_train)\n",
    "valid_set = DATASET(x_valid, theta_valid)\n",
    "test_set = DATASET(observations_test, angles_test)\n",
    "\n",
    "train_loader = DataLoader(train_set, batch_size=batchSize, shuffle=True)\n",
    "valid_loader = DataLoader(valid_set, batch_size=batchSize, shuffle=False)\n",
    "test_loader = DataLoader(test_set, batch_size=512, shuffle=False)"
   ]
  },
  {
   "cell_type": "code",
   "execution_count": null,
   "metadata": {},
   "outputs": [],
   "source": [
    "MIN = 1000\n",
    "\n",
    "for i in range(nbTrain):\n",
    "    \n",
    "    da_music = DA_MUSIC(m, d, array_nominal, dev)\n",
    "    \n",
    "    train(da_music, nbEpoches, lr, wd, \n",
    "          train_loader, valid_loader, \n",
    "          path+'da_music_'+str(snr)+'dB_nested_'+str(i)+'.pth', \n",
    "          train_func, valid_func)\n",
    "    \n",
    "    testval = test(da_music, test_loader, path+'da_music_'+str(snr)+'dB_nested_'+str(i)+'.pth', valid_func, dev)\n",
    "    \n",
    "    if testval < MIN:\n",
    "        MIN = testval\n",
    "        torch.save(da_music.state_dict(), path+'da_music_'+str(snr)+'dB_nested.pth')"
   ]
  },
  {
   "cell_type": "code",
   "execution_count": null,
   "metadata": {},
   "outputs": [],
   "source": [
    "MIN = 1000\n",
    "\n",
    "for i in range(nbTrain):\n",
    "    \n",
    "    da_music_v2 = DA_MUSIC_v2(m, d, array_nominal, dev)\n",
    "    \n",
    "    train(da_music_v2, nbEpoches, lr, wd, \n",
    "          train_loader, valid_loader, \n",
    "          path+'da_music_v2_'+str(snr)+'dB_nested_'+str(i)+'.pth', \n",
    "          train_func, valid_func)\n",
    "    \n",
    "    testval = test(da_music_v2, test_loader, path+'da_music_v2_'+str(snr)+'dB_nested_'+str(i)+'.pth', valid_func, dev)\n",
    "    \n",
    "    if testval < MIN:\n",
    "        MIN = testval\n",
    "        torch.save(da_music_v2.state_dict(), path+'da_music_v2_'+str(snr)+'dB_nested.pth')"
   ]
  },
  {
   "cell_type": "code",
   "execution_count": null,
   "metadata": {},
   "outputs": [],
   "source": [
    "MIN = 1000\n",
    "\n",
    "for i in range(nbTrain):\n",
    "\n",
    "    rnn = RNN(m, d, dev)\n",
    "\n",
    "    train(rnn, nbEpoches, lr, wd, train_loader, valid_loader, \n",
    "          path+'rnn_'+str(snr)+'dB_nested_'+str(i)+'.pth', \n",
    "          train_func, valid_func)\n",
    "    \n",
    "    testval = test(rnn, test_loader, path+'rnn_'+str(snr)+'dB_nested_'+str(i)+'.pth', valid_func, dev)\n",
    "\n",
    "    if testval < MIN:\n",
    "        MIN = testval\n",
    "        torch.save(rnn.state_dict(), path+'rnn_'+str(snr)+'dB_nested.pth')"
   ]
  }
 ],
 "metadata": {
  "kernelspec": {
   "display_name": "base",
   "language": "python",
   "name": "python3"
  },
  "language_info": {
   "codemirror_mode": {
    "name": "ipython",
    "version": 3
   },
   "file_extension": ".py",
   "mimetype": "text/x-python",
   "name": "python",
   "nbconvert_exporter": "python",
   "pygments_lexer": "ipython3",
   "version": "3.11.5"
  }
 },
 "nbformat": 4,
 "nbformat_minor": 2
}
