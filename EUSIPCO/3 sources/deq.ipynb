{
 "cells": [
  {
   "cell_type": "code",
   "execution_count": 56,
   "metadata": {},
   "outputs": [],
   "source": [
    "import torch \n",
    "import torch.nn as nn\n",
    "import torch.optim as optim\n",
    "import torch.nn.functional as F"
   ]
  },
  {
   "cell_type": "code",
   "execution_count": 57,
   "metadata": {},
   "outputs": [],
   "source": [
    "def anderson(f, x0, m=5, lam=1e-4, max_iter=50, tol=1e-2, beta = 1.0):\n",
    "    \"\"\" Anderson acceleration for fixed point iteration. \"\"\"\n",
    "    bsz, d, H, W = x0.shape\n",
    "    X = torch.zeros(bsz, m, d*H*W, dtype=x0.dtype, device=x0.device)\n",
    "    F = torch.zeros(bsz, m, d*H*W, dtype=x0.dtype, device=x0.device)\n",
    "    X[:,0], F[:,0] = x0.view(bsz, -1), f(x0).view(bsz, -1)\n",
    "    X[:,1], F[:,1] = F[:,0], f(F[:,0].view_as(x0)).view(bsz, -1)\n",
    "    \n",
    "    H = torch.zeros(bsz, m+1, m+1, dtype=x0.dtype, device=x0.device)\n",
    "    H[:,0,1:] = H[:,1:,0] = 1\n",
    "    y = torch.zeros(bsz, m+1, 1, dtype=x0.dtype, device=x0.device)\n",
    "    y[:,0] = 1\n",
    "    \n",
    "    res = []\n",
    "    for k in range(2, max_iter):\n",
    "        n = min(k, m)\n",
    "        G = F[:,:n]-X[:,:n]\n",
    "        H[:,1:n+1,1:n+1] = torch.bmm(G,G.transpose(1,2)) + lam*torch.eye(n, dtype=x0.dtype,device=x0.device)[None]\n",
    "        alpha = torch.solve(y[:,:n+1], H[:,:n+1,:n+1])[0][:, 1:n+1, 0]   # (bsz x n)\n",
    "        \n",
    "        X[:,k%m] = beta * (alpha[:,None] @ F[:,:n])[:,0] + (1-beta)*(alpha[:,None] @ X[:,:n])[:,0]\n",
    "        F[:,k%m] = f(X[:,k%m].view_as(x0)).view(bsz, -1)\n",
    "        res.append((F[:,k%m] - X[:,k%m]).norm().item()/(1e-5 + F[:,k%m].norm().item()))\n",
    "        if (res[-1] < tol):\n",
    "            break\n",
    "    return X[:,k%m].view_as(x0), res"
   ]
  },
  {
   "cell_type": "code",
   "execution_count": null,
   "metadata": {},
   "outputs": [
    {
     "name": "stdout",
     "output_type": "stream",
     "text": [
      "tensor([[0.0875, 0.8979, 0.6464],\n",
      "        [0.3605, 0.1380, 0.1922],\n",
      "        [0.5577, 0.6790, 0.1520],\n",
      "        [0.0623, 0.5941, 1.1745],\n",
      "        [0.9207, 0.0517, 1.5484],\n",
      "        [0.1344, 1.3334, 0.1723],\n",
      "        [1.0812, 0.0499, 0.1720],\n",
      "        [0.9390, 0.0044, 0.9535],\n",
      "        [0.1936, 0.7315, 0.0115],\n",
      "        [0.3910, 0.5170, 0.2243]])\n"
     ]
    }
   ],
   "source": [
    "class TanhNewtonImplicitLayer(nn.Module):\n",
    "    def __init__(self, out_features, device, tol = 1e-4, max_iter=50):\n",
    "        super().__init__()\n",
    "        self.linear = nn.Linear(out_features, out_features, bias=False)\n",
    "        self.tol = tol\n",
    "        self.max_iter = max_iter\n",
    "        self.device = device\n",
    "  \n",
    "    def forward(self, x):\n",
    "        # Run Newton's method outside of the autograd framework\n",
    "        with torch.no_grad():\n",
    "            z = torch.tanh(x)\n",
    "            self.iterations = 0\n",
    "            while self.iterations < self.max_iter:\n",
    "                z_linear = self.linear(z) + x\n",
    "                g = z - torch.tanh(z_linear)\n",
    "                self.err = torch.norm(g)\n",
    "                if self.err < self.tol:\n",
    "                    break\n",
    "\n",
    "                # newton step\n",
    "                J = torch.eye(z.shape[1], device=self.device)[None,:,:] - (1 / torch.cosh(z_linear)**2)[:,:,None]*self.linear.weight[None,:,:]\n",
    "                z = z - torch.linalg.solve(J, g[:,:,None])[:,:,0]\n",
    "                self.iterations += 1\n",
    "    \n",
    "        # reengage autograd and add the gradient hook\n",
    "        z = torch.tanh(self.linear(z) + x)\n",
    "        z.register_hook(lambda grad : torch.linalg.solve(J.transpose(1,2), grad[:,:,None])[:,:,0])\n",
    "        return z\n",
    "    \n",
    "deqlayer = TanhNewtonImplicitLayer(3)\n",
    "x = torch.randn(10,3,requires_grad=True)\n",
    "out = deqlayer(x)\n",
    "out.sum().backward()\n",
    "print(x.grad)"
   ]
  }
 ],
 "metadata": {
  "kernelspec": {
   "display_name": "base",
   "language": "python",
   "name": "python3"
  },
  "language_info": {
   "codemirror_mode": {
    "name": "ipython",
    "version": 3
   },
   "file_extension": ".py",
   "mimetype": "text/x-python",
   "name": "python",
   "nbconvert_exporter": "python",
   "pygments_lexer": "ipython3",
   "version": "3.11.5"
  }
 },
 "nbformat": 4,
 "nbformat_minor": 2
}
