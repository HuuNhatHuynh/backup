{
 "cells": [
  {
   "cell_type": "code",
   "execution_count": 1,
   "metadata": {},
   "outputs": [],
   "source": [
    "import torch \n",
    "import matplotlib.pyplot as plt\n",
    "from math import sqrt\n",
    "\n",
    "from utils import *"
   ]
  },
  {
   "cell_type": "code",
   "execution_count": 2,
   "metadata": {},
   "outputs": [],
   "source": [
    "levels = [4, 4]\n",
    "m = sum(levels)\n",
    "lamda = 0.2\n",
    "min_distance = 0.1\n",
    "array = NestedArray1D(lamda, min_distance, levels)\n",
    "\n",
    "t = 4800\n",
    "d = 9\n",
    "snr = -10\n",
    "theta = torch.arange(-4, 5, 1) * torch.pi / 12\n",
    "\n",
    "sources_std = torch.eye(d, dtype=torch.complex64)\n",
    "noise_std = torch.sqrt(torch.sum(torch.diag(sources_std) ** 2)) * 10 ** (- snr / 20)\n",
    "\n",
    "X = array.get_steering_vector(theta) @ sources_std @ torch.randn(d, t, dtype=torch.complex64) / sqrt(2) \\\n",
    "  + noise_std * torch.randn(m, t, dtype=torch.complex64) / sqrt(2)\n",
    "\n",
    "cov = X @ X.T.conj() / t\n",
    "cov_vec = torch.flatten(cov)"
   ]
  },
  {
   "cell_type": "code",
   "execution_count": 3,
   "metadata": {},
   "outputs": [],
   "source": [
    "dist = torch.Tensor([i - j for i in array.pos for j in array.pos])\n",
    "vals, idx = torch.sort(dist)\n",
    "first_occurence_index = []\n",
    "min_idx = idx[0]\n",
    "\n",
    "for i in range(1, vals.shape[0]):\n",
    "    if vals[i] == vals[i - 1]:\n",
    "        min_idx = min(min_idx, idx[i])\n",
    "    else:\n",
    "        first_occurence_index.append(min_idx)\n",
    "        min_idx = idx[i]\n",
    "first_occurence_index.append(min_idx)\n",
    "\n",
    "first_occurence_index = torch.stack(first_occurence_index)\n",
    "z = cov_vec[first_occurence_index]"
   ]
  },
  {
   "cell_type": "code",
   "execution_count": 4,
   "metadata": {},
   "outputs": [],
   "source": [
    "# dist = torch.Tensor([i - j for i in array.pos for j in array.pos])\n",
    "# vals, idx = torch.sort(dist)\n",
    "# z = []\n",
    "\n",
    "# for i in range(vals.shape[0]):\n",
    "#     if i == 0:\n",
    "#         z.append(cov_vec[idx[0]])\n",
    "#         count = 1\n",
    "#         continue\n",
    "#     if vals[i] == vals[i - 1]:\n",
    "#         z[-1] += cov_vec[idx[i]]\n",
    "#         count += 1\n",
    "#     else:\n",
    "#         z[-1] /= count \n",
    "#         count = 1\n",
    "#         z.append(cov_vec[idx[i]])\n",
    "#     if i == vals.shape[0] - 1:\n",
    "#         z[-1] /= count\n",
    "\n",
    "# z = torch.stack(z)"
   ]
  },
  {
   "cell_type": "code",
   "execution_count": 5,
   "metadata": {},
   "outputs": [],
   "source": [
    "len_subarray = array.pos[-1] - array.pos[0] + 1\n",
    "\n",
    "coarray = ULA(lamda, min_distance, len_subarray)\n",
    "coarray.build_array_manifold()\n",
    "\n",
    "Rs = torch.zeros(len_subarray, len_subarray, dtype=torch.complex64)\n",
    "for i in range(len_subarray):\n",
    "    Rs += z[i : i + len_subarray].reshape(-1, 1) @ z[i : i + len_subarray].conj().reshape(1, -1)\n",
    "\n",
    "Rs = Rs / sqrt(len_subarray)\n",
    "\n",
    "vals, vecs = torch.linalg.eigh(Rs)\n",
    "En = vecs[:, :(len_subarray - d)]\n",
    "spectrum = 1 / torch.norm(En.T.conj() @ coarray.array_manifold, dim=0) ** 2"
   ]
  },
  {
   "cell_type": "code",
   "execution_count": 6,
   "metadata": {},
   "outputs": [
    {
     "data": {
      "image/png": "[encoded data removed]",
      "text/plain": [
       "<Figure size 640x480 with 1 Axes>"
      ]
     },
     "metadata": {},
     "output_type": "display_data"
    }
   ],
   "source": [
    "plt.plot(coarray.angles_spectrum, spectrum, linewidth=0.8, color='blue');\n",
    "plt.vlines(theta, ymin=0, ymax=torch.max(spectrum), linewidth=0.8, color='red');"
   ]
  }
 ],
 "metadata": {
  "kernelspec": {
   "display_name": "base",
   "language": "python",
   "name": "python3"
  },
  "language_info": {
   "codemirror_mode": {
    "name": "ipython",
    "version": 3
   },
   "file_extension": ".py",
   "mimetype": "text/x-python",
   "name": "python",
   "nbconvert_exporter": "python",
   "pygments_lexer": "ipython3",
   "version": "3.11.5"
  }
 },
 "nbformat": 4,
 "nbformat_minor": 2
}
