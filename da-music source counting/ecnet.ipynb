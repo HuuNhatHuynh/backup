{
 "cells": [
  {
   "cell_type": "code",
   "execution_count": null,
   "metadata": {},
   "outputs": [],
   "source": [
    "%load_ext autoreload\n",
    "%autoreload 2"
   ]
  },
  {
   "cell_type": "code",
   "execution_count": null,
   "metadata": {},
   "outputs": [],
   "source": [
    "import os\n",
    "\n",
    "import torch \n",
    "import torch.nn as nn\n",
    "\n",
    "from torch.utils.data import DataLoader\n",
    "from sklearn.model_selection import train_test_split\n",
    "\n",
    "from utils import *\n",
    "from models import *\n",
    "from tqdm import tqdm\n",
    "\n",
    "dev = torch.device(\"cuda\" if torch.cuda.is_available() else \"cpu\")"
   ]
  },
  {
   "cell_type": "code",
   "execution_count": null,
   "metadata": {},
   "outputs": [],
   "source": [
    "dmin = 2\n",
    "dmax = 5\n",
    "m = 8\n",
    "t = 100\n",
    "n = 50000\n",
    "SNRmin = -10\n",
    "SNRmax = -10\n",
    "lamda = 0.2\n",
    "distance = 0.1\n",
    "coherent = False\n",
    "\n",
    "lr = 1e-3\n",
    "wd = 1e-9\n",
    "nbEpoches = 200\n",
    "batchSize = 128\n",
    "\n",
    "array = ULA(m, lamda)\n",
    "array.build_array(distance)\n",
    "array.build_array_manifold()"
   ]
  },
  {
   "cell_type": "code",
   "execution_count": null,
   "metadata": {},
   "outputs": [],
   "source": [
    "observations, angles, labels = generate_data(n, t, dmin, dmax, SNRmin, SNRmax, array, coherent)\n",
    "\n",
    "x_train, x_valid, theta_train, theta_valid, label_train, label_valid = train_test_split(observations, angles, labels, test_size=0.2)\n",
    "x_train, x_test, theta_train, theta_test, label_train, label_test = train_test_split(x_train, theta_train, label_train, test_size=0.2)\n",
    "\n",
    "train_set = DATASET(x_train, theta_train, label_train)\n",
    "valid_set = DATASET(x_valid, theta_valid, label_valid)\n",
    "test_set = DATASET(x_test, theta_test, label_test)\n",
    "\n",
    "train_loader = DataLoader(train_set, batch_size=batchSize, shuffle=True)\n",
    "valid_loader = DataLoader(valid_set, batch_size=batchSize, shuffle=False)\n",
    "test_loader = DataLoader(test_set, batch_size=batchSize, shuffle=False)"
   ]
  },
  {
   "cell_type": "code",
   "execution_count": null,
   "metadata": {},
   "outputs": [],
   "source": [
    "model = ECNet(m=m, dmin=dmin, dmax=dmax,\n",
    "              nbLayers=10, nbNeurons=10, device=dev)\n",
    "\n",
    "optimizer = torch.optim.Adam(model.parameters(), lr=lr, weight_decay=wd)\n",
    "\n",
    "loss_func = nn.CrossEntropyLoss()\n",
    "\n",
    "Loss, Val = [], []\n",
    "\n",
    "bestVal = 0.0\n",
    "\n",
    "for i in tqdm(range(nbEpoches)):\n",
    "\n",
    "    running_loss = 0.0\n",
    "\n",
    "    for data in train_loader:\n",
    "        \n",
    "        X, label_true = data[0].to(dev), data[2].to(dev)\n",
    "        optimizer.zero_grad()\n",
    "        label_pred = model(X)\n",
    "        loss = loss_func(label_pred, label_true)\n",
    "        loss.backward()\n",
    "        optimizer.step()\n",
    "        running_loss += loss.item()\n",
    "    \n",
    "    Loss.append(running_loss/len(train_loader))\n",
    "\n",
    "    with torch.no_grad():\n",
    "\n",
    "        running_acc = 0.0\n",
    "\n",
    "        for data in valid_loader:\n",
    "            \n",
    "            X, label_true = data[0].to(dev), data[2].to(dev)\n",
    "            label_pred = model(X)\n",
    "            acc = (torch.argmax(label_pred, dim=1) == torch.argmax(label_true, dim=1)).float().mean()\n",
    "            running_acc += acc.item()\n",
    "        \n",
    "        Val.append(running_acc/len(valid_loader))\n",
    "\n",
    "        if Val[-1] > bestVal:\n",
    "            bestVal = Val[-1]\n",
    "            torch.save(model.state_dict(), \"ecnet.pth\")\n",
    "            count = 0\n",
    "        else:\n",
    "            count += 1\n",
    "\n",
    "        if count == 20:\n",
    "            model.load_state_dict(torch.load(\"ecnet.pth\", weights_only=True))\n",
    "\n",
    "\n",
    "    print(\"Iteration = {}, Loss = {}, Accuracy = {}\".format(i, Loss[-1], Val[-1]))"
   ]
  },
  {
   "cell_type": "code",
   "execution_count": null,
   "metadata": {},
   "outputs": [],
   "source": [
    "model = ECNet(m=m, dmin=dmin, dmax=dmax,\n",
    "              nbLayers=10, nbNeurons=10, device=dev)\n",
    "model.load_state_dict(torch.load(\"ecnet.pth\", weights_only=True))\n",
    "\n",
    "running_acc = 0.0\n",
    "\n",
    "for data in test_loader:\n",
    "\n",
    "    X, theta_true, label_true = data[0].to(dev), data[1].to(dev), data[2].to(dev)\n",
    "    label_pred = model(X)\n",
    "    acc = (torch.argmax(label_pred, dim=1) == torch.argmax(label_true, dim=1)).float().mean()\n",
    "    running_acc += acc.item()\n",
    "\n",
    "print(\"Accuracy of ECNet is {}%\".format(running_acc/len(test_loader)*100))"
   ]
  }
 ],
 "metadata": {
  "kernelspec": {
   "display_name": "base",
   "language": "python",
   "name": "python3"
  },
  "language_info": {
   "codemirror_mode": {
    "name": "ipython",
    "version": 3
   },
   "file_extension": ".py",
   "mimetype": "text/x-python",
   "name": "python",
   "nbconvert_exporter": "python",
   "pygments_lexer": "ipython3",
   "version": "3.12.7"
  }
 },
 "nbformat": 4,
 "nbformat_minor": 2
}
